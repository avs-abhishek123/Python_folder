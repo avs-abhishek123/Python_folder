{
  "nbformat": 4,
  "nbformat_minor": 0,
  "metadata": {
    "colab": {
      "name": "Need_Some_Change.ipynb",
      "provenance": []
    },
    "kernelspec": {
      "name": "python3",
      "display_name": "Python 3"
    },
    "language_info": {
      "name": "python"
    }
  },
  "cells": [
    {
      "cell_type": "code",
      "metadata": {
        "colab": {
          "base_uri": "https://localhost:8080/"
        },
        "id": "DfH22CraWibg",
        "outputId": "53273853-b637-415d-ce48-00b5ef22d45a"
      },
      "source": [
        "n = 5\n",
        "arr = [1,2,3,4,5]\n",
        "for i in range(0,n-2):\n",
        "    arr[i],arr[i+2]=arr[i+2],arr[i]\n",
        "print(arr)"
      ],
      "execution_count": 1,
      "outputs": [
        {
          "output_type": "stream",
          "text": [
            "[3, 4, 5, 2, 1]\n"
          ],
          "name": "stdout"
        }
      ]
    }
  ]
}