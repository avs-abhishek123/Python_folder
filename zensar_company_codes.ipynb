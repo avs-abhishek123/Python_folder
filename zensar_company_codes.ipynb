{
  "nbformat": 4,
  "nbformat_minor": 0,
  "metadata": {
    "colab": {
      "name": "zensar_company_codes.ipynb",
      "provenance": [],
      "collapsed_sections": []
    },
    "kernelspec": {
      "name": "python3",
      "display_name": "Python 3"
    },
    "language_info": {
      "name": "python"
    }
  },
  "cells": [
    {
      "cell_type": "markdown",
      "source": [
        "input1 \n",
        "* \"10/2\"\n",
        "\n",
        "output1\n",
        "* 5      \n",
        "* 20\n",
        "\n",
        "Explaination1\n",
        "* 10//2=5\n",
        "* recursive subtract till 0\n",
        "\n",
        "  * 10-2=8 sum=8\n",
        "\n",
        "  * 8-2=6 sum=6+8=14\n",
        "    \n",
        "    6-2=4 sum=14+4=18\n",
        "    \n",
        "    4-2=2 sum=18+2=20\n",
        "    \n",
        "    2-2=0 sum=20+0=20\n",
        "\n",
        "\n",
        "\n",
        "---\n",
        "\n",
        "\n",
        "input2 \n",
        "* \"10*4\"\n",
        "\n",
        "output2\n",
        "* 40      \n",
        "* 90\n",
        "\n",
        "Explaination2\n",
        "* 10*4=40\n",
        "* recursive add till 40(ans1)\n",
        "\n",
        "  * 10+10=20 sum=20\n",
        "\n",
        "  * 20+10=30 sum=20+30=50\n",
        "    \n",
        "    30+10=40 sum=50+40=90\n",
        " "
      ],
      "metadata": {
        "id": "EkWPnvAYnsn8"
      }
    },
    {
      "cell_type": "code",
      "execution_count": 14,
      "metadata": {
        "colab": {
          "base_uri": "https://localhost:8080/"
        },
        "id": "mDqwh-pFaOA4",
        "outputId": "7ce3eed9-0626-4da2-bb93-5cafcbff14da"
      },
      "outputs": [
        {
          "output_type": "stream",
          "name": "stdout",
          "text": [
            "(5, 20)\n"
          ]
        }
      ],
      "source": [
        "def solve(s):\n",
        "  div=\"/\"\n",
        "  mul=\"*\"\n",
        "  flag=0\n",
        "  ans1=0\n",
        "  sum=0\n",
        "  a=[]\n",
        "  if div in s:\n",
        "    a=s.split(\"/\")\n",
        "    flag=1\n",
        "  else:\n",
        "    a=s.split(\"*\")\n",
        "    flag=2\n",
        "  n1=int(a[0])\n",
        "  n2=int(a[1])\n",
        "  if flag==1:\n",
        "    ans1=n1//n2\n",
        "    a=n1\n",
        "    while a!=0:\n",
        "      a=a-n2\n",
        "      sum+=a\n",
        "  elif flag==2:\n",
        "    ans1=n1*n2\n",
        "    a=n1\n",
        "    while a!=ans1:\n",
        "      a=a+n1\n",
        "      sum+=a\n",
        "  return ans1,sum \n",
        "s=solve(\"10/2\")\n",
        "print(s)"
      ]
    },
    {
      "cell_type": "markdown",
      "source": [
        "\n",
        "\n",
        "---\n",
        "\n"
      ],
      "metadata": {
        "id": "RedCMUbPp4Vs"
      }
    },
    {
      "cell_type": "markdown",
      "source": [
        "COUNT THE NUMBERS IN THE LIST THAT ARE REPEATED ODD NUMBER OF TIMES"
      ],
      "metadata": {
        "id": "EtaO3uMQpy6G"
      }
    },
    {
      "cell_type": "code",
      "source": [
        "def countX(lst, x):\n",
        "    count = 0\n",
        "    for ele in lst:\n",
        "        if (ele == x):\n",
        "            count = count + 1\n",
        "    return count\n",
        "\n",
        "def x(arr,n):\n",
        "  sum=0\n",
        "  arr2=[]\n",
        "  arr2=list(set(arr))\n",
        "  for x in arr2:\n",
        "    count=countX(arr,x)\n",
        "    if count%2==0:\n",
        "      continue\n",
        "    else:\n",
        "      sum=sum+x*count\n",
        "  return sum\n",
        "arr=[11,11,12,12,13,13,13]\n",
        "n=7\n",
        "sum=x(arr,n)\n",
        "print(sum)"
      ],
      "metadata": {
        "colab": {
          "base_uri": "https://localhost:8080/"
        },
        "id": "01m95AhKdbU1",
        "outputId": "bfe3b266-7f3b-4ba7-8944-5e5bdf763982"
      },
      "execution_count": 16,
      "outputs": [
        {
          "output_type": "stream",
          "name": "stdout",
          "text": [
            "39\n"
          ]
        }
      ]
    },
    {
      "cell_type": "code",
      "source": [
        ""
      ],
      "metadata": {
        "id": "CtP3gErfkUDN"
      },
      "execution_count": null,
      "outputs": []
    }
  ]
}