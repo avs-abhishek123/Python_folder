{
  "nbformat": 4,
  "nbformat_minor": 0,
  "metadata": {
    "colab": {
      "name": "Bitonic_Point.ipynb",
      "provenance": []
    },
    "kernelspec": {
      "name": "python3",
      "display_name": "Python 3"
    },
    "language_info": {
      "name": "python"
    }
  },
  "cells": [
    {
      "cell_type": "code",
      "metadata": {
        "colab": {
          "base_uri": "https://localhost:8080/"
        },
        "id": "qzQpYFP6DcDN",
        "outputId": "d0dd1a9d-6078-469a-87cb-cfb4538e98c8"
      },
      "source": [
        "arr=[1,4,76,32,6,76,78,7,8,4,63,5,345,2353]\n",
        "n=len(arr)\n",
        "max=0\n",
        "for i in range(n):\n",
        "    if arr[i]>max:\n",
        "        max=arr[i]\n",
        "print(max)"
      ],
      "execution_count": 1,
      "outputs": [
        {
          "output_type": "stream",
          "text": [
            "2353\n"
          ],
          "name": "stdout"
        }
      ]
    }
  ]
}