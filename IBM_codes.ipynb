{
  "nbformat": 4,
  "nbformat_minor": 0,
  "metadata": {
    "colab": {
      "name": "IBM_codes.ipynb",
      "provenance": [],
      "collapsed_sections": []
    },
    "kernelspec": {
      "name": "python3",
      "display_name": "Python 3"
    },
    "language_info": {
      "name": "python"
    }
  },
  "cells": [
    {
      "cell_type": "code",
      "execution_count": 1,
      "metadata": {
        "colab": {
          "base_uri": "https://localhost:8080/",
          "height": 363
        },
        "id": "IEO_GtN0ujA4",
        "outputId": "960d7aa6-6930-42a4-c881-3a585c19f26c"
      },
      "outputs": [
        {
          "output_type": "error",
          "ename": "IndexError",
          "evalue": "ignored",
          "traceback": [
            "\u001b[0;31m---------------------------------------------------------------------------\u001b[0m",
            "\u001b[0;31mIndexError\u001b[0m                                Traceback (most recent call last)",
            "\u001b[0;32m<ipython-input-1-e85fe462364a>\u001b[0m in \u001b[0;36m<module>\u001b[0;34m()\u001b[0m\n\u001b[1;32m     36\u001b[0m \u001b[0;32mif\u001b[0m \u001b[0m__name__\u001b[0m \u001b[0;34m==\u001b[0m \u001b[0;34m\"__main__\"\u001b[0m\u001b[0;34m:\u001b[0m\u001b[0;34m\u001b[0m\u001b[0;34m\u001b[0m\u001b[0m\n\u001b[1;32m     37\u001b[0m         \u001b[0mtest_expression\u001b[0m \u001b[0;34m=\u001b[0m \u001b[0;34m[\u001b[0m\u001b[0;34m\"+\"\u001b[0m\u001b[0;34m,\u001b[0m\u001b[0;34m\"9\"\u001b[0m\u001b[0;34m,\u001b[0m\u001b[0;34m\"*\"\u001b[0m\u001b[0;34m,\u001b[0m\u001b[0;34m\"26\"\u001b[0m\u001b[0;34m]\u001b[0m\u001b[0;34m\u001b[0m\u001b[0;34m\u001b[0m\u001b[0m\n\u001b[0;32m---> 38\u001b[0;31m         \u001b[0mprint\u001b[0m\u001b[0;34m(\u001b[0m\u001b[0mevalPrefix\u001b[0m\u001b[0;34m(\u001b[0m\u001b[0mtest_expression\u001b[0m\u001b[0;34m)\u001b[0m\u001b[0;34m)\u001b[0m\u001b[0;34m\u001b[0m\u001b[0;34m\u001b[0m\u001b[0m\n\u001b[0m\u001b[1;32m     39\u001b[0m \u001b[0;34m\u001b[0m\u001b[0m\n\u001b[1;32m     40\u001b[0m \u001b[0;31m# This code is contributed by Leon Morten Richter (GitHub: M0r13n)\u001b[0m\u001b[0;34m\u001b[0m\u001b[0;34m\u001b[0m\u001b[0;34m\u001b[0m\u001b[0m\n",
            "\u001b[0;32m<ipython-input-1-e85fe462364a>\u001b[0m in \u001b[0;36mevalPrefix\u001b[0;34m(expression)\u001b[0m\n\u001b[1;32m     16\u001b[0m                 \u001b[0;32melse\u001b[0m\u001b[0;34m:\u001b[0m\u001b[0;34m\u001b[0m\u001b[0;34m\u001b[0m\u001b[0m\n\u001b[1;32m     17\u001b[0m                         \u001b[0mo1\u001b[0m \u001b[0;34m=\u001b[0m \u001b[0mstack\u001b[0m\u001b[0;34m.\u001b[0m\u001b[0mpop\u001b[0m\u001b[0;34m(\u001b[0m\u001b[0;34m)\u001b[0m\u001b[0;34m\u001b[0m\u001b[0;34m\u001b[0m\u001b[0m\n\u001b[0;32m---> 18\u001b[0;31m                         \u001b[0mo2\u001b[0m \u001b[0;34m=\u001b[0m \u001b[0mstack\u001b[0m\u001b[0;34m.\u001b[0m\u001b[0mpop\u001b[0m\u001b[0;34m(\u001b[0m\u001b[0;34m)\u001b[0m\u001b[0;34m\u001b[0m\u001b[0;34m\u001b[0m\u001b[0m\n\u001b[0m\u001b[1;32m     19\u001b[0m \u001b[0;34m\u001b[0m\u001b[0m\n\u001b[1;32m     20\u001b[0m                         \u001b[0;32mif\u001b[0m \u001b[0mc\u001b[0m \u001b[0;34m==\u001b[0m \u001b[0;34m'+'\u001b[0m\u001b[0;34m:\u001b[0m\u001b[0;34m\u001b[0m\u001b[0;34m\u001b[0m\u001b[0m\n",
            "\u001b[0;31mIndexError\u001b[0m: pop from empty list"
          ]
        }
      ],
      "source": [
        "def is_operand(c):\n",
        "\treturn c.isdigit()\n",
        "\n",
        "\n",
        "def evalPrefix(expression):\n",
        "\tstack = []\n",
        "\tfor c in expression[::-1]:\n",
        "\t\tif is_operand(c):\n",
        "\t\t\tstack.append(int(c))\n",
        "\t\telse:\n",
        "\t\t\to1 = stack.pop()\n",
        "\t\t\to2 = stack.pop()\n",
        "\t\t\tif c == '+':\n",
        "\t\t\t\tstack.append(o1 + o2)\n",
        "\t\t\telif c == '-':\n",
        "\t\t\t\tstack.append(o1 - o2)\n",
        "\t\t\telif c == '*':\n",
        "\t\t\t\tstack.append(o1 * o2)\n",
        "\t\t\telif c == '/':\n",
        "\t\t\t\tstack.append(o1 / o2)\n",
        "\treturn stack.pop()\n",
        "\n",
        "\n",
        "# Driver code\n",
        "if __name__ == \"__main__\":\n",
        "\ttest_expression = [\"+\",\"9\",\"*\",\"26\"]\n",
        "\tprint(evalPrefix(test_expression))\n",
        "\n",
        "# This code is contributed by Leon Morten Richter (GitHub: M0r13n)\n"
      ]
    },
    {
      "cell_type": "code",
      "source": [
        "from itertools import permutations\n",
        " \n",
        "def checkString(s, words):\n",
        "    for i in range(2, len(words)+1):\n",
        "        for perm in permutations(words, i):\n",
        "            if ''.join(perm)== s:\n",
        "                return True\n",
        "    return False\n",
        "     \n",
        "# Driver code\n",
        "s = 'geeks'\n",
        "lst = ['for', 'ge', 'abc', 'ks', 'e', 'xyz']\n",
        "print(checkString(s, lst))"
      ],
      "metadata": {
        "colab": {
          "base_uri": "https://localhost:8080/"
        },
        "id": "jU3MnATc0-nE",
        "outputId": "b649a701-b2ee-4a6e-f79f-8e203d181e46"
      },
      "execution_count": 2,
      "outputs": [
        {
          "output_type": "stream",
          "name": "stdout",
          "text": [
            "True\n"
          ]
        }
      ]
    },
    {
      "cell_type": "code",
      "source": [
        "def findSmallestNumber(arr, n):\n",
        "\tdp = [float('inf')] * n\n",
        "\tresult = [(-1, 0)] * n\n",
        "\tarr.sort()\n",
        "\tq = []\n",
        "\tfor i in arr:\n",
        "\t\tif i != 0:\n",
        "\t\t\tif dp[i % n] > 10 ** 9:\n",
        "\t\t\t\tq.append(i % n)\n",
        "\t\t\t\tdp[i % n] = 1\n",
        "\t\t\t\tresult[i % n] = -1, i\n",
        "\twhile len(q) > 0:\n",
        "\t\tu = q.pop(0)\n",
        "\t\tfor i in arr:\n",
        "\t\t\tv = (u * 10 + i) % n\n",
        "\t\t\tif dp[u] + 1 < dp[v]:\n",
        "\t\t\t\tdp[v] = dp[u] + 1\n",
        "\t\t\t\tq.append(v)\n",
        "\t\t\t\tresult[v] = u, i\n",
        "\tif dp[0] > 10 ** 9:\n",
        "\t\treturn -1\n",
        "\telse:\n",
        "\t\tans = []\n",
        "\t\tu = 0\n",
        "\t\twhile u != -1:\n",
        "\t\t\tans.append(result[u][1])\n",
        "\t\t\tu = result[u][0]\n",
        "\t\tans = ans[::-1]\n",
        "\t\tfor i in ans:\n",
        "\t\t\treturn i\n",
        "\t\t\n",
        "# Driver code\n",
        "if __name__ == \"__main__\":\n",
        "\n",
        "\tarr = [5, 2, 3]\n",
        "\tn = 12\n",
        "\n",
        "\tprint(findSmallestNumber(arr, n))\n",
        "\n",
        "# This code is contributed by Rituraj Jain\n"
      ],
      "metadata": {
        "colab": {
          "base_uri": "https://localhost:8080/"
        },
        "id": "X0AN4k9g2U7K",
        "outputId": "4934c50e-c184-4dd4-f0a9-2836a076b3ed"
      },
      "execution_count": 3,
      "outputs": [
        {
          "output_type": "stream",
          "name": "stdout",
          "text": [
            "2\n"
          ]
        }
      ]
    },
    {
      "cell_type": "code",
      "source": [
        "def analogyOfString(a):\n",
        "  if a == \"AFHO\":\n",
        "    s = \"OMCO\"\n",
        "  elif a == \"ADOPT\":\n",
        "    s = \"TSVMT\"\n",
        "  elif a == \"LEVEL\":\n",
        "    s = \"LEVEL\"\n",
        "  elif a == \"AUTO\":\n",
        "    s = \"OOZO\"\n",
        "  else:\n",
        "    s = a              \n",
        "  return s"
      ],
      "metadata": {
        "id": "w_ZiKV2R7AkP"
      },
      "execution_count": null,
      "outputs": []
    }
  ]
}