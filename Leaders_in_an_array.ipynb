{
  "nbformat": 4,
  "nbformat_minor": 0,
  "metadata": {
    "colab": {
      "name": "Leaders_in_an_array.ipynb",
      "provenance": []
    },
    "kernelspec": {
      "name": "python3",
      "display_name": "Python 3"
    },
    "language_info": {
      "name": "python"
    }
  },
  "cells": [
    {
      "cell_type": "code",
      "metadata": {
        "colab": {
          "base_uri": "https://localhost:8080/"
        },
        "id": "-CxsP19vWN5j",
        "outputId": "f25a2647-a3f5-4394-f6e5-57b8a094dbf6"
      },
      "source": [
        "A=[12,43,5,7,22]\n",
        "N=5\n",
        "maxxy=A[N-1]\n",
        "l=[]\n",
        "l.append(maxxy)\n",
        "for i in range(N-2,-1,-1):\n",
        "    if A[i]>=maxxy:\n",
        "        maxxy=A[i]\n",
        "        l.append(A[i])\n",
        "result=l[::-1]\n",
        "print(result)"
      ],
      "execution_count": 1,
      "outputs": [
        {
          "output_type": "stream",
          "text": [
            "[43, 22]\n"
          ],
          "name": "stdout"
        }
      ]
    }
  ]
}