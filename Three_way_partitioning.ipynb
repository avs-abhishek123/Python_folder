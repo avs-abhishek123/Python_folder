{
  "nbformat": 4,
  "nbformat_minor": 0,
  "metadata": {
    "colab": {
      "name": "Three_way_partitioning.ipynb",
      "provenance": []
    },
    "kernelspec": {
      "name": "python3",
      "display_name": "Python 3"
    },
    "language_info": {
      "name": "python"
    }
  },
  "cells": [
    {
      "cell_type": "code",
      "metadata": {
        "colab": {
          "base_uri": "https://localhost:8080/"
        },
        "id": "HcD6EbKLLN2x",
        "outputId": "9f1806e5-517f-4782-9615-9a8e35d73f71"
      },
      "source": [
        "n = 5\n",
        "arr = [1, 2, 3, 3, 4]\n",
        "a = 1\n",
        "b = 2\n",
        "l,m,h = 0,0,n-1\n",
        "while m<=h:\n",
        "    if arr[m]<a: \n",
        "        arr[l],arr[m]=arr[m],arr[l] \n",
        "        l+=1 \n",
        "        m+=1 \n",
        "    elif arr[m]>b:\n",
        "        arr[m],arr[h] = arr[h],arr[m]\n",
        "        h-=1\n",
        "    else:\n",
        "        m+=1\n",
        "print(arr)"
      ],
      "execution_count": 3,
      "outputs": [
        {
          "output_type": "stream",
          "text": [
            "[1, 2, 3, 4, 3]\n"
          ],
          "name": "stdout"
        }
      ]
    }
  ]
}