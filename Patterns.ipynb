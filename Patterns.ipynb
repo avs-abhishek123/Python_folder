{
  "nbformat": 4,
  "nbformat_minor": 0,
  "metadata": {
    "colab": {
      "name": "Patterns.ipynb",
      "provenance": [],
      "collapsed_sections": []
    },
    "kernelspec": {
      "name": "python3",
      "display_name": "Python 3"
    },
    "language_info": {
      "name": "python"
    }
  },
  "cells": [
    {
      "cell_type": "code",
      "metadata": {
        "id": "DL3t8su7XX1-"
      },
      "source": [
        "'''1  \n",
        "\n",
        "2 2  \n",
        "\n",
        "3 3 3  \n",
        "\n",
        "4 4 4 4  \n",
        "\n",
        "5 5 5 5 5'''\n",
        "\n",
        "#single"
      ],
      "execution_count": null,
      "outputs": []
    },
    {
      "cell_type": "markdown",
      "metadata": {
        "id": "Qtpr2qZ2ahcO"
      },
      "source": [
        "n=10\n",
        "#for i in range(n) [i = 0 to n-1]"
      ]
    },
    {
      "cell_type": "code",
      "metadata": {
        "colab": {
          "base_uri": "https://localhost:8080/"
        },
        "id": "lcPxnBlwatvI",
        "outputId": "49b89a0d-fde3-40e5-cc37-9cab28247f84"
      },
      "source": [
        "n=10\n",
        "for i in range (10):\n",
        "  print(i, end =\" \")"
      ],
      "execution_count": 7,
      "outputs": [
        {
          "output_type": "stream",
          "text": [
            "0 1 2 3 4 5 6 7 8 9 "
          ],
          "name": "stdout"
        }
      ]
    },
    {
      "cell_type": "code",
      "metadata": {
        "colab": {
          "base_uri": "https://localhost:8080/"
        },
        "id": "PJ_h9rHabFx0",
        "outputId": "38f4bc36-bebd-4433-bd01-a48942fa9ea3"
      },
      "source": [
        "rows = 6\n",
        "#0,n-1\n",
        "for num in range(6):\n",
        "    # num=0, rows=0\n",
        "    # num=1, rows=1\n",
        "    # num=2, rows=2\n",
        "    # num=3, rows=3\n",
        "    # num=4, rows=4    \n",
        "    # num=5, rows=5\n",
        "    #print(num,\"\\n\") \n",
        "\n",
        "    for i in range(num):\n",
        "      # num=0, i=0\n",
        "      # num=1, i=0\n",
        "      # num=2, i=0,1\n",
        "      # num=3, i=0,1,2\n",
        "      # num=4, i=0,1,2,3\n",
        "      # num=5, i=0,1,2,3,4\n",
        "        print(num, end=\" \") # print number\n",
        " \n",
        "    # line after each row to display pattern correctly\n",
        "\n",
        "    print(\" \")"
      ],
      "execution_count": 26,
      "outputs": [
        {
          "output_type": "stream",
          "text": [
            " \n",
            "1  \n",
            "2 2  \n",
            "3 3 3  \n",
            "4 4 4 4  \n",
            "5 5 5 5 5  \n"
          ],
          "name": "stdout"
        }
      ]
    },
    {
      "cell_type": "markdown",
      "metadata": {
        "id": "whmRSuQTgE1E"
      },
      "source": [
        "1 1 1 1 1 \n",
        "\n",
        "2 2 2 2 \n",
        "\n",
        "3 3 3 \n",
        "\n",
        "4 4 \n",
        "\n",
        "5"
      ]
    },
    {
      "cell_type": "code",
      "metadata": {
        "colab": {
          "base_uri": "https://localhost:8080/"
        },
        "id": "GzceDICogD2U",
        "outputId": "25d6caea-5187-4eba-eddc-8d2e3643528c"
      },
      "source": [
        "rows = 5\n",
        "\n",
        "b = 0\n",
        "# for i in range (initial value,final value, difference)\n",
        "for i in range(rows, 0, -1):\n",
        "\n",
        "    b += 1\n",
        "\n",
        "    for j in range(1, i + 1) \n",
        "        print(b, end=\" \")\n",
        "    print(\"\\r\")"
      ],
      "execution_count": 28,
      "outputs": [
        {
          "output_type": "stream",
          "text": [
            "1 1 1 1 1 \r\n",
            "2 2 2 2 \r\n",
            "3 3 3 \r\n",
            "4 4 \r\n",
            "5 \r\n"
          ],
          "name": "stdout"
        }
      ]
    },
    {
      "cell_type": "code",
      "metadata": {
        "colab": {
          "base_uri": "https://localhost:8080/"
        },
        "id": "10l4y8o6fjgK",
        "outputId": "9f21b5cf-c9e5-4fbb-8c95-513b001954b2"
      },
      "source": [
        "# for i in range (initial value,final value, difference)\n",
        "for i in range(0, 10, 2):\n",
        "  print(i)\n",
        "print(\" \")\n",
        "for i in range(0, 10, 1):\n",
        "  print(i)"
      ],
      "execution_count": 32,
      "outputs": [
        {
          "output_type": "stream",
          "text": [
            "0\n",
            "2\n",
            "4\n",
            "6\n",
            "8\n",
            " \n",
            "0\n",
            "1\n",
            "2\n",
            "3\n",
            "4\n",
            "5\n",
            "6\n",
            "7\n",
            "8\n",
            "9\n"
          ],
          "name": "stdout"
        }
      ]
    },
    {
      "cell_type": "markdown",
      "metadata": {
        "id": "GJnUcJsji9RV"
      },
      "source": [
        "5 5 5 5 5 \n",
        "\n",
        "4 4 4 4 \n",
        "\n",
        "3 3 3 \n",
        "\n",
        "2 2 \n",
        "\n",
        "1"
      ]
    },
    {
      "cell_type": "code",
      "metadata": {
        "colab": {
          "base_uri": "https://localhost:8080/"
        },
        "id": "VpDBMjuCi4Or",
        "outputId": "2f5c0d95-83a2-4dae-c3ab-62f1b49a6846"
      },
      "source": [
        "rows =5\n",
        "for num in range(rows,0,-1):\n",
        "  for i in range(num):\n",
        "    print(num,end=\" \")\n",
        "  print(\" \")"
      ],
      "execution_count": 45,
      "outputs": [
        {
          "output_type": "stream",
          "text": [
            "5 5 5 5 5  \n",
            "5 5 5 5  \n",
            "5 5 5  \n",
            "5 5  \n",
            "5  \n"
          ],
          "name": "stdout"
        }
      ]
    },
    {
      "cell_type": "markdown",
      "metadata": {
        "id": "d2YaKov-lJ-P"
      },
      "source": [
        "5 5 5 5 5 \n",
        "\n",
        "5 5 5 5 \n",
        "\n",
        "5 5 5 \n",
        "\n",
        "5 5 \n",
        "\n",
        "5"
      ]
    },
    {
      "cell_type": "code",
      "metadata": {
        "colab": {
          "base_uri": "https://localhost:8080/"
        },
        "id": "m8DXy8GFlLyY",
        "outputId": "0399cc58-5bf0-40f3-a466-575c462929bf"
      },
      "source": [
        "rows =5\n",
        "for num in range(rows,0,-1):\n",
        "  for i in range(num):\n",
        "    print(rows,end=\" \")\n",
        "  print(\" \")"
      ],
      "execution_count": 38,
      "outputs": [
        {
          "output_type": "stream",
          "text": [
            "5 5 5 5 5  \n",
            "5 5 5 5  \n",
            "5 5 5  \n",
            "5 5  \n",
            "5  \n"
          ],
          "name": "stdout"
        }
      ]
    },
    {
      "cell_type": "markdown",
      "metadata": {
        "id": "DO68cVIylVFV"
      },
      "source": [
        "1 \n",
        "\n",
        "2 1 \n",
        "\n",
        "3 2 1 \n",
        "\n",
        "4 3 2 1 \n",
        "\n",
        "5 4 3 2 1"
      ]
    },
    {
      "cell_type": "code",
      "metadata": {
        "colab": {
          "base_uri": "https://localhost:8080/"
        },
        "id": "ArztLNd7lV4P",
        "outputId": "42b4dbd0-6d64-4cf2-a10c-3f7710dc58d5"
      },
      "source": [
        "rows = 6\n",
        "for row in range(1, rows):\n",
        "\n",
        "    for column in range(row, 0, -1):\n",
        "        print(column, end=\" \")\n",
        "    print(\" \")"
      ],
      "execution_count": 47,
      "outputs": [
        {
          "output_type": "stream",
          "text": [
            "1  \n",
            "2 1  \n",
            "3 2 1  \n",
            "4 3 2 1  \n",
            "5 4 3 2 1  \n"
          ],
          "name": "stdout"
        }
      ]
    },
    {
      "cell_type": "markdown",
      "metadata": {
        "id": "oJfq3CQYlmGs"
      },
      "source": [
        "0 1 2 3 4 5 \n",
        "\n",
        "0 1 2 3 4 \n",
        "\n",
        "0 1 2 3 \n",
        "\n",
        "0 1 2 \n",
        "\n",
        "0 1"
      ]
    },
    {
      "cell_type": "code",
      "metadata": {
        "colab": {
          "base_uri": "https://localhost:8080/"
        },
        "id": "D-kIKcDqlm6-",
        "outputId": "aefd0ae5-f189-4ea2-db23-d40dd7f3d345"
      },
      "source": [
        "rows = 5\n",
        "\n",
        "for i in range(rows, 0, -1):\n",
        "    for j in range(0, i + 1):\n",
        "\n",
        "        print(j, end=\" \")\n",
        "\n",
        "    print(\"\\r\")"
      ],
      "execution_count": 49,
      "outputs": [
        {
          "output_type": "stream",
          "text": [
            "0 1 2 3 4 5 \r\n",
            "0 1 2 3 4 \r\n",
            "0 1 2 3 \r\n",
            "0 1 2 \r\n",
            "0 1 \r\n"
          ],
          "name": "stdout"
        }
      ]
    },
    {
      "cell_type": "markdown",
      "metadata": {
        "id": "sEoBwhHNlzhg"
      },
      "source": [
        "1 \n",
        "\n",
        "2 3 4 \n",
        "\n",
        "5 6 7 8 9"
      ]
    },
    {
      "cell_type": "code",
      "metadata": {
        "colab": {
          "base_uri": "https://localhost:8080/"
        },
        "id": "3zuU5fFtl1TZ",
        "outputId": "39d9b569-33b5-48e6-9e6f-37a7fe3af7ae"
      },
      "source": [
        "currentNumber = 1\n",
        "\n",
        "stop = 2\n",
        "\n",
        "rows = 3 # Rows you want in your pattern\n",
        "\n",
        "for i in range(rows):\n",
        "0,\n",
        "1,\n",
        "2\n",
        "    for column in range(1, stop): 1,2,3,4,5\n",
        "1,2\n",
        "1\n",
        "        print(currentNumber, end=\" \")\n",
        "\n",
        "        currentNumber += 1#2\n",
        "\n",
        "    print(\" \")\n",
        "\n",
        "    stop += 2\n",
        "    4\n",
        "    6"
      ],
      "execution_count": 57,
      "outputs": [
        {
          "output_type": "stream",
          "text": [
            "1  \n",
            "2 3 4  \n",
            "5 6 7 8 9  \n"
          ],
          "name": "stdout"
        }
      ]
    },
    {
      "cell_type": "markdown",
      "metadata": {
        "id": "RNxC_Kgbq5zl"
      },
      "source": [
        "1\n",
        "\n",
        "3 2\n",
        "\n",
        "6 5 4\n",
        "\n",
        "10 9 8 7"
      ]
    },
    {
      "cell_type": "code",
      "metadata": {
        "colab": {
          "base_uri": "https://localhost:8080/"
        },
        "id": "UVwQHF9sq64s",
        "outputId": "22275fe6-94b2-4832-d9c7-6663557e8108"
      },
      "source": [
        "start = 1\n",
        "stop = 2\n",
        "currentNumber = stop\n",
        "\n",
        "for row in range(2, 6): \n",
        "    for col in range(start, stop):\n",
        "\n",
        "        currentNumber -= 1 \n",
        "        print(currentNumber, end=\" \")\n",
        "\n",
        "    print(\" \")\n",
        "\n",
        "    start = stop \n",
        "\n",
        "    stop += row \n",
        "    currentNumber = stop"
      ],
      "execution_count": 62,
      "outputs": [
        {
          "output_type": "stream",
          "text": [
            "1  \n",
            "3 2  \n",
            "6 5 4  \n",
            "10 9 8 7  \n"
          ],
          "name": "stdout"
        }
      ]
    },
    {
      "cell_type": "markdown",
      "metadata": {
        "id": "ZqhdqHoQugSw"
      },
      "source": [
        "1 \n",
        "\n",
        "1 2 1 \n",
        "\n",
        "1 2 3 2 1 \n",
        "\n",
        "1 2 3 4 3 2 1 \n",
        "\n",
        "1 2 3 4 5 4 3 2 1"
      ]
    },
    {
      "cell_type": "code",
      "metadata": {
        "colab": {
          "base_uri": "https://localhost:8080/"
        },
        "id": "CpuOmnI5ufmG",
        "outputId": "dfadc315-c5c4-4a96-f934-00722352de85"
      },
      "source": [
        "start = 1\n",
        "stop = 2\n",
        "current_item=1\n",
        "rows = 5\n",
        "\n",
        "for row in range(rows):\n",
        "\n",
        "  for col in range(start,stop):\n",
        "\n",
        "    print(current_item, end=\" \")\n",
        "\n",
        "\n",
        "\n",
        "  print(\" \")\n",
        "  current_item=start\n",
        "  stop+=2"
      ],
      "execution_count": 79,
      "outputs": [
        {
          "output_type": "stream",
          "text": [
            "1  \n",
            "1 1 1  \n",
            "1 1 1 1 1  \n",
            "1 1 1 1 1 1 1  \n",
            "1 1 1 1 1 1 1 1 1  \n"
          ],
          "name": "stdout"
        }
      ]
    },
    {
      "cell_type": "code",
      "metadata": {
        "colab": {
          "base_uri": "https://localhost:8080/"
        },
        "id": "HuuyfMA0wOMs",
        "outputId": "a183e5c9-9220-4aae-9e33-8f8c7ac15f8f"
      },
      "source": [
        "start = 1\n",
        "stop = 2\n",
        "current_item=1\n",
        "rows = 5\n",
        "\n",
        "for row in range(rows):\n",
        "\n",
        "  for col in range(start,stop):1,2,3\n",
        "    print(current_item, end=\" \")\n",
        "    for i in range(col,):\n",
        "      \n",
        "\n",
        "        \n",
        "        print(current_item, end=\" \")\n",
        "  print(\" \")\n",
        "  current_item=start\n",
        "  stop+=2   4"
      ],
      "execution_count": 81,
      "outputs": [
        {
          "output_type": "stream",
          "text": [
            "1  \n",
            "1 1 1  \n",
            "1 1 1 1 1  \n",
            "1 1 1 1 1 1 1  \n",
            "1 1 1 1 1 1 1 1 1  \n"
          ],
          "name": "stdout"
        }
      ]
    },
    {
      "cell_type": "code",
      "metadata": {
        "colab": {
          "base_uri": "https://localhost:8080/"
        },
        "id": "IVWlYCMDzY1n",
        "outputId": "b04cd9fc-607d-4f9a-b658-caded0424d44"
      },
      "source": [
        "rows =6\n",
        "for i in range(1, rows + 1):\n",
        "  for j in range(1, i-1):\n",
        "    print(j, end=\" \")\n",
        "    for j in range(i -1, 0,-1):\n",
        "      print(j, end=\" \")\n",
        "  print(\" \")"
      ],
      "execution_count": 86,
      "outputs": [
        {
          "output_type": "stream",
          "text": [
            " \n",
            " \n",
            "1 2 1  \n",
            "1 3 2 1 2 3 2 1  \n",
            "1 4 3 2 1 2 4 3 2 1 3 4 3 2 1  \n"
          ],
          "name": "stdout"
        }
      ]
    },
    {
      "cell_type": "code",
      "metadata": {
        "colab": {
          "base_uri": "https://localhost:8080/"
        },
        "id": "NF-Xtl4z0T83",
        "outputId": "02f9b39f-1b4e-4f25-c065-5d305bc909bb"
      },
      "source": [
        "rows = 6\n",
        "\n",
        "for i in range(1, rows + 1): \n",
        "    for j in range(1, i -1):\n",
        "        print(j, end=\" \")\n",
        "\n",
        "    for j in range(i -1, 0, -1):\n",
        "        print(j, end=\" \")\n",
        "\n",
        "    print(\" \")"
      ],
      "execution_count": 1,
      "outputs": [
        {
          "output_type": "stream",
          "text": [
            " \n",
            "1  \n",
            "1 2 1  \n",
            "1 2 3 2 1  \n",
            "1 2 3 4 3 2 1  \n",
            "1 2 3 4 5 4 3 2 1  \n"
          ],
          "name": "stdout"
        }
      ]
    },
    {
      "cell_type": "markdown",
      "metadata": {
        "id": "-Hvm12O614VU"
      },
      "source": [
        "5 4 3 2 1 1 2 3 4 5 \n",
        "\n",
        "5 4 3 2 2 3 4 5 \n",
        "\n",
        "5 4 3 3 4 5 \n",
        "\n",
        "5 4 4 5 \n",
        "\n",
        "5 5"
      ]
    },
    {
      "cell_type": "code",
      "metadata": {
        "colab": {
          "base_uri": "https://localhost:8080/"
        },
        "id": "b7bWD6IK15Oh",
        "outputId": "1c329f48-4e30-4f84-f8ca-8cf2f288a033"
      },
      "source": [
        "rows = 5\n",
        "\n",
        "for i in range(rows,0,-1):  \n",
        "    for j in range( i,1):\n",
        "        print(j, end=\" \")\n",
        "\n",
        "    for j in range(i , 0, -1):\n",
        "        print(j, end=\" \")\n",
        "\n",
        "    print(\" \")"
      ],
      "execution_count": 8,
      "outputs": [
        {
          "output_type": "stream",
          "text": [
            "5 4 3 2 1  \n",
            "4 3 2 1  \n",
            "3 2 1  \n",
            "2 1  \n",
            "1  \n"
          ],
          "name": "stdout"
        }
      ]
    },
    {
      "cell_type": "code",
      "metadata": {
        "colab": {
          "base_uri": "https://localhost:8080/"
        },
        "id": "qbgHlTMT3jIv",
        "outputId": "e537c989-ab4d-46a5-c226-7ecf78bbdbeb"
      },
      "source": [
        "rows = 6\n",
        "\n",
        "for i in range(0, rows):\n",
        "\n",
        "    for j in range(rows -1, i, -1):\n",
        "\n",
        "        print(j, '', end='')\n",
        "\n",
        "    for l in range(i):\n",
        "\n",
        "        print('', end='')\n",
        "\n",
        "    for k in range(i + 1, rows):\n",
        "\n",
        "        print(k, '', end='')\n",
        "\n",
        "    print('\\n') "
      ],
      "execution_count": 20,
      "outputs": [
        {
          "output_type": "stream",
          "text": [
            "5 4 3 2 1 1 2 3 4 5 \n",
            "\n",
            "5 4 3 2 2 3 4 5 \n",
            "\n",
            "5 4 3 3 4 5 \n",
            "\n",
            "5 4 4 5 \n",
            "\n",
            "5 5 \n",
            "\n",
            "\n",
            "\n"
          ],
          "name": "stdout"
        }
      ]
    },
    {
      "cell_type": "markdown",
      "metadata": {
        "id": "4sBjgZKD4i9g"
      },
      "source": [
        "10 \n",
        "\n",
        "10 8 \n",
        "\n",
        "10 8 6 \n",
        "\n",
        "10 8 6 4 \n",
        "\n",
        "10 8 6 4 2"
      ]
    },
    {
      "cell_type": "code",
      "metadata": {
        "colab": {
          "base_uri": "https://localhost:8080/"
        },
        "id": "adLjH1Bv4j7h",
        "outputId": "ff9acc59-eb56-49ad-a317-6fc94784f1a7"
      },
      "source": [
        "n=5\n",
        "for i in range(n):\n",
        "  print(i * '*')\n",
        "for j in range(n,0,-1):\n",
        "  print(j * '*')\n"
      ],
      "execution_count": 26,
      "outputs": [
        {
          "output_type": "stream",
          "text": [
            "\n",
            "*\n",
            "**\n",
            "***\n",
            "****\n",
            "*****\n",
            "****\n",
            "***\n",
            "**\n",
            "*\n"
          ],
          "name": "stdout"
        }
      ]
    },
    {
      "cell_type": "code",
      "metadata": {
        "id": "2vZ0wa6N436s"
      },
      "source": [
        "\n"
      ],
      "execution_count": 36,
      "outputs": []
    }
  ]
}