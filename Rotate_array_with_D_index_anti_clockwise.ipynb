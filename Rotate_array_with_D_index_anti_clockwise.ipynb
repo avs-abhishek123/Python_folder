{
  "nbformat": 4,
  "nbformat_minor": 0,
  "metadata": {
    "colab": {
      "name": "Rotate_array_with_D_index_anti_clockwise.ipynb",
      "provenance": [],
      "collapsed_sections": []
    },
    "kernelspec": {
      "name": "python3",
      "display_name": "Python 3"
    },
    "language_info": {
      "name": "python"
    }
  },
  "cells": [
    {
      "cell_type": "code",
      "metadata": {
        "colab": {
          "base_uri": "https://localhost:8080/"
        },
        "id": "cedWFb5b5RE4",
        "outputId": "4c9371b5-befc-4707-b529-ee9c25d6f88f"
      },
      "source": [
        "A=[1,3,4,7,2,9]\n",
        "D=2\n",
        "A[:]=A[D:]+A[:D]\n",
        "print(A)"
      ],
      "execution_count": 2,
      "outputs": [
        {
          "output_type": "stream",
          "text": [
            "[4, 7, 2, 9, 1, 3]\n"
          ],
          "name": "stdout"
        }
      ]
    },
    {
      "cell_type": "code",
      "metadata": {
        "colab": {
          "base_uri": "https://localhost:8080/"
        },
        "id": "QFEAn4wG5f41",
        "outputId": "2c5f1722-8e9a-44ca-87ef-b879c9aee2e1"
      },
      "source": [
        ""
      ],
      "execution_count": 3,
      "outputs": [
        {
          "output_type": "stream",
          "text": [
            "[1, 3, 4, 7, 2, 9]\n"
          ],
          "name": "stdout"
        }
      ]
    }
  ]
}