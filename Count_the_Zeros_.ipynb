{
  "nbformat": 4,
  "nbformat_minor": 0,
  "metadata": {
    "colab": {
      "name": "Count_the_Zeros .ipynb",
      "provenance": []
    },
    "kernelspec": {
      "name": "python3",
      "display_name": "Python 3"
    },
    "language_info": {
      "name": "python"
    }
  },
  "cells": [
    {
      "cell_type": "code",
      "metadata": {
        "colab": {
          "base_uri": "https://localhost:8080/"
        },
        "id": "i8FFZDVh2Gia",
        "outputId": "ad6e4004-786f-456b-ae1c-06b4f1ce560f"
      },
      "source": [
        "arr=[1,1,1,1,1,1,1,0,0,0,0]\n",
        "n=11\n",
        "count=0\n",
        "for i in range(n):\n",
        "    if arr[i]==0:\n",
        "        count+=1\n",
        "print(count)\n"
      ],
      "execution_count": 1,
      "outputs": [
        {
          "output_type": "stream",
          "text": [
            "4\n"
          ],
          "name": "stdout"
        }
      ]
    }
  ]
}