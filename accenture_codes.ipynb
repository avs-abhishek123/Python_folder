{
  "nbformat": 4,
  "nbformat_minor": 0,
  "metadata": {
    "colab": {
      "name": "accenture_codes.ipynb",
      "provenance": [],
      "collapsed_sections": []
    },
    "kernelspec": {
      "name": "python3",
      "display_name": "Python 3"
    },
    "language_info": {
      "name": "python"
    }
  },
  "cells": [
    {
      "cell_type": "code",
      "source": [
        "arr1=[9,16,12,5,15]\n",
        "arr2=[14,7,22,5,32,77]\n",
        "k=9\n",
        "def MinMaxInTwoArrays(arr1,arr2,k):\n",
        "  count1=0\n",
        "  count2=0\n",
        "  n1=len(arr1)\n",
        "  n2=len(arr2)\n",
        "  for i in range(n1):\n",
        "    if arr1[i]>k:\n",
        "      count1+=1\n",
        "  for j in range(n2):\n",
        "    if arr2[i]<k:\n",
        "      count2+=1\n",
        "  if count1>count2:\n",
        "    return count1\n",
        "  elif count2>count1:\n",
        "    return count2\n",
        "  else:\n",
        "    return count1\n",
        "\n",
        "print(MinMaxInTwoArrays(arr1,arr2,k))\n",
        "  \n"
      ],
      "metadata": {
        "colab": {
          "base_uri": "https://localhost:8080/"
        },
        "id": "ILuiRmK4EvO8",
        "outputId": "0821d984-7ed2-4a6e-9f7a-84064df64f19"
      },
      "execution_count": 3,
      "outputs": [
        {
          "output_type": "stream",
          "name": "stdout",
          "text": [
            "3\n"
          ]
        }
      ]
    },
    {
      "cell_type": "code",
      "source": [
        "num1 = \"10001\"\n",
        "num2 = \"1101\"\n",
        "\n",
        "def TwoBinaryStringSum(num1,num2):\n",
        "    max_len = max(len(num1), len(num2))\n",
        "    num1 = num1.zfill(max_len)\n",
        "    num2 = num2.zfill(max_len)\n",
        "    result = ''\n",
        "    ans=''\n",
        "    carry = 0  \n",
        "    for i in range(max_len - 1, -1, -1):\n",
        "        r = carry\n",
        "        r += 1 if num1[i] == '1' else 0\n",
        "        r += 1 if num2[i] == '1' else 0\n",
        "        result = ('1' if r % 2 == 1 else '0') + result  \n",
        "        carry = 0 if r < 2 else 1\n",
        "    if carry != 0:\n",
        "        result = '1' + result\n",
        "    ans=result.zfill(max_len)\n",
        "    return ans\n",
        "\n",
        "print(TwoBinaryStringSum(num1,num2))"
      ],
      "metadata": {
        "colab": {
          "base_uri": "https://localhost:8080/"
        },
        "id": "fdHYYBPbXxmU",
        "outputId": "00f32af1-eaf6-4b29-d454-c6d845440a61"
      },
      "execution_count": 13,
      "outputs": [
        {
          "output_type": "stream",
          "name": "stdout",
          "text": [
            "11110\n"
          ]
        }
      ]
    },
    {
      "cell_type": "code",
      "source": [
        ""
      ],
      "metadata": {
        "id": "5-zBok0ZaHuR"
      },
      "execution_count": null,
      "outputs": []
    }
  ]
}