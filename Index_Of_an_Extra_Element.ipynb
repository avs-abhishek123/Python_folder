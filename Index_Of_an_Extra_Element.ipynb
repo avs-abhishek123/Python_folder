{
  "nbformat": 4,
  "nbformat_minor": 0,
  "metadata": {
    "colab": {
      "name": "Index_Of_an_Extra_Element.ipynb",
      "provenance": []
    },
    "kernelspec": {
      "name": "python3",
      "display_name": "Python 3"
    },
    "language_info": {
      "name": "python"
    }
  },
  "cells": [
    {
      "cell_type": "code",
      "metadata": {
        "colab": {
          "base_uri": "https://localhost:8080/"
        },
        "id": "dZtsdICdx6up",
        "outputId": "2f3cff05-9070-43f1-d737-b4852ec98e56"
      },
      "source": [
        "N = 7\n",
        "a = [2,4,6,8,9,10,12]\n",
        "b = [2,4,6,8,10,12]\n",
        "print(set(a)-set(b))\n",
        "#List is a collection which is ordered and changeable. Allows duplicate members.\n",
        "#Tuple is a collection which is ordered and unchangeable. Allows duplicate members.\n",
        "#Set is a collection which is unordered and unindexed. No duplicate members.\n",
        "#Dictionary is a collection which is ordered* and changeable. No duplicate members.\n",
        "x=''.join(map(str,list(set(a)-set(b))))\n",
        "#The join() method takes all items in an iterable and joins them into one string.\n",
        "#map() function returns a map object(which is an iterator) of the results after applying the given function to each item of a given iterable (list, tuple etc.)\n",
        "y = a.index(int(x))\n",
        "print(y) "
      ],
      "execution_count": 4,
      "outputs": [
        {
          "output_type": "stream",
          "text": [
            "{9}\n",
            "4\n"
          ],
          "name": "stdout"
        }
      ]
    },
    {
      "cell_type": "markdown",
      "metadata": {
        "id": "TGMi81E31EUC"
      },
      "source": [
        "#JOIN -\n",
        "##The join() method takes all items in an iterable and joins them into one string.\n"
      ]
    },
    {
      "cell_type": "code",
      "metadata": {
        "colab": {
          "base_uri": "https://localhost:8080/"
        },
        "id": "llb8OA5w1CK4",
        "outputId": "07230659-cf75-41b8-e692-4cb764b2400b"
      },
      "source": [
        "myTuple = (\"John\", \"Peter\", \"Vicky\")\n",
        "\n",
        "x = \"#\".join(myTuple)\n",
        "\n",
        "print(x)"
      ],
      "execution_count": 5,
      "outputs": [
        {
          "output_type": "stream",
          "text": [
            "John#Peter#Vicky\n"
          ],
          "name": "stdout"
        }
      ]
    },
    {
      "cell_type": "markdown",
      "metadata": {
        "id": "k2iDHLml137Q"
      },
      "source": [
        "#MAP()-\n",
        "##map() function returns a map object(which is an iterator) of the results after applying the given function to each item of a given iterable (list, tuple etc.)\n",
        "#map(fun, iter)\n"
      ]
    },
    {
      "cell_type": "code",
      "metadata": {
        "colab": {
          "base_uri": "https://localhost:8080/"
        },
        "id": "Su9yiBaO12rD",
        "outputId": "48d5f365-d115-4e28-854c-a2e43ed2b2f1"
      },
      "source": [
        "# Return double of n\n",
        "def addition(n):\n",
        "    return n + n\n",
        "  \n",
        "# We double all numbers using map()\n",
        "numbers = (1, 2, 3, 4)\n",
        "result = map(addition, numbers)\n",
        "print(list(result))"
      ],
      "execution_count": 6,
      "outputs": [
        {
          "output_type": "stream",
          "text": [
            "[2, 4, 6, 8]\n"
          ],
          "name": "stdout"
        }
      ]
    }
  ]
}