{
  "nbformat": 4,
  "nbformat_minor": 0,
  "metadata": {
    "colab": {
      "name": "VSP_DSS09_Expt6_LSTM_122021601009_AllenaVenkataSaiAbhishek.ipynb",
      "provenance": []
    },
    "kernelspec": {
      "name": "python3",
      "display_name": "Python 3"
    },
    "language_info": {
      "name": "python"
    },
    "accelerator": "GPU",
    "widgets": {
      "application/vnd.jupyter.widget-state+json": {
        "8f157d92b68d48859c1ddefaac04442f": {
          "model_module": "@jupyter-widgets/controls",
          "model_name": "HBoxModel",
          "state": {
            "_view_name": "HBoxView",
            "_dom_classes": [],
            "_model_name": "HBoxModel",
            "_view_module": "@jupyter-widgets/controls",
            "_model_module_version": "1.5.0",
            "_view_count": null,
            "_view_module_version": "1.5.0",
            "box_style": "",
            "layout": "IPY_MODEL_79a49e9fea3c4746a152895e1b953f49",
            "_model_module": "@jupyter-widgets/controls",
            "children": [
              "IPY_MODEL_da36e225acf34e9fb8deab1426126097",
              "IPY_MODEL_326f1bfd31cf4522972508618bac3efc"
            ]
          }
        },
        "79a49e9fea3c4746a152895e1b953f49": {
          "model_module": "@jupyter-widgets/base",
          "model_name": "LayoutModel",
          "state": {
            "_view_name": "LayoutView",
            "grid_template_rows": null,
            "right": null,
            "justify_content": null,
            "_view_module": "@jupyter-widgets/base",
            "overflow": null,
            "_model_module_version": "1.2.0",
            "_view_count": null,
            "flex_flow": null,
            "width": null,
            "min_width": null,
            "border": null,
            "align_items": null,
            "bottom": null,
            "_model_module": "@jupyter-widgets/base",
            "top": null,
            "grid_column": null,
            "overflow_y": null,
            "overflow_x": null,
            "grid_auto_flow": null,
            "grid_area": null,
            "grid_template_columns": null,
            "flex": null,
            "_model_name": "LayoutModel",
            "justify_items": null,
            "grid_row": null,
            "max_height": null,
            "align_content": null,
            "visibility": null,
            "align_self": null,
            "height": null,
            "min_height": null,
            "padding": null,
            "grid_auto_rows": null,
            "grid_gap": null,
            "max_width": null,
            "order": null,
            "_view_module_version": "1.2.0",
            "grid_template_areas": null,
            "object_position": null,
            "object_fit": null,
            "grid_auto_columns": null,
            "margin": null,
            "display": null,
            "left": null
          }
        },
        "da36e225acf34e9fb8deab1426126097": {
          "model_module": "@jupyter-widgets/controls",
          "model_name": "FloatProgressModel",
          "state": {
            "_view_name": "ProgressView",
            "style": "IPY_MODEL_31ddd8c2b79a45cd8b4cfdb3fc2a6507",
            "_dom_classes": [],
            "description": "Dl Completed...: 100%",
            "_model_name": "FloatProgressModel",
            "bar_style": "success",
            "max": 1,
            "_view_module": "@jupyter-widgets/controls",
            "_model_module_version": "1.5.0",
            "value": 1,
            "_view_count": null,
            "_view_module_version": "1.5.0",
            "orientation": "horizontal",
            "min": 0,
            "description_tooltip": null,
            "_model_module": "@jupyter-widgets/controls",
            "layout": "IPY_MODEL_351e994d0dcb433a8cd678b15707b0f9"
          }
        },
        "326f1bfd31cf4522972508618bac3efc": {
          "model_module": "@jupyter-widgets/controls",
          "model_name": "HTMLModel",
          "state": {
            "_view_name": "HTMLView",
            "style": "IPY_MODEL_1f5f4f6d4c9e4b788ac0fe3c5d4c44ae",
            "_dom_classes": [],
            "description": "",
            "_model_name": "HTMLModel",
            "placeholder": "​",
            "_view_module": "@jupyter-widgets/controls",
            "_model_module_version": "1.5.0",
            "value": " 1/1 [00:06&lt;00:00,  6.85s/ url]",
            "_view_count": null,
            "_view_module_version": "1.5.0",
            "description_tooltip": null,
            "_model_module": "@jupyter-widgets/controls",
            "layout": "IPY_MODEL_b97de9e7ee7f47ad9a3b6f2ad43c882c"
          }
        },
        "31ddd8c2b79a45cd8b4cfdb3fc2a6507": {
          "model_module": "@jupyter-widgets/controls",
          "model_name": "ProgressStyleModel",
          "state": {
            "_view_name": "StyleView",
            "_model_name": "ProgressStyleModel",
            "description_width": "initial",
            "_view_module": "@jupyter-widgets/base",
            "_model_module_version": "1.5.0",
            "_view_count": null,
            "_view_module_version": "1.2.0",
            "bar_color": null,
            "_model_module": "@jupyter-widgets/controls"
          }
        },
        "351e994d0dcb433a8cd678b15707b0f9": {
          "model_module": "@jupyter-widgets/base",
          "model_name": "LayoutModel",
          "state": {
            "_view_name": "LayoutView",
            "grid_template_rows": null,
            "right": null,
            "justify_content": null,
            "_view_module": "@jupyter-widgets/base",
            "overflow": null,
            "_model_module_version": "1.2.0",
            "_view_count": null,
            "flex_flow": null,
            "width": null,
            "min_width": null,
            "border": null,
            "align_items": null,
            "bottom": null,
            "_model_module": "@jupyter-widgets/base",
            "top": null,
            "grid_column": null,
            "overflow_y": null,
            "overflow_x": null,
            "grid_auto_flow": null,
            "grid_area": null,
            "grid_template_columns": null,
            "flex": null,
            "_model_name": "LayoutModel",
            "justify_items": null,
            "grid_row": null,
            "max_height": null,
            "align_content": null,
            "visibility": null,
            "align_self": null,
            "height": null,
            "min_height": null,
            "padding": null,
            "grid_auto_rows": null,
            "grid_gap": null,
            "max_width": null,
            "order": null,
            "_view_module_version": "1.2.0",
            "grid_template_areas": null,
            "object_position": null,
            "object_fit": null,
            "grid_auto_columns": null,
            "margin": null,
            "display": null,
            "left": null
          }
        },
        "1f5f4f6d4c9e4b788ac0fe3c5d4c44ae": {
          "model_module": "@jupyter-widgets/controls",
          "model_name": "DescriptionStyleModel",
          "state": {
            "_view_name": "StyleView",
            "_model_name": "DescriptionStyleModel",
            "description_width": "",
            "_view_module": "@jupyter-widgets/base",
            "_model_module_version": "1.5.0",
            "_view_count": null,
            "_view_module_version": "1.2.0",
            "_model_module": "@jupyter-widgets/controls"
          }
        },
        "b97de9e7ee7f47ad9a3b6f2ad43c882c": {
          "model_module": "@jupyter-widgets/base",
          "model_name": "LayoutModel",
          "state": {
            "_view_name": "LayoutView",
            "grid_template_rows": null,
            "right": null,
            "justify_content": null,
            "_view_module": "@jupyter-widgets/base",
            "overflow": null,
            "_model_module_version": "1.2.0",
            "_view_count": null,
            "flex_flow": null,
            "width": null,
            "min_width": null,
            "border": null,
            "align_items": null,
            "bottom": null,
            "_model_module": "@jupyter-widgets/base",
            "top": null,
            "grid_column": null,
            "overflow_y": null,
            "overflow_x": null,
            "grid_auto_flow": null,
            "grid_area": null,
            "grid_template_columns": null,
            "flex": null,
            "_model_name": "LayoutModel",
            "justify_items": null,
            "grid_row": null,
            "max_height": null,
            "align_content": null,
            "visibility": null,
            "align_self": null,
            "height": null,
            "min_height": null,
            "padding": null,
            "grid_auto_rows": null,
            "grid_gap": null,
            "max_width": null,
            "order": null,
            "_view_module_version": "1.2.0",
            "grid_template_areas": null,
            "object_position": null,
            "object_fit": null,
            "grid_auto_columns": null,
            "margin": null,
            "display": null,
            "left": null
          }
        },
        "97c3e3e7381842ff8672562762ae71b4": {
          "model_module": "@jupyter-widgets/controls",
          "model_name": "HBoxModel",
          "state": {
            "_view_name": "HBoxView",
            "_dom_classes": [],
            "_model_name": "HBoxModel",
            "_view_module": "@jupyter-widgets/controls",
            "_model_module_version": "1.5.0",
            "_view_count": null,
            "_view_module_version": "1.5.0",
            "box_style": "",
            "layout": "IPY_MODEL_dd7ca2ed3a224bc4865704c6015143df",
            "_model_module": "@jupyter-widgets/controls",
            "children": [
              "IPY_MODEL_b499b392c02e49f38bf4a0d0fdbfc077",
              "IPY_MODEL_f87a83f8050e4224b500b1112ecf4d2b"
            ]
          }
        },
        "dd7ca2ed3a224bc4865704c6015143df": {
          "model_module": "@jupyter-widgets/base",
          "model_name": "LayoutModel",
          "state": {
            "_view_name": "LayoutView",
            "grid_template_rows": null,
            "right": null,
            "justify_content": null,
            "_view_module": "@jupyter-widgets/base",
            "overflow": null,
            "_model_module_version": "1.2.0",
            "_view_count": null,
            "flex_flow": null,
            "width": null,
            "min_width": null,
            "border": null,
            "align_items": null,
            "bottom": null,
            "_model_module": "@jupyter-widgets/base",
            "top": null,
            "grid_column": null,
            "overflow_y": null,
            "overflow_x": null,
            "grid_auto_flow": null,
            "grid_area": null,
            "grid_template_columns": null,
            "flex": null,
            "_model_name": "LayoutModel",
            "justify_items": null,
            "grid_row": null,
            "max_height": null,
            "align_content": null,
            "visibility": null,
            "align_self": null,
            "height": null,
            "min_height": null,
            "padding": null,
            "grid_auto_rows": null,
            "grid_gap": null,
            "max_width": null,
            "order": null,
            "_view_module_version": "1.2.0",
            "grid_template_areas": null,
            "object_position": null,
            "object_fit": null,
            "grid_auto_columns": null,
            "margin": null,
            "display": null,
            "left": null
          }
        },
        "b499b392c02e49f38bf4a0d0fdbfc077": {
          "model_module": "@jupyter-widgets/controls",
          "model_name": "FloatProgressModel",
          "state": {
            "_view_name": "ProgressView",
            "style": "IPY_MODEL_a4ef3fc0132d42ec873fb89f6aded704",
            "_dom_classes": [],
            "description": "Dl Size...: 100%",
            "_model_name": "FloatProgressModel",
            "bar_style": "success",
            "max": 1,
            "_view_module": "@jupyter-widgets/controls",
            "_model_module_version": "1.5.0",
            "value": 1,
            "_view_count": null,
            "_view_module_version": "1.5.0",
            "orientation": "horizontal",
            "min": 0,
            "description_tooltip": null,
            "_model_module": "@jupyter-widgets/controls",
            "layout": "IPY_MODEL_1ba22ead412140c999fe8784c8205ad3"
          }
        },
        "f87a83f8050e4224b500b1112ecf4d2b": {
          "model_module": "@jupyter-widgets/controls",
          "model_name": "HTMLModel",
          "state": {
            "_view_name": "HTMLView",
            "style": "IPY_MODEL_d44ac4447bd546ee826a5ca67a8d1aeb",
            "_dom_classes": [],
            "description": "",
            "_model_name": "HTMLModel",
            "placeholder": "​",
            "_view_module": "@jupyter-widgets/controls",
            "_model_module_version": "1.5.0",
            "value": " 80/80 [00:06&lt;00:00, 11.76 MiB/s]",
            "_view_count": null,
            "_view_module_version": "1.5.0",
            "description_tooltip": null,
            "_model_module": "@jupyter-widgets/controls",
            "layout": "IPY_MODEL_e5ba90e3db0847bba19aeda4e51a4065"
          }
        },
        "a4ef3fc0132d42ec873fb89f6aded704": {
          "model_module": "@jupyter-widgets/controls",
          "model_name": "ProgressStyleModel",
          "state": {
            "_view_name": "StyleView",
            "_model_name": "ProgressStyleModel",
            "description_width": "initial",
            "_view_module": "@jupyter-widgets/base",
            "_model_module_version": "1.5.0",
            "_view_count": null,
            "_view_module_version": "1.2.0",
            "bar_color": null,
            "_model_module": "@jupyter-widgets/controls"
          }
        },
        "1ba22ead412140c999fe8784c8205ad3": {
          "model_module": "@jupyter-widgets/base",
          "model_name": "LayoutModel",
          "state": {
            "_view_name": "LayoutView",
            "grid_template_rows": null,
            "right": null,
            "justify_content": null,
            "_view_module": "@jupyter-widgets/base",
            "overflow": null,
            "_model_module_version": "1.2.0",
            "_view_count": null,
            "flex_flow": null,
            "width": null,
            "min_width": null,
            "border": null,
            "align_items": null,
            "bottom": null,
            "_model_module": "@jupyter-widgets/base",
            "top": null,
            "grid_column": null,
            "overflow_y": null,
            "overflow_x": null,
            "grid_auto_flow": null,
            "grid_area": null,
            "grid_template_columns": null,
            "flex": null,
            "_model_name": "LayoutModel",
            "justify_items": null,
            "grid_row": null,
            "max_height": null,
            "align_content": null,
            "visibility": null,
            "align_self": null,
            "height": null,
            "min_height": null,
            "padding": null,
            "grid_auto_rows": null,
            "grid_gap": null,
            "max_width": null,
            "order": null,
            "_view_module_version": "1.2.0",
            "grid_template_areas": null,
            "object_position": null,
            "object_fit": null,
            "grid_auto_columns": null,
            "margin": null,
            "display": null,
            "left": null
          }
        },
        "d44ac4447bd546ee826a5ca67a8d1aeb": {
          "model_module": "@jupyter-widgets/controls",
          "model_name": "DescriptionStyleModel",
          "state": {
            "_view_name": "StyleView",
            "_model_name": "DescriptionStyleModel",
            "description_width": "",
            "_view_module": "@jupyter-widgets/base",
            "_model_module_version": "1.5.0",
            "_view_count": null,
            "_view_module_version": "1.2.0",
            "_model_module": "@jupyter-widgets/controls"
          }
        },
        "e5ba90e3db0847bba19aeda4e51a4065": {
          "model_module": "@jupyter-widgets/base",
          "model_name": "LayoutModel",
          "state": {
            "_view_name": "LayoutView",
            "grid_template_rows": null,
            "right": null,
            "justify_content": null,
            "_view_module": "@jupyter-widgets/base",
            "overflow": null,
            "_model_module_version": "1.2.0",
            "_view_count": null,
            "flex_flow": null,
            "width": null,
            "min_width": null,
            "border": null,
            "align_items": null,
            "bottom": null,
            "_model_module": "@jupyter-widgets/base",
            "top": null,
            "grid_column": null,
            "overflow_y": null,
            "overflow_x": null,
            "grid_auto_flow": null,
            "grid_area": null,
            "grid_template_columns": null,
            "flex": null,
            "_model_name": "LayoutModel",
            "justify_items": null,
            "grid_row": null,
            "max_height": null,
            "align_content": null,
            "visibility": null,
            "align_self": null,
            "height": null,
            "min_height": null,
            "padding": null,
            "grid_auto_rows": null,
            "grid_gap": null,
            "max_width": null,
            "order": null,
            "_view_module_version": "1.2.0",
            "grid_template_areas": null,
            "object_position": null,
            "object_fit": null,
            "grid_auto_columns": null,
            "margin": null,
            "display": null,
            "left": null
          }
        },
        "83a0bc6f5c004d80a222d160bdc2a68e": {
          "model_module": "@jupyter-widgets/controls",
          "model_name": "HBoxModel",
          "state": {
            "_view_name": "HBoxView",
            "_dom_classes": [],
            "_model_name": "HBoxModel",
            "_view_module": "@jupyter-widgets/controls",
            "_model_module_version": "1.5.0",
            "_view_count": null,
            "_view_module_version": "1.5.0",
            "box_style": "",
            "layout": "IPY_MODEL_2083cefa2f40420cae1c26146ff4a56f",
            "_model_module": "@jupyter-widgets/controls",
            "children": [
              "IPY_MODEL_5f5ca2bcdbdc4c6ab092fb38d8c63312",
              "IPY_MODEL_283ae934007b4e1cac330eea2dad0a4a"
            ]
          }
        },
        "2083cefa2f40420cae1c26146ff4a56f": {
          "model_module": "@jupyter-widgets/base",
          "model_name": "LayoutModel",
          "state": {
            "_view_name": "LayoutView",
            "grid_template_rows": null,
            "right": null,
            "justify_content": null,
            "_view_module": "@jupyter-widgets/base",
            "overflow": null,
            "_model_module_version": "1.2.0",
            "_view_count": null,
            "flex_flow": null,
            "width": null,
            "min_width": null,
            "border": null,
            "align_items": null,
            "bottom": null,
            "_model_module": "@jupyter-widgets/base",
            "top": null,
            "grid_column": null,
            "overflow_y": null,
            "overflow_x": null,
            "grid_auto_flow": null,
            "grid_area": null,
            "grid_template_columns": null,
            "flex": null,
            "_model_name": "LayoutModel",
            "justify_items": null,
            "grid_row": null,
            "max_height": null,
            "align_content": null,
            "visibility": null,
            "align_self": null,
            "height": null,
            "min_height": null,
            "padding": null,
            "grid_auto_rows": null,
            "grid_gap": null,
            "max_width": null,
            "order": null,
            "_view_module_version": "1.2.0",
            "grid_template_areas": null,
            "object_position": null,
            "object_fit": null,
            "grid_auto_columns": null,
            "margin": null,
            "display": null,
            "left": null
          }
        },
        "5f5ca2bcdbdc4c6ab092fb38d8c63312": {
          "model_module": "@jupyter-widgets/controls",
          "model_name": "FloatProgressModel",
          "state": {
            "_view_name": "ProgressView",
            "style": "IPY_MODEL_293e62e10be74dde9b716b9a99393f89",
            "_dom_classes": [],
            "description": "",
            "_model_name": "FloatProgressModel",
            "bar_style": "info",
            "max": 1,
            "_view_module": "@jupyter-widgets/controls",
            "_model_module_version": "1.5.0",
            "value": 1,
            "_view_count": null,
            "_view_module_version": "1.5.0",
            "orientation": "horizontal",
            "min": 0,
            "description_tooltip": null,
            "_model_module": "@jupyter-widgets/controls",
            "layout": "IPY_MODEL_017b2f98332c4c1dbd93badbfb2bf292"
          }
        },
        "283ae934007b4e1cac330eea2dad0a4a": {
          "model_module": "@jupyter-widgets/controls",
          "model_name": "HTMLModel",
          "state": {
            "_view_name": "HTMLView",
            "style": "IPY_MODEL_4d60f8867d66453da899373a79d0ede7",
            "_dom_classes": [],
            "description": "",
            "_model_name": "HTMLModel",
            "placeholder": "​",
            "_view_module": "@jupyter-widgets/controls",
            "_model_module_version": "1.5.0",
            "value": " 25000/0 [00:18&lt;00:00, 2437.79 examples/s]",
            "_view_count": null,
            "_view_module_version": "1.5.0",
            "description_tooltip": null,
            "_model_module": "@jupyter-widgets/controls",
            "layout": "IPY_MODEL_76294aab5b2341699272e387c4b55231"
          }
        },
        "293e62e10be74dde9b716b9a99393f89": {
          "model_module": "@jupyter-widgets/controls",
          "model_name": "ProgressStyleModel",
          "state": {
            "_view_name": "StyleView",
            "_model_name": "ProgressStyleModel",
            "description_width": "initial",
            "_view_module": "@jupyter-widgets/base",
            "_model_module_version": "1.5.0",
            "_view_count": null,
            "_view_module_version": "1.2.0",
            "bar_color": null,
            "_model_module": "@jupyter-widgets/controls"
          }
        },
        "017b2f98332c4c1dbd93badbfb2bf292": {
          "model_module": "@jupyter-widgets/base",
          "model_name": "LayoutModel",
          "state": {
            "_view_name": "LayoutView",
            "grid_template_rows": null,
            "right": null,
            "justify_content": null,
            "_view_module": "@jupyter-widgets/base",
            "overflow": null,
            "_model_module_version": "1.2.0",
            "_view_count": null,
            "flex_flow": null,
            "width": null,
            "min_width": null,
            "border": null,
            "align_items": null,
            "bottom": null,
            "_model_module": "@jupyter-widgets/base",
            "top": null,
            "grid_column": null,
            "overflow_y": null,
            "overflow_x": null,
            "grid_auto_flow": null,
            "grid_area": null,
            "grid_template_columns": null,
            "flex": null,
            "_model_name": "LayoutModel",
            "justify_items": null,
            "grid_row": null,
            "max_height": null,
            "align_content": null,
            "visibility": null,
            "align_self": null,
            "height": null,
            "min_height": null,
            "padding": null,
            "grid_auto_rows": null,
            "grid_gap": null,
            "max_width": null,
            "order": null,
            "_view_module_version": "1.2.0",
            "grid_template_areas": null,
            "object_position": null,
            "object_fit": null,
            "grid_auto_columns": null,
            "margin": null,
            "display": null,
            "left": null
          }
        },
        "4d60f8867d66453da899373a79d0ede7": {
          "model_module": "@jupyter-widgets/controls",
          "model_name": "DescriptionStyleModel",
          "state": {
            "_view_name": "StyleView",
            "_model_name": "DescriptionStyleModel",
            "description_width": "",
            "_view_module": "@jupyter-widgets/base",
            "_model_module_version": "1.5.0",
            "_view_count": null,
            "_view_module_version": "1.2.0",
            "_model_module": "@jupyter-widgets/controls"
          }
        },
        "76294aab5b2341699272e387c4b55231": {
          "model_module": "@jupyter-widgets/base",
          "model_name": "LayoutModel",
          "state": {
            "_view_name": "LayoutView",
            "grid_template_rows": null,
            "right": null,
            "justify_content": null,
            "_view_module": "@jupyter-widgets/base",
            "overflow": null,
            "_model_module_version": "1.2.0",
            "_view_count": null,
            "flex_flow": null,
            "width": null,
            "min_width": null,
            "border": null,
            "align_items": null,
            "bottom": null,
            "_model_module": "@jupyter-widgets/base",
            "top": null,
            "grid_column": null,
            "overflow_y": null,
            "overflow_x": null,
            "grid_auto_flow": null,
            "grid_area": null,
            "grid_template_columns": null,
            "flex": null,
            "_model_name": "LayoutModel",
            "justify_items": null,
            "grid_row": null,
            "max_height": null,
            "align_content": null,
            "visibility": null,
            "align_self": null,
            "height": null,
            "min_height": null,
            "padding": null,
            "grid_auto_rows": null,
            "grid_gap": null,
            "max_width": null,
            "order": null,
            "_view_module_version": "1.2.0",
            "grid_template_areas": null,
            "object_position": null,
            "object_fit": null,
            "grid_auto_columns": null,
            "margin": null,
            "display": null,
            "left": null
          }
        },
        "1ccc89d4c2d24939a4ca2e819688f102": {
          "model_module": "@jupyter-widgets/controls",
          "model_name": "HBoxModel",
          "state": {
            "_view_name": "HBoxView",
            "_dom_classes": [],
            "_model_name": "HBoxModel",
            "_view_module": "@jupyter-widgets/controls",
            "_model_module_version": "1.5.0",
            "_view_count": null,
            "_view_module_version": "1.5.0",
            "box_style": "",
            "layout": "IPY_MODEL_6ad1feef5d02457188d6748b511f8026",
            "_model_module": "@jupyter-widgets/controls",
            "children": [
              "IPY_MODEL_cec32e543b46437c9eaad035695f5978",
              "IPY_MODEL_b792d167203049b0826e73b23e772a7e"
            ]
          }
        },
        "6ad1feef5d02457188d6748b511f8026": {
          "model_module": "@jupyter-widgets/base",
          "model_name": "LayoutModel",
          "state": {
            "_view_name": "LayoutView",
            "grid_template_rows": null,
            "right": null,
            "justify_content": null,
            "_view_module": "@jupyter-widgets/base",
            "overflow": null,
            "_model_module_version": "1.2.0",
            "_view_count": null,
            "flex_flow": null,
            "width": null,
            "min_width": null,
            "border": null,
            "align_items": null,
            "bottom": null,
            "_model_module": "@jupyter-widgets/base",
            "top": null,
            "grid_column": null,
            "overflow_y": null,
            "overflow_x": null,
            "grid_auto_flow": null,
            "grid_area": null,
            "grid_template_columns": null,
            "flex": null,
            "_model_name": "LayoutModel",
            "justify_items": null,
            "grid_row": null,
            "max_height": null,
            "align_content": null,
            "visibility": null,
            "align_self": null,
            "height": null,
            "min_height": null,
            "padding": null,
            "grid_auto_rows": null,
            "grid_gap": null,
            "max_width": null,
            "order": null,
            "_view_module_version": "1.2.0",
            "grid_template_areas": null,
            "object_position": null,
            "object_fit": null,
            "grid_auto_columns": null,
            "margin": null,
            "display": null,
            "left": null
          }
        },
        "cec32e543b46437c9eaad035695f5978": {
          "model_module": "@jupyter-widgets/controls",
          "model_name": "FloatProgressModel",
          "state": {
            "_view_name": "ProgressView",
            "style": "IPY_MODEL_3b39b35a54744f3485f66b983a03678c",
            "_dom_classes": [],
            "description": " 92%",
            "_model_name": "FloatProgressModel",
            "bar_style": "danger",
            "max": 25000,
            "_view_module": "@jupyter-widgets/controls",
            "_model_module_version": "1.5.0",
            "value": 22930,
            "_view_count": null,
            "_view_module_version": "1.5.0",
            "orientation": "horizontal",
            "min": 0,
            "description_tooltip": null,
            "_model_module": "@jupyter-widgets/controls",
            "layout": "IPY_MODEL_87b516c28b074a249905867f7ffe0d72"
          }
        },
        "b792d167203049b0826e73b23e772a7e": {
          "model_module": "@jupyter-widgets/controls",
          "model_name": "HTMLModel",
          "state": {
            "_view_name": "HTMLView",
            "style": "IPY_MODEL_a869c3d7b9b542c5bc03619a3b6b0ec4",
            "_dom_classes": [],
            "description": "",
            "_model_name": "HTMLModel",
            "placeholder": "​",
            "_view_module": "@jupyter-widgets/controls",
            "_model_module_version": "1.5.0",
            "value": " 22930/25000 [00:00&lt;00:00, 52065.82 examples/s]",
            "_view_count": null,
            "_view_module_version": "1.5.0",
            "description_tooltip": null,
            "_model_module": "@jupyter-widgets/controls",
            "layout": "IPY_MODEL_8f20fe8b0d284ed7aaeeca9e7613b189"
          }
        },
        "3b39b35a54744f3485f66b983a03678c": {
          "model_module": "@jupyter-widgets/controls",
          "model_name": "ProgressStyleModel",
          "state": {
            "_view_name": "StyleView",
            "_model_name": "ProgressStyleModel",
            "description_width": "initial",
            "_view_module": "@jupyter-widgets/base",
            "_model_module_version": "1.5.0",
            "_view_count": null,
            "_view_module_version": "1.2.0",
            "bar_color": null,
            "_model_module": "@jupyter-widgets/controls"
          }
        },
        "87b516c28b074a249905867f7ffe0d72": {
          "model_module": "@jupyter-widgets/base",
          "model_name": "LayoutModel",
          "state": {
            "_view_name": "LayoutView",
            "grid_template_rows": null,
            "right": null,
            "justify_content": null,
            "_view_module": "@jupyter-widgets/base",
            "overflow": null,
            "_model_module_version": "1.2.0",
            "_view_count": null,
            "flex_flow": null,
            "width": null,
            "min_width": null,
            "border": null,
            "align_items": null,
            "bottom": null,
            "_model_module": "@jupyter-widgets/base",
            "top": null,
            "grid_column": null,
            "overflow_y": null,
            "overflow_x": null,
            "grid_auto_flow": null,
            "grid_area": null,
            "grid_template_columns": null,
            "flex": null,
            "_model_name": "LayoutModel",
            "justify_items": null,
            "grid_row": null,
            "max_height": null,
            "align_content": null,
            "visibility": null,
            "align_self": null,
            "height": null,
            "min_height": null,
            "padding": null,
            "grid_auto_rows": null,
            "grid_gap": null,
            "max_width": null,
            "order": null,
            "_view_module_version": "1.2.0",
            "grid_template_areas": null,
            "object_position": null,
            "object_fit": null,
            "grid_auto_columns": null,
            "margin": null,
            "display": null,
            "left": null
          }
        },
        "a869c3d7b9b542c5bc03619a3b6b0ec4": {
          "model_module": "@jupyter-widgets/controls",
          "model_name": "DescriptionStyleModel",
          "state": {
            "_view_name": "StyleView",
            "_model_name": "DescriptionStyleModel",
            "description_width": "",
            "_view_module": "@jupyter-widgets/base",
            "_model_module_version": "1.5.0",
            "_view_count": null,
            "_view_module_version": "1.2.0",
            "_model_module": "@jupyter-widgets/controls"
          }
        },
        "8f20fe8b0d284ed7aaeeca9e7613b189": {
          "model_module": "@jupyter-widgets/base",
          "model_name": "LayoutModel",
          "state": {
            "_view_name": "LayoutView",
            "grid_template_rows": null,
            "right": null,
            "justify_content": null,
            "_view_module": "@jupyter-widgets/base",
            "overflow": null,
            "_model_module_version": "1.2.0",
            "_view_count": null,
            "flex_flow": null,
            "width": null,
            "min_width": null,
            "border": null,
            "align_items": null,
            "bottom": null,
            "_model_module": "@jupyter-widgets/base",
            "top": null,
            "grid_column": null,
            "overflow_y": null,
            "overflow_x": null,
            "grid_auto_flow": null,
            "grid_area": null,
            "grid_template_columns": null,
            "flex": null,
            "_model_name": "LayoutModel",
            "justify_items": null,
            "grid_row": null,
            "max_height": null,
            "align_content": null,
            "visibility": null,
            "align_self": null,
            "height": null,
            "min_height": null,
            "padding": null,
            "grid_auto_rows": null,
            "grid_gap": null,
            "max_width": null,
            "order": null,
            "_view_module_version": "1.2.0",
            "grid_template_areas": null,
            "object_position": null,
            "object_fit": null,
            "grid_auto_columns": null,
            "margin": null,
            "display": null,
            "left": null
          }
        },
        "71d78f2aab634847b8afe6d81ffc63aa": {
          "model_module": "@jupyter-widgets/controls",
          "model_name": "HBoxModel",
          "state": {
            "_view_name": "HBoxView",
            "_dom_classes": [],
            "_model_name": "HBoxModel",
            "_view_module": "@jupyter-widgets/controls",
            "_model_module_version": "1.5.0",
            "_view_count": null,
            "_view_module_version": "1.5.0",
            "box_style": "",
            "layout": "IPY_MODEL_07980ccf9ba3436cbf86dd4d60c433de",
            "_model_module": "@jupyter-widgets/controls",
            "children": [
              "IPY_MODEL_e19b1ad1f4da45659564456fc39f4413",
              "IPY_MODEL_8f35204bc8ee4b2da8dc8e20b5f765c7"
            ]
          }
        },
        "07980ccf9ba3436cbf86dd4d60c433de": {
          "model_module": "@jupyter-widgets/base",
          "model_name": "LayoutModel",
          "state": {
            "_view_name": "LayoutView",
            "grid_template_rows": null,
            "right": null,
            "justify_content": null,
            "_view_module": "@jupyter-widgets/base",
            "overflow": null,
            "_model_module_version": "1.2.0",
            "_view_count": null,
            "flex_flow": null,
            "width": null,
            "min_width": null,
            "border": null,
            "align_items": null,
            "bottom": null,
            "_model_module": "@jupyter-widgets/base",
            "top": null,
            "grid_column": null,
            "overflow_y": null,
            "overflow_x": null,
            "grid_auto_flow": null,
            "grid_area": null,
            "grid_template_columns": null,
            "flex": null,
            "_model_name": "LayoutModel",
            "justify_items": null,
            "grid_row": null,
            "max_height": null,
            "align_content": null,
            "visibility": null,
            "align_self": null,
            "height": null,
            "min_height": null,
            "padding": null,
            "grid_auto_rows": null,
            "grid_gap": null,
            "max_width": null,
            "order": null,
            "_view_module_version": "1.2.0",
            "grid_template_areas": null,
            "object_position": null,
            "object_fit": null,
            "grid_auto_columns": null,
            "margin": null,
            "display": null,
            "left": null
          }
        },
        "e19b1ad1f4da45659564456fc39f4413": {
          "model_module": "@jupyter-widgets/controls",
          "model_name": "FloatProgressModel",
          "state": {
            "_view_name": "ProgressView",
            "style": "IPY_MODEL_a9e20a59f78f4e8dba0199b4f5f8b799",
            "_dom_classes": [],
            "description": "",
            "_model_name": "FloatProgressModel",
            "bar_style": "info",
            "max": 1,
            "_view_module": "@jupyter-widgets/controls",
            "_model_module_version": "1.5.0",
            "value": 1,
            "_view_count": null,
            "_view_module_version": "1.5.0",
            "orientation": "horizontal",
            "min": 0,
            "description_tooltip": null,
            "_model_module": "@jupyter-widgets/controls",
            "layout": "IPY_MODEL_8d0bb5ed15f144d7b0afd766d48e11b5"
          }
        },
        "8f35204bc8ee4b2da8dc8e20b5f765c7": {
          "model_module": "@jupyter-widgets/controls",
          "model_name": "HTMLModel",
          "state": {
            "_view_name": "HTMLView",
            "style": "IPY_MODEL_dc85bdf62d43475391622c94dd1ae1df",
            "_dom_classes": [],
            "description": "",
            "_model_name": "HTMLModel",
            "placeholder": "​",
            "_view_module": "@jupyter-widgets/controls",
            "_model_module_version": "1.5.0",
            "value": " 25000/0 [00:17&lt;00:00, 2516.94 examples/s]",
            "_view_count": null,
            "_view_module_version": "1.5.0",
            "description_tooltip": null,
            "_model_module": "@jupyter-widgets/controls",
            "layout": "IPY_MODEL_afb674aacca342a982e515a5e0466c08"
          }
        },
        "a9e20a59f78f4e8dba0199b4f5f8b799": {
          "model_module": "@jupyter-widgets/controls",
          "model_name": "ProgressStyleModel",
          "state": {
            "_view_name": "StyleView",
            "_model_name": "ProgressStyleModel",
            "description_width": "initial",
            "_view_module": "@jupyter-widgets/base",
            "_model_module_version": "1.5.0",
            "_view_count": null,
            "_view_module_version": "1.2.0",
            "bar_color": null,
            "_model_module": "@jupyter-widgets/controls"
          }
        },
        "8d0bb5ed15f144d7b0afd766d48e11b5": {
          "model_module": "@jupyter-widgets/base",
          "model_name": "LayoutModel",
          "state": {
            "_view_name": "LayoutView",
            "grid_template_rows": null,
            "right": null,
            "justify_content": null,
            "_view_module": "@jupyter-widgets/base",
            "overflow": null,
            "_model_module_version": "1.2.0",
            "_view_count": null,
            "flex_flow": null,
            "width": null,
            "min_width": null,
            "border": null,
            "align_items": null,
            "bottom": null,
            "_model_module": "@jupyter-widgets/base",
            "top": null,
            "grid_column": null,
            "overflow_y": null,
            "overflow_x": null,
            "grid_auto_flow": null,
            "grid_area": null,
            "grid_template_columns": null,
            "flex": null,
            "_model_name": "LayoutModel",
            "justify_items": null,
            "grid_row": null,
            "max_height": null,
            "align_content": null,
            "visibility": null,
            "align_self": null,
            "height": null,
            "min_height": null,
            "padding": null,
            "grid_auto_rows": null,
            "grid_gap": null,
            "max_width": null,
            "order": null,
            "_view_module_version": "1.2.0",
            "grid_template_areas": null,
            "object_position": null,
            "object_fit": null,
            "grid_auto_columns": null,
            "margin": null,
            "display": null,
            "left": null
          }
        },
        "dc85bdf62d43475391622c94dd1ae1df": {
          "model_module": "@jupyter-widgets/controls",
          "model_name": "DescriptionStyleModel",
          "state": {
            "_view_name": "StyleView",
            "_model_name": "DescriptionStyleModel",
            "description_width": "",
            "_view_module": "@jupyter-widgets/base",
            "_model_module_version": "1.5.0",
            "_view_count": null,
            "_view_module_version": "1.2.0",
            "_model_module": "@jupyter-widgets/controls"
          }
        },
        "afb674aacca342a982e515a5e0466c08": {
          "model_module": "@jupyter-widgets/base",
          "model_name": "LayoutModel",
          "state": {
            "_view_name": "LayoutView",
            "grid_template_rows": null,
            "right": null,
            "justify_content": null,
            "_view_module": "@jupyter-widgets/base",
            "overflow": null,
            "_model_module_version": "1.2.0",
            "_view_count": null,
            "flex_flow": null,
            "width": null,
            "min_width": null,
            "border": null,
            "align_items": null,
            "bottom": null,
            "_model_module": "@jupyter-widgets/base",
            "top": null,
            "grid_column": null,
            "overflow_y": null,
            "overflow_x": null,
            "grid_auto_flow": null,
            "grid_area": null,
            "grid_template_columns": null,
            "flex": null,
            "_model_name": "LayoutModel",
            "justify_items": null,
            "grid_row": null,
            "max_height": null,
            "align_content": null,
            "visibility": null,
            "align_self": null,
            "height": null,
            "min_height": null,
            "padding": null,
            "grid_auto_rows": null,
            "grid_gap": null,
            "max_width": null,
            "order": null,
            "_view_module_version": "1.2.0",
            "grid_template_areas": null,
            "object_position": null,
            "object_fit": null,
            "grid_auto_columns": null,
            "margin": null,
            "display": null,
            "left": null
          }
        },
        "7d60a2e56d9347c4947bc293c84e5180": {
          "model_module": "@jupyter-widgets/controls",
          "model_name": "HBoxModel",
          "state": {
            "_view_name": "HBoxView",
            "_dom_classes": [],
            "_model_name": "HBoxModel",
            "_view_module": "@jupyter-widgets/controls",
            "_model_module_version": "1.5.0",
            "_view_count": null,
            "_view_module_version": "1.5.0",
            "box_style": "",
            "layout": "IPY_MODEL_995c8a17575347ddabb1b700ed8dfe18",
            "_model_module": "@jupyter-widgets/controls",
            "children": [
              "IPY_MODEL_1abdbe236bc14b52bee8d769f421bdc8",
              "IPY_MODEL_731f3363e5a64298ba4cd8316a9fb905"
            ]
          }
        },
        "995c8a17575347ddabb1b700ed8dfe18": {
          "model_module": "@jupyter-widgets/base",
          "model_name": "LayoutModel",
          "state": {
            "_view_name": "LayoutView",
            "grid_template_rows": null,
            "right": null,
            "justify_content": null,
            "_view_module": "@jupyter-widgets/base",
            "overflow": null,
            "_model_module_version": "1.2.0",
            "_view_count": null,
            "flex_flow": null,
            "width": null,
            "min_width": null,
            "border": null,
            "align_items": null,
            "bottom": null,
            "_model_module": "@jupyter-widgets/base",
            "top": null,
            "grid_column": null,
            "overflow_y": null,
            "overflow_x": null,
            "grid_auto_flow": null,
            "grid_area": null,
            "grid_template_columns": null,
            "flex": null,
            "_model_name": "LayoutModel",
            "justify_items": null,
            "grid_row": null,
            "max_height": null,
            "align_content": null,
            "visibility": null,
            "align_self": null,
            "height": null,
            "min_height": null,
            "padding": null,
            "grid_auto_rows": null,
            "grid_gap": null,
            "max_width": null,
            "order": null,
            "_view_module_version": "1.2.0",
            "grid_template_areas": null,
            "object_position": null,
            "object_fit": null,
            "grid_auto_columns": null,
            "margin": null,
            "display": null,
            "left": null
          }
        },
        "1abdbe236bc14b52bee8d769f421bdc8": {
          "model_module": "@jupyter-widgets/controls",
          "model_name": "FloatProgressModel",
          "state": {
            "_view_name": "ProgressView",
            "style": "IPY_MODEL_24f1081af2f0464d9c6fc64aece1f0f7",
            "_dom_classes": [],
            "description": " 95%",
            "_model_name": "FloatProgressModel",
            "bar_style": "danger",
            "max": 25000,
            "_view_module": "@jupyter-widgets/controls",
            "_model_module_version": "1.5.0",
            "value": 23858,
            "_view_count": null,
            "_view_module_version": "1.5.0",
            "orientation": "horizontal",
            "min": 0,
            "description_tooltip": null,
            "_model_module": "@jupyter-widgets/controls",
            "layout": "IPY_MODEL_0ed39af6f28f43a8b8b62fe50099d29e"
          }
        },
        "731f3363e5a64298ba4cd8316a9fb905": {
          "model_module": "@jupyter-widgets/controls",
          "model_name": "HTMLModel",
          "state": {
            "_view_name": "HTMLView",
            "style": "IPY_MODEL_7d890604a56842acb0b0dc67b353bc18",
            "_dom_classes": [],
            "description": "",
            "_model_name": "HTMLModel",
            "placeholder": "​",
            "_view_module": "@jupyter-widgets/controls",
            "_model_module_version": "1.5.0",
            "value": " 23858/25000 [00:00&lt;00:00, 71503.19 examples/s]",
            "_view_count": null,
            "_view_module_version": "1.5.0",
            "description_tooltip": null,
            "_model_module": "@jupyter-widgets/controls",
            "layout": "IPY_MODEL_258ad44698b8415aab0a35c293e4ac6a"
          }
        },
        "24f1081af2f0464d9c6fc64aece1f0f7": {
          "model_module": "@jupyter-widgets/controls",
          "model_name": "ProgressStyleModel",
          "state": {
            "_view_name": "StyleView",
            "_model_name": "ProgressStyleModel",
            "description_width": "initial",
            "_view_module": "@jupyter-widgets/base",
            "_model_module_version": "1.5.0",
            "_view_count": null,
            "_view_module_version": "1.2.0",
            "bar_color": null,
            "_model_module": "@jupyter-widgets/controls"
          }
        },
        "0ed39af6f28f43a8b8b62fe50099d29e": {
          "model_module": "@jupyter-widgets/base",
          "model_name": "LayoutModel",
          "state": {
            "_view_name": "LayoutView",
            "grid_template_rows": null,
            "right": null,
            "justify_content": null,
            "_view_module": "@jupyter-widgets/base",
            "overflow": null,
            "_model_module_version": "1.2.0",
            "_view_count": null,
            "flex_flow": null,
            "width": null,
            "min_width": null,
            "border": null,
            "align_items": null,
            "bottom": null,
            "_model_module": "@jupyter-widgets/base",
            "top": null,
            "grid_column": null,
            "overflow_y": null,
            "overflow_x": null,
            "grid_auto_flow": null,
            "grid_area": null,
            "grid_template_columns": null,
            "flex": null,
            "_model_name": "LayoutModel",
            "justify_items": null,
            "grid_row": null,
            "max_height": null,
            "align_content": null,
            "visibility": null,
            "align_self": null,
            "height": null,
            "min_height": null,
            "padding": null,
            "grid_auto_rows": null,
            "grid_gap": null,
            "max_width": null,
            "order": null,
            "_view_module_version": "1.2.0",
            "grid_template_areas": null,
            "object_position": null,
            "object_fit": null,
            "grid_auto_columns": null,
            "margin": null,
            "display": null,
            "left": null
          }
        },
        "7d890604a56842acb0b0dc67b353bc18": {
          "model_module": "@jupyter-widgets/controls",
          "model_name": "DescriptionStyleModel",
          "state": {
            "_view_name": "StyleView",
            "_model_name": "DescriptionStyleModel",
            "description_width": "",
            "_view_module": "@jupyter-widgets/base",
            "_model_module_version": "1.5.0",
            "_view_count": null,
            "_view_module_version": "1.2.0",
            "_model_module": "@jupyter-widgets/controls"
          }
        },
        "258ad44698b8415aab0a35c293e4ac6a": {
          "model_module": "@jupyter-widgets/base",
          "model_name": "LayoutModel",
          "state": {
            "_view_name": "LayoutView",
            "grid_template_rows": null,
            "right": null,
            "justify_content": null,
            "_view_module": "@jupyter-widgets/base",
            "overflow": null,
            "_model_module_version": "1.2.0",
            "_view_count": null,
            "flex_flow": null,
            "width": null,
            "min_width": null,
            "border": null,
            "align_items": null,
            "bottom": null,
            "_model_module": "@jupyter-widgets/base",
            "top": null,
            "grid_column": null,
            "overflow_y": null,
            "overflow_x": null,
            "grid_auto_flow": null,
            "grid_area": null,
            "grid_template_columns": null,
            "flex": null,
            "_model_name": "LayoutModel",
            "justify_items": null,
            "grid_row": null,
            "max_height": null,
            "align_content": null,
            "visibility": null,
            "align_self": null,
            "height": null,
            "min_height": null,
            "padding": null,
            "grid_auto_rows": null,
            "grid_gap": null,
            "max_width": null,
            "order": null,
            "_view_module_version": "1.2.0",
            "grid_template_areas": null,
            "object_position": null,
            "object_fit": null,
            "grid_auto_columns": null,
            "margin": null,
            "display": null,
            "left": null
          }
        },
        "2ee0685219aa48dfb9334975efbc3fe7": {
          "model_module": "@jupyter-widgets/controls",
          "model_name": "HBoxModel",
          "state": {
            "_view_name": "HBoxView",
            "_dom_classes": [],
            "_model_name": "HBoxModel",
            "_view_module": "@jupyter-widgets/controls",
            "_model_module_version": "1.5.0",
            "_view_count": null,
            "_view_module_version": "1.5.0",
            "box_style": "",
            "layout": "IPY_MODEL_8bf1d3eba56a408db6aff08c82f354dd",
            "_model_module": "@jupyter-widgets/controls",
            "children": [
              "IPY_MODEL_70d7212d31c04517a30ae0e88d5f3a47",
              "IPY_MODEL_6266a516ff324fc8b920f629c8e4ef93"
            ]
          }
        },
        "8bf1d3eba56a408db6aff08c82f354dd": {
          "model_module": "@jupyter-widgets/base",
          "model_name": "LayoutModel",
          "state": {
            "_view_name": "LayoutView",
            "grid_template_rows": null,
            "right": null,
            "justify_content": null,
            "_view_module": "@jupyter-widgets/base",
            "overflow": null,
            "_model_module_version": "1.2.0",
            "_view_count": null,
            "flex_flow": null,
            "width": null,
            "min_width": null,
            "border": null,
            "align_items": null,
            "bottom": null,
            "_model_module": "@jupyter-widgets/base",
            "top": null,
            "grid_column": null,
            "overflow_y": null,
            "overflow_x": null,
            "grid_auto_flow": null,
            "grid_area": null,
            "grid_template_columns": null,
            "flex": null,
            "_model_name": "LayoutModel",
            "justify_items": null,
            "grid_row": null,
            "max_height": null,
            "align_content": null,
            "visibility": null,
            "align_self": null,
            "height": null,
            "min_height": null,
            "padding": null,
            "grid_auto_rows": null,
            "grid_gap": null,
            "max_width": null,
            "order": null,
            "_view_module_version": "1.2.0",
            "grid_template_areas": null,
            "object_position": null,
            "object_fit": null,
            "grid_auto_columns": null,
            "margin": null,
            "display": null,
            "left": null
          }
        },
        "70d7212d31c04517a30ae0e88d5f3a47": {
          "model_module": "@jupyter-widgets/controls",
          "model_name": "FloatProgressModel",
          "state": {
            "_view_name": "ProgressView",
            "style": "IPY_MODEL_b12eb792610e485daeeb591e08200982",
            "_dom_classes": [],
            "description": "",
            "_model_name": "FloatProgressModel",
            "bar_style": "info",
            "max": 1,
            "_view_module": "@jupyter-widgets/controls",
            "_model_module_version": "1.5.0",
            "value": 1,
            "_view_count": null,
            "_view_module_version": "1.5.0",
            "orientation": "horizontal",
            "min": 0,
            "description_tooltip": null,
            "_model_module": "@jupyter-widgets/controls",
            "layout": "IPY_MODEL_ce0bf9c1836042f89dc533be242cc816"
          }
        },
        "6266a516ff324fc8b920f629c8e4ef93": {
          "model_module": "@jupyter-widgets/controls",
          "model_name": "HTMLModel",
          "state": {
            "_view_name": "HTMLView",
            "style": "IPY_MODEL_178c10ef3fef4c8dae836a2f734c66f7",
            "_dom_classes": [],
            "description": "",
            "_model_name": "HTMLModel",
            "placeholder": "​",
            "_view_module": "@jupyter-widgets/controls",
            "_model_module_version": "1.5.0",
            "value": " 50000/0 [00:25&lt;00:00, 2527.33 examples/s]",
            "_view_count": null,
            "_view_module_version": "1.5.0",
            "description_tooltip": null,
            "_model_module": "@jupyter-widgets/controls",
            "layout": "IPY_MODEL_a48d09b46e35407390cb010d966ac2f5"
          }
        },
        "b12eb792610e485daeeb591e08200982": {
          "model_module": "@jupyter-widgets/controls",
          "model_name": "ProgressStyleModel",
          "state": {
            "_view_name": "StyleView",
            "_model_name": "ProgressStyleModel",
            "description_width": "initial",
            "_view_module": "@jupyter-widgets/base",
            "_model_module_version": "1.5.0",
            "_view_count": null,
            "_view_module_version": "1.2.0",
            "bar_color": null,
            "_model_module": "@jupyter-widgets/controls"
          }
        },
        "ce0bf9c1836042f89dc533be242cc816": {
          "model_module": "@jupyter-widgets/base",
          "model_name": "LayoutModel",
          "state": {
            "_view_name": "LayoutView",
            "grid_template_rows": null,
            "right": null,
            "justify_content": null,
            "_view_module": "@jupyter-widgets/base",
            "overflow": null,
            "_model_module_version": "1.2.0",
            "_view_count": null,
            "flex_flow": null,
            "width": null,
            "min_width": null,
            "border": null,
            "align_items": null,
            "bottom": null,
            "_model_module": "@jupyter-widgets/base",
            "top": null,
            "grid_column": null,
            "overflow_y": null,
            "overflow_x": null,
            "grid_auto_flow": null,
            "grid_area": null,
            "grid_template_columns": null,
            "flex": null,
            "_model_name": "LayoutModel",
            "justify_items": null,
            "grid_row": null,
            "max_height": null,
            "align_content": null,
            "visibility": null,
            "align_self": null,
            "height": null,
            "min_height": null,
            "padding": null,
            "grid_auto_rows": null,
            "grid_gap": null,
            "max_width": null,
            "order": null,
            "_view_module_version": "1.2.0",
            "grid_template_areas": null,
            "object_position": null,
            "object_fit": null,
            "grid_auto_columns": null,
            "margin": null,
            "display": null,
            "left": null
          }
        },
        "178c10ef3fef4c8dae836a2f734c66f7": {
          "model_module": "@jupyter-widgets/controls",
          "model_name": "DescriptionStyleModel",
          "state": {
            "_view_name": "StyleView",
            "_model_name": "DescriptionStyleModel",
            "description_width": "",
            "_view_module": "@jupyter-widgets/base",
            "_model_module_version": "1.5.0",
            "_view_count": null,
            "_view_module_version": "1.2.0",
            "_model_module": "@jupyter-widgets/controls"
          }
        },
        "a48d09b46e35407390cb010d966ac2f5": {
          "model_module": "@jupyter-widgets/base",
          "model_name": "LayoutModel",
          "state": {
            "_view_name": "LayoutView",
            "grid_template_rows": null,
            "right": null,
            "justify_content": null,
            "_view_module": "@jupyter-widgets/base",
            "overflow": null,
            "_model_module_version": "1.2.0",
            "_view_count": null,
            "flex_flow": null,
            "width": null,
            "min_width": null,
            "border": null,
            "align_items": null,
            "bottom": null,
            "_model_module": "@jupyter-widgets/base",
            "top": null,
            "grid_column": null,
            "overflow_y": null,
            "overflow_x": null,
            "grid_auto_flow": null,
            "grid_area": null,
            "grid_template_columns": null,
            "flex": null,
            "_model_name": "LayoutModel",
            "justify_items": null,
            "grid_row": null,
            "max_height": null,
            "align_content": null,
            "visibility": null,
            "align_self": null,
            "height": null,
            "min_height": null,
            "padding": null,
            "grid_auto_rows": null,
            "grid_gap": null,
            "max_width": null,
            "order": null,
            "_view_module_version": "1.2.0",
            "grid_template_areas": null,
            "object_position": null,
            "object_fit": null,
            "grid_auto_columns": null,
            "margin": null,
            "display": null,
            "left": null
          }
        },
        "c6b9cc4e6a394f56b238ae3f68f7716d": {
          "model_module": "@jupyter-widgets/controls",
          "model_name": "HBoxModel",
          "state": {
            "_view_name": "HBoxView",
            "_dom_classes": [],
            "_model_name": "HBoxModel",
            "_view_module": "@jupyter-widgets/controls",
            "_model_module_version": "1.5.0",
            "_view_count": null,
            "_view_module_version": "1.5.0",
            "box_style": "",
            "layout": "IPY_MODEL_903319d7a8e14dadad0bf6c2bf8710d7",
            "_model_module": "@jupyter-widgets/controls",
            "children": [
              "IPY_MODEL_54ca923d931146d3bf3c86e3a6b74e85",
              "IPY_MODEL_3ff4fec52ddd4217ad7d98d74f74c52c"
            ]
          }
        },
        "903319d7a8e14dadad0bf6c2bf8710d7": {
          "model_module": "@jupyter-widgets/base",
          "model_name": "LayoutModel",
          "state": {
            "_view_name": "LayoutView",
            "grid_template_rows": null,
            "right": null,
            "justify_content": null,
            "_view_module": "@jupyter-widgets/base",
            "overflow": null,
            "_model_module_version": "1.2.0",
            "_view_count": null,
            "flex_flow": null,
            "width": null,
            "min_width": null,
            "border": null,
            "align_items": null,
            "bottom": null,
            "_model_module": "@jupyter-widgets/base",
            "top": null,
            "grid_column": null,
            "overflow_y": null,
            "overflow_x": null,
            "grid_auto_flow": null,
            "grid_area": null,
            "grid_template_columns": null,
            "flex": null,
            "_model_name": "LayoutModel",
            "justify_items": null,
            "grid_row": null,
            "max_height": null,
            "align_content": null,
            "visibility": null,
            "align_self": null,
            "height": null,
            "min_height": null,
            "padding": null,
            "grid_auto_rows": null,
            "grid_gap": null,
            "max_width": null,
            "order": null,
            "_view_module_version": "1.2.0",
            "grid_template_areas": null,
            "object_position": null,
            "object_fit": null,
            "grid_auto_columns": null,
            "margin": null,
            "display": null,
            "left": null
          }
        },
        "54ca923d931146d3bf3c86e3a6b74e85": {
          "model_module": "@jupyter-widgets/controls",
          "model_name": "FloatProgressModel",
          "state": {
            "_view_name": "ProgressView",
            "style": "IPY_MODEL_e883cb74c59b40e9a196addde9e53254",
            "_dom_classes": [],
            "description": " 75%",
            "_model_name": "FloatProgressModel",
            "bar_style": "danger",
            "max": 50000,
            "_view_module": "@jupyter-widgets/controls",
            "_model_module_version": "1.5.0",
            "value": 37748,
            "_view_count": null,
            "_view_module_version": "1.5.0",
            "orientation": "horizontal",
            "min": 0,
            "description_tooltip": null,
            "_model_module": "@jupyter-widgets/controls",
            "layout": "IPY_MODEL_35a75186ee614637a37242b4890e907d"
          }
        },
        "3ff4fec52ddd4217ad7d98d74f74c52c": {
          "model_module": "@jupyter-widgets/controls",
          "model_name": "HTMLModel",
          "state": {
            "_view_name": "HTMLView",
            "style": "IPY_MODEL_4300c464515e4f71bbf82e4228ad7fb7",
            "_dom_classes": [],
            "description": "",
            "_model_name": "HTMLModel",
            "placeholder": "​",
            "_view_module": "@jupyter-widgets/controls",
            "_model_module_version": "1.5.0",
            "value": " 37748/50000 [00:00&lt;00:00, 26188.86 examples/s]",
            "_view_count": null,
            "_view_module_version": "1.5.0",
            "description_tooltip": null,
            "_model_module": "@jupyter-widgets/controls",
            "layout": "IPY_MODEL_e34139db63654c5b97bbf8914bc647ee"
          }
        },
        "e883cb74c59b40e9a196addde9e53254": {
          "model_module": "@jupyter-widgets/controls",
          "model_name": "ProgressStyleModel",
          "state": {
            "_view_name": "StyleView",
            "_model_name": "ProgressStyleModel",
            "description_width": "initial",
            "_view_module": "@jupyter-widgets/base",
            "_model_module_version": "1.5.0",
            "_view_count": null,
            "_view_module_version": "1.2.0",
            "bar_color": null,
            "_model_module": "@jupyter-widgets/controls"
          }
        },
        "35a75186ee614637a37242b4890e907d": {
          "model_module": "@jupyter-widgets/base",
          "model_name": "LayoutModel",
          "state": {
            "_view_name": "LayoutView",
            "grid_template_rows": null,
            "right": null,
            "justify_content": null,
            "_view_module": "@jupyter-widgets/base",
            "overflow": null,
            "_model_module_version": "1.2.0",
            "_view_count": null,
            "flex_flow": null,
            "width": null,
            "min_width": null,
            "border": null,
            "align_items": null,
            "bottom": null,
            "_model_module": "@jupyter-widgets/base",
            "top": null,
            "grid_column": null,
            "overflow_y": null,
            "overflow_x": null,
            "grid_auto_flow": null,
            "grid_area": null,
            "grid_template_columns": null,
            "flex": null,
            "_model_name": "LayoutModel",
            "justify_items": null,
            "grid_row": null,
            "max_height": null,
            "align_content": null,
            "visibility": null,
            "align_self": null,
            "height": null,
            "min_height": null,
            "padding": null,
            "grid_auto_rows": null,
            "grid_gap": null,
            "max_width": null,
            "order": null,
            "_view_module_version": "1.2.0",
            "grid_template_areas": null,
            "object_position": null,
            "object_fit": null,
            "grid_auto_columns": null,
            "margin": null,
            "display": null,
            "left": null
          }
        },
        "4300c464515e4f71bbf82e4228ad7fb7": {
          "model_module": "@jupyter-widgets/controls",
          "model_name": "DescriptionStyleModel",
          "state": {
            "_view_name": "StyleView",
            "_model_name": "DescriptionStyleModel",
            "description_width": "",
            "_view_module": "@jupyter-widgets/base",
            "_model_module_version": "1.5.0",
            "_view_count": null,
            "_view_module_version": "1.2.0",
            "_model_module": "@jupyter-widgets/controls"
          }
        },
        "e34139db63654c5b97bbf8914bc647ee": {
          "model_module": "@jupyter-widgets/base",
          "model_name": "LayoutModel",
          "state": {
            "_view_name": "LayoutView",
            "grid_template_rows": null,
            "right": null,
            "justify_content": null,
            "_view_module": "@jupyter-widgets/base",
            "overflow": null,
            "_model_module_version": "1.2.0",
            "_view_count": null,
            "flex_flow": null,
            "width": null,
            "min_width": null,
            "border": null,
            "align_items": null,
            "bottom": null,
            "_model_module": "@jupyter-widgets/base",
            "top": null,
            "grid_column": null,
            "overflow_y": null,
            "overflow_x": null,
            "grid_auto_flow": null,
            "grid_area": null,
            "grid_template_columns": null,
            "flex": null,
            "_model_name": "LayoutModel",
            "justify_items": null,
            "grid_row": null,
            "max_height": null,
            "align_content": null,
            "visibility": null,
            "align_self": null,
            "height": null,
            "min_height": null,
            "padding": null,
            "grid_auto_rows": null,
            "grid_gap": null,
            "max_width": null,
            "order": null,
            "_view_module_version": "1.2.0",
            "grid_template_areas": null,
            "object_position": null,
            "object_fit": null,
            "grid_auto_columns": null,
            "margin": null,
            "display": null,
            "left": null
          }
        }
      }
    }
  },
  "cells": [
    {
      "cell_type": "markdown",
      "metadata": {
        "id": "e8u2aC35mcwg"
      },
      "source": [
        "#**Simple LSTM for Sentiment Analysis (on IMDB reviews)**\n",
        "by Allena Venkata Sai Abhishek(122021601009)\n",
        "\n"
      ]
    },
    {
      "cell_type": "code",
      "metadata": {
        "id": "NOlbjtJwmKS6"
      },
      "source": [
        "import tensorflow as tf\n",
        "import tensorflow_datasets as tfds\n",
        "import numpy as np"
      ],
      "execution_count": 2,
      "outputs": []
    },
    {
      "cell_type": "code",
      "metadata": {
        "colab": {
          "base_uri": "https://localhost:8080/",
          "height": 401,
          "referenced_widgets": [
            "8f157d92b68d48859c1ddefaac04442f",
            "79a49e9fea3c4746a152895e1b953f49",
            "da36e225acf34e9fb8deab1426126097",
            "326f1bfd31cf4522972508618bac3efc",
            "31ddd8c2b79a45cd8b4cfdb3fc2a6507",
            "351e994d0dcb433a8cd678b15707b0f9",
            "1f5f4f6d4c9e4b788ac0fe3c5d4c44ae",
            "b97de9e7ee7f47ad9a3b6f2ad43c882c",
            "97c3e3e7381842ff8672562762ae71b4",
            "dd7ca2ed3a224bc4865704c6015143df",
            "b499b392c02e49f38bf4a0d0fdbfc077",
            "f87a83f8050e4224b500b1112ecf4d2b",
            "a4ef3fc0132d42ec873fb89f6aded704",
            "1ba22ead412140c999fe8784c8205ad3",
            "d44ac4447bd546ee826a5ca67a8d1aeb",
            "e5ba90e3db0847bba19aeda4e51a4065",
            "83a0bc6f5c004d80a222d160bdc2a68e",
            "2083cefa2f40420cae1c26146ff4a56f",
            "5f5ca2bcdbdc4c6ab092fb38d8c63312",
            "283ae934007b4e1cac330eea2dad0a4a",
            "293e62e10be74dde9b716b9a99393f89",
            "017b2f98332c4c1dbd93badbfb2bf292",
            "4d60f8867d66453da899373a79d0ede7",
            "76294aab5b2341699272e387c4b55231",
            "1ccc89d4c2d24939a4ca2e819688f102",
            "6ad1feef5d02457188d6748b511f8026",
            "cec32e543b46437c9eaad035695f5978",
            "b792d167203049b0826e73b23e772a7e",
            "3b39b35a54744f3485f66b983a03678c",
            "87b516c28b074a249905867f7ffe0d72",
            "a869c3d7b9b542c5bc03619a3b6b0ec4",
            "8f20fe8b0d284ed7aaeeca9e7613b189",
            "71d78f2aab634847b8afe6d81ffc63aa",
            "07980ccf9ba3436cbf86dd4d60c433de",
            "e19b1ad1f4da45659564456fc39f4413",
            "8f35204bc8ee4b2da8dc8e20b5f765c7",
            "a9e20a59f78f4e8dba0199b4f5f8b799",
            "8d0bb5ed15f144d7b0afd766d48e11b5",
            "dc85bdf62d43475391622c94dd1ae1df",
            "afb674aacca342a982e515a5e0466c08",
            "7d60a2e56d9347c4947bc293c84e5180",
            "995c8a17575347ddabb1b700ed8dfe18",
            "1abdbe236bc14b52bee8d769f421bdc8",
            "731f3363e5a64298ba4cd8316a9fb905",
            "24f1081af2f0464d9c6fc64aece1f0f7",
            "0ed39af6f28f43a8b8b62fe50099d29e",
            "7d890604a56842acb0b0dc67b353bc18",
            "258ad44698b8415aab0a35c293e4ac6a",
            "2ee0685219aa48dfb9334975efbc3fe7",
            "8bf1d3eba56a408db6aff08c82f354dd",
            "70d7212d31c04517a30ae0e88d5f3a47",
            "6266a516ff324fc8b920f629c8e4ef93",
            "b12eb792610e485daeeb591e08200982",
            "ce0bf9c1836042f89dc533be242cc816",
            "178c10ef3fef4c8dae836a2f734c66f7",
            "a48d09b46e35407390cb010d966ac2f5",
            "c6b9cc4e6a394f56b238ae3f68f7716d",
            "903319d7a8e14dadad0bf6c2bf8710d7",
            "54ca923d931146d3bf3c86e3a6b74e85",
            "3ff4fec52ddd4217ad7d98d74f74c52c",
            "e883cb74c59b40e9a196addde9e53254",
            "35a75186ee614637a37242b4890e907d",
            "4300c464515e4f71bbf82e4228ad7fb7",
            "e34139db63654c5b97bbf8914bc647ee"
          ]
        },
        "id": "kB7v3wMMmSVe",
        "outputId": "14b922e5-3b74-4ca8-ddbc-a93350e0bba0"
      },
      "source": [
        "dataset, info = tfds.load(\"imdb_reviews\", with_info=True, as_supervised=True)\n",
        "\n",
        "train_dataset, test_dataset = dataset['train'], dataset['test']\n",
        "\n",
        "train_dataset.element_spec"
      ],
      "execution_count": 3,
      "outputs": [
        {
          "output_type": "stream",
          "text": [
            "\u001b[1mDownloading and preparing dataset imdb_reviews/plain_text/1.0.0 (download: 80.23 MiB, generated: Unknown size, total: 80.23 MiB) to /root/tensorflow_datasets/imdb_reviews/plain_text/1.0.0...\u001b[0m\n"
          ],
          "name": "stdout"
        },
        {
          "output_type": "display_data",
          "data": {
            "application/vnd.jupyter.widget-view+json": {
              "model_id": "8f157d92b68d48859c1ddefaac04442f",
              "version_minor": 0,
              "version_major": 2
            },
            "text/plain": [
              "HBox(children=(FloatProgress(value=1.0, bar_style='info', description='Dl Completed...', max=1.0, style=Progre…"
            ]
          },
          "metadata": {
            "tags": []
          }
        },
        {
          "output_type": "display_data",
          "data": {
            "application/vnd.jupyter.widget-view+json": {
              "model_id": "97c3e3e7381842ff8672562762ae71b4",
              "version_minor": 0,
              "version_major": 2
            },
            "text/plain": [
              "HBox(children=(FloatProgress(value=1.0, bar_style='info', description='Dl Size...', max=1.0, style=ProgressSty…"
            ]
          },
          "metadata": {
            "tags": []
          }
        },
        {
          "output_type": "stream",
          "text": [
            "\n",
            "\n",
            "\n",
            "\n"
          ],
          "name": "stdout"
        },
        {
          "output_type": "display_data",
          "data": {
            "application/vnd.jupyter.widget-view+json": {
              "model_id": "83a0bc6f5c004d80a222d160bdc2a68e",
              "version_minor": 0,
              "version_major": 2
            },
            "text/plain": [
              "HBox(children=(FloatProgress(value=1.0, bar_style='info', max=1.0), HTML(value='')))"
            ]
          },
          "metadata": {
            "tags": []
          }
        },
        {
          "output_type": "stream",
          "text": [
            "\rShuffling and writing examples to /root/tensorflow_datasets/imdb_reviews/plain_text/1.0.0.incomplete5OA8ZU/imdb_reviews-train.tfrecord\n"
          ],
          "name": "stdout"
        },
        {
          "output_type": "display_data",
          "data": {
            "application/vnd.jupyter.widget-view+json": {
              "model_id": "1ccc89d4c2d24939a4ca2e819688f102",
              "version_minor": 0,
              "version_major": 2
            },
            "text/plain": [
              "HBox(children=(FloatProgress(value=0.0, max=25000.0), HTML(value='')))"
            ]
          },
          "metadata": {
            "tags": []
          }
        },
        {
          "output_type": "stream",
          "text": [
            "\r"
          ],
          "name": "stdout"
        },
        {
          "output_type": "display_data",
          "data": {
            "application/vnd.jupyter.widget-view+json": {
              "model_id": "71d78f2aab634847b8afe6d81ffc63aa",
              "version_minor": 0,
              "version_major": 2
            },
            "text/plain": [
              "HBox(children=(FloatProgress(value=1.0, bar_style='info', max=1.0), HTML(value='')))"
            ]
          },
          "metadata": {
            "tags": []
          }
        },
        {
          "output_type": "stream",
          "text": [
            "\rShuffling and writing examples to /root/tensorflow_datasets/imdb_reviews/plain_text/1.0.0.incomplete5OA8ZU/imdb_reviews-test.tfrecord\n"
          ],
          "name": "stdout"
        },
        {
          "output_type": "display_data",
          "data": {
            "application/vnd.jupyter.widget-view+json": {
              "model_id": "7d60a2e56d9347c4947bc293c84e5180",
              "version_minor": 0,
              "version_major": 2
            },
            "text/plain": [
              "HBox(children=(FloatProgress(value=0.0, max=25000.0), HTML(value='')))"
            ]
          },
          "metadata": {
            "tags": []
          }
        },
        {
          "output_type": "stream",
          "text": [
            "\r"
          ],
          "name": "stdout"
        },
        {
          "output_type": "display_data",
          "data": {
            "application/vnd.jupyter.widget-view+json": {
              "model_id": "2ee0685219aa48dfb9334975efbc3fe7",
              "version_minor": 0,
              "version_major": 2
            },
            "text/plain": [
              "HBox(children=(FloatProgress(value=1.0, bar_style='info', max=1.0), HTML(value='')))"
            ]
          },
          "metadata": {
            "tags": []
          }
        },
        {
          "output_type": "stream",
          "text": [
            "\rShuffling and writing examples to /root/tensorflow_datasets/imdb_reviews/plain_text/1.0.0.incomplete5OA8ZU/imdb_reviews-unsupervised.tfrecord\n"
          ],
          "name": "stdout"
        },
        {
          "output_type": "display_data",
          "data": {
            "application/vnd.jupyter.widget-view+json": {
              "model_id": "c6b9cc4e6a394f56b238ae3f68f7716d",
              "version_minor": 0,
              "version_major": 2
            },
            "text/plain": [
              "HBox(children=(FloatProgress(value=0.0, max=50000.0), HTML(value='')))"
            ]
          },
          "metadata": {
            "tags": []
          }
        },
        {
          "output_type": "stream",
          "text": [
            "WARNING:absl:Dataset is using deprecated text encoder API which will be removed soon. Please use the plain_text version of the dataset and migrate to `tensorflow_text`.\n"
          ],
          "name": "stderr"
        },
        {
          "output_type": "stream",
          "text": [
            "\u001b[1mDataset imdb_reviews downloaded and prepared to /root/tensorflow_datasets/imdb_reviews/plain_text/1.0.0. Subsequent calls will reuse this data.\u001b[0m\n",
            "\r"
          ],
          "name": "stdout"
        },
        {
          "output_type": "execute_result",
          "data": {
            "text/plain": [
              "(TensorSpec(shape=(), dtype=tf.string, name=None),\n",
              " TensorSpec(shape=(), dtype=tf.int64, name=None))"
            ]
          },
          "metadata": {
            "tags": []
          },
          "execution_count": 3
        }
      ]
    },
    {
      "cell_type": "code",
      "metadata": {
        "colab": {
          "base_uri": "https://localhost:8080/"
        },
        "id": "8m328lRamqo0",
        "outputId": "48db2ee1-26d2-4826-daa7-2675ce546c23"
      },
      "source": [
        "for example, label in train_dataset.take(1):\n",
        "  print(\"text: \", example.numpy())\n",
        "  print(\"label: \", label.numpy())"
      ],
      "execution_count": 4,
      "outputs": [
        {
          "output_type": "stream",
          "text": [
            "text:  b\"This was an absolutely terrible movie. Don't be lured in by Christopher Walken or Michael Ironside. Both are great actors, but this must simply be their worst role in history. Even their great acting could not redeem this movie's ridiculous storyline. This movie is an early nineties US propaganda piece. The most pathetic scenes were those when the Columbian rebels were making their cases for revolutions. Maria Conchita Alonso appeared phony, and her pseudo-love affair with Walken was nothing but a pathetic emotional plug in a movie that was devoid of any real meaning. I am disappointed that there are movies like this, ruining actor's like Christopher Walken's good name. I could barely sit through it.\"\n",
            "label:  0\n"
          ],
          "name": "stdout"
        }
      ]
    },
    {
      "cell_type": "code",
      "metadata": {
        "id": "J372Mvidmvif"
      },
      "source": [
        "BUFFER_SIZE = 10000\n",
        "BATCH_SIZE = 64"
      ],
      "execution_count": 5,
      "outputs": []
    },
    {
      "cell_type": "code",
      "metadata": {
        "id": "1_KjX5lymyAh"
      },
      "source": [
        "train_dataset = train_dataset.shuffle(BUFFER_SIZE).batch(BATCH_SIZE).prefetch(tf.data.AUTOTUNE)\n",
        "test_dataset = test_dataset.batch(BATCH_SIZE).prefetch(tf.data.AUTOTUNE)"
      ],
      "execution_count": 6,
      "outputs": []
    },
    {
      "cell_type": "code",
      "metadata": {
        "colab": {
          "base_uri": "https://localhost:8080/"
        },
        "id": "81L3KMiQmz2O",
        "outputId": "05494129-92a1-470c-dc44-b5965cb048a9"
      },
      "source": [
        "for example, label in train_dataset.take(1):\n",
        "  print('texts: ', example.numpy()[:3])\n",
        "  print()\n",
        "  print('labels: ', label.numpy()[:3])"
      ],
      "execution_count": 7,
      "outputs": [
        {
          "output_type": "stream",
          "text": [
            "texts:  [b'I do not recommend this movie , because it\\'s inaccurate and misleading, this story was supposed to be in Algerian Berber territory, this one was shot in the southern Tunisian desert, (completetly different culture, I know I am from both Tunisia and Algeria), the other shocking element was the character of her companion aunt, speaks in the movie with a very eloquent french, university level academic french while the character she plays was supposed to be of a disturbed never left her mountain kind of personage, so living as a Bedouin with that kind of education i that context is impossible, The most disgraceful scene and disrespectful especially for the people of the region is the \"femme repudiee\" segment which is s pure invention from the writer/director, things like that will never happen in a Algerian Society ever!!!'\n",
            " b'October Sky is a highly lauded movie, and it\\xc2\\xa1\\xc2\\xa6s easy to see why. The story is easy to comprehend and many turning points are gripping, the actors and actresses do fairly good jobs, especially Jake Gyllenhaal and Chris Cooper, the hero finally gets what he wants, and it\\xc2\\xa1\\xc2\\xa6s a true story. Frankly I think the director\\xc2\\xa1\\xc2\\xa6s achievement is not comparable to the sparks and heat the original story generates. We don\\xc2\\xa1\\xc2\\xa6t see any special narrative or cinematography; the power of the movie relies much on the riveting plot and tough situation the young hero is trapped in that most audience will find themselves identify with the characters. We feel Homer\\xc2\\xa1\\xc2\\xa6s desire to earn his father\\xc2\\xa1\\xc2\\xa6s recognition and create his own future, and his resilience wins our respect. \\xc2\\xa1\\xc2\\xa7October Sky\\xc2\\xa1\\xc2\\xa8 reminds me of a later 2001 Japanese production of mini series \\xc2\\xa1\\xc2\\xa7Rocket Boy,\\xc2\\xa1\\xc2\\xa8 which might owe some of the inspiration from this movie. Actually these two works shot from two different cultures provide interesting comparison. When October Sky unfolds a story of a young man crying out loud to claim his right over his own destiny, \\xc2\\xa1\\xc2\\xa7Rocket Boy\\xc2\\xa1\\xc2\\xa8 offers a more compromised description that could sometimes constitute an acrid criticism of modern society. Starring the outstanding actor Yuji Oda, \\xc2\\xa1\\xc2\\xa7Rocket Boy\\xc2\\xa1\\xc2\\xa8 focuses on three men as ordinary as can be: a travel agent who has a dream of becoming an astronaut, a boastful advertising agent who is on the brink of being torn apart by his inferiority complex resulted from the extreme success of his father and older brother (like what Homer feels in his family), and a food company employee who is about to getting married but scared of this idea. The collected social consciousness superimposes its definition of success on its constituents and steps further to force them suffocate their dreams by claiming them \\xc2\\xa1\\xc2\\xa7impossible.\\xc2\\xa1\\xc2\\xa8 To compensate for his lost ideal, Kobayashi (Yuji) works in the tour operator because it\\xc2\\xa1\\xc2\\xa6s called \\xc2\\xa1\\xc2\\xa7Galaxy.\\xc2\\xa1\\xc2\\xa8 When his client fails him and his girlfriend decides to leave him, he finally finds strength from his father\\xc2\\xa1\\xc2\\xa6s words, who had determined to be a sailor but later found life on the sea less attractive as he had presumed. \\xc2\\xa1\\xc2\\xa7But I don\\xc2\\xa1\\xc2\\xa6t regret it,\\xc2\\xa1\\xc2\\xa8 his father told Kobayashi, \\xc2\\xa1\\xc2\\xa7at least I tried.\\xc2\\xa1\\xc2\\xa8 It is his father\\xc2\\xa1\\xc2\\xa6s confession that encourages him to resign his job and apply for astronautships despite the fact that he hurts his legs and needs to move around on a wheelchair. Kobayashi\\xc2\\xa1\\xc2\\xa6s effort finally fails, and he goes back to the travel agency. But his \\xc2\\xa1\\xc2\\xa7crazy\\xc2\\xa1\\xc2\\xa8 courage inspires his friends, and everyone loves him more. Just before the end of the series, Kobayashi is on the job as a guide of a space camp meant to let children learn more about astronauts. After the tour is over we see him leaning against a tree, unfolding a sheet of poster he tears from the bulletin board that says: \\xc2\\xa1\\xc2\\xa7Astronauts Wanted for 2004.\\xc2\\xa1\\xc2\\xa8 Kobayashi looks at the piece of paper and laughs and laughs, just like a kid looking at his ticket to Disneyland. Kobayashi may never get what he wants, but he dares his destiny and \\xc2\\xa1\\xc2\\xa7just does it.\\xc2\\xa1\\xc2\\xa8 This series is so heart-gripping not because the hero exhibits any heroic deeds, but his ordinariness and unstoppable urge to realize his dream which make us wonder and envy. Unlike Dilbert or other sarcastic writings, this show enlightens us and teaches us something. Homer and Kobayashi both have the dream, and they do what they can despite other people\\xc2\\xa1\\xc2\\xa6s opinions. I recommend other IMDB users to see the Japanese TV series. If you are a nine-to-fiver, you will feel more touched. I feel sorry that IMDB doesn\\xc2\\xa1\\xc2\\xa6t have its data, maybe you can ask somebody from Japan to help you.'\n",
            " b\"Most of the French films I've seen - and enjoyed - were more talk than action, but that's okay. I found them interesting, well-photographed and with intriguing actors. (However, I did at one point wonder if Gerald Depardieu was in every French film ever made! It seemed that way.)<br /><br />This movie has the same interesting visuals and had a good opening. But then it became talk, talk and more talk....which is fine for a drama but not for a murder mystery. After awhile, I almost fell asleep watching this.<br /><br />Actually, the film was more like a play with almost all the scenes played out in one room. Thus, if you love plays, you should like this...but I want a little more bang for a murder story.\"]\n",
            "\n",
            "labels:  [0 1 0]\n"
          ],
          "name": "stdout"
        }
      ]
    },
    {
      "cell_type": "code",
      "metadata": {
        "id": "a51q9ygym2C4"
      },
      "source": [
        "VOCAB_SIZE = 1000\n",
        "encoder = tf.keras.layers.experimental.preprocessing.TextVectorization(max_tokens=VOCAB_SIZE)\n",
        "encoder.adapt(train_dataset.map(lambda text, label:text))"
      ],
      "execution_count": 8,
      "outputs": []
    },
    {
      "cell_type": "code",
      "metadata": {
        "colab": {
          "base_uri": "https://localhost:8080/"
        },
        "id": "24VynHW1m37L",
        "outputId": "45cbedc6-1d85-47e6-a931-8c0d9cb95073"
      },
      "source": [
        "vocab = np.array(encoder.get_vocabulary())\n",
        "vocab[:20]"
      ],
      "execution_count": 9,
      "outputs": [
        {
          "output_type": "execute_result",
          "data": {
            "text/plain": [
              "array(['', '[UNK]', 'the', 'and', 'a', 'of', 'to', 'is', 'in', 'it', 'i',\n",
              "       'this', 'that', 'br', 'was', 'as', 'for', 'with', 'movie', 'but'],\n",
              "      dtype='<U14')"
            ]
          },
          "metadata": {
            "tags": []
          },
          "execution_count": 9
        }
      ]
    },
    {
      "cell_type": "code",
      "metadata": {
        "colab": {
          "base_uri": "https://localhost:8080/"
        },
        "id": "9Ye5Noekm5qp",
        "outputId": "f30f94ae-a4a7-41d4-d199-1103233bca8e"
      },
      "source": [
        "encoded_example = encoder(example)[:3].numpy()\n",
        "encoded_example"
      ],
      "execution_count": 10,
      "outputs": [
        {
          "output_type": "execute_result",
          "data": {
            "text/plain": [
              "array([[10, 82, 22, ...,  0,  0,  0],\n",
              "       [ 1,  1,  7, ...,  0,  0,  0],\n",
              "       [88,  5,  2, ...,  0,  0,  0]])"
            ]
          },
          "metadata": {
            "tags": []
          },
          "execution_count": 10
        }
      ]
    },
    {
      "cell_type": "code",
      "metadata": {
        "colab": {
          "base_uri": "https://localhost:8080/"
        },
        "id": "XZuVaDWqm7u6",
        "outputId": "a695465d-6b33-4a45-e8e2-747888ddba34"
      },
      "source": [
        "for n in range(3):\n",
        "  print(\"original: \", example[n].numpy())\n",
        "  print(\"round-trip: \", \" \".join(vocab[encoded_example[n]]))"
      ],
      "execution_count": 11,
      "outputs": [
        {
          "output_type": "stream",
          "text": [
            "original:  b'I do not recommend this movie , because it\\'s inaccurate and misleading, this story was supposed to be in Algerian Berber territory, this one was shot in the southern Tunisian desert, (completetly different culture, I know I am from both Tunisia and Algeria), the other shocking element was the character of her companion aunt, speaks in the movie with a very eloquent french, university level academic french while the character she plays was supposed to be of a disturbed never left her mountain kind of personage, so living as a Bedouin with that kind of education i that context is impossible, The most disgraceful scene and disrespectful especially for the people of the region is the \"femme repudiee\" segment which is s pure invention from the writer/director, things like that will never happen in a Algerian Society ever!!!'\n",
            "round-trip:  i do not recommend this movie because its [UNK] and [UNK] this story was supposed to be in [UNK] [UNK] [UNK] this one was shot in the [UNK] [UNK] [UNK] [UNK] different [UNK] i know i am from both [UNK] and [UNK] the other [UNK] [UNK] was the character of her [UNK] [UNK] [UNK] in the movie with a very [UNK] french [UNK] level [UNK] french while the character she plays was supposed to be of a [UNK] never left her [UNK] kind of [UNK] so living as a [UNK] with that kind of [UNK] i that [UNK] is [UNK] the most [UNK] scene and [UNK] especially for the people of the [UNK] is the [UNK] [UNK] [UNK] which is [UNK] [UNK] [UNK] from the [UNK] things like that will never happen in a [UNK] society ever                                                                                                                                                                                                                                                                                                                                                                                                                                                                                                                                                                                                                                                                                                                                                                                        \n",
            "original:  b'October Sky is a highly lauded movie, and it\\xc2\\xa1\\xc2\\xa6s easy to see why. The story is easy to comprehend and many turning points are gripping, the actors and actresses do fairly good jobs, especially Jake Gyllenhaal and Chris Cooper, the hero finally gets what he wants, and it\\xc2\\xa1\\xc2\\xa6s a true story. Frankly I think the director\\xc2\\xa1\\xc2\\xa6s achievement is not comparable to the sparks and heat the original story generates. We don\\xc2\\xa1\\xc2\\xa6t see any special narrative or cinematography; the power of the movie relies much on the riveting plot and tough situation the young hero is trapped in that most audience will find themselves identify with the characters. We feel Homer\\xc2\\xa1\\xc2\\xa6s desire to earn his father\\xc2\\xa1\\xc2\\xa6s recognition and create his own future, and his resilience wins our respect. \\xc2\\xa1\\xc2\\xa7October Sky\\xc2\\xa1\\xc2\\xa8 reminds me of a later 2001 Japanese production of mini series \\xc2\\xa1\\xc2\\xa7Rocket Boy,\\xc2\\xa1\\xc2\\xa8 which might owe some of the inspiration from this movie. Actually these two works shot from two different cultures provide interesting comparison. When October Sky unfolds a story of a young man crying out loud to claim his right over his own destiny, \\xc2\\xa1\\xc2\\xa7Rocket Boy\\xc2\\xa1\\xc2\\xa8 offers a more compromised description that could sometimes constitute an acrid criticism of modern society. Starring the outstanding actor Yuji Oda, \\xc2\\xa1\\xc2\\xa7Rocket Boy\\xc2\\xa1\\xc2\\xa8 focuses on three men as ordinary as can be: a travel agent who has a dream of becoming an astronaut, a boastful advertising agent who is on the brink of being torn apart by his inferiority complex resulted from the extreme success of his father and older brother (like what Homer feels in his family), and a food company employee who is about to getting married but scared of this idea. The collected social consciousness superimposes its definition of success on its constituents and steps further to force them suffocate their dreams by claiming them \\xc2\\xa1\\xc2\\xa7impossible.\\xc2\\xa1\\xc2\\xa8 To compensate for his lost ideal, Kobayashi (Yuji) works in the tour operator because it\\xc2\\xa1\\xc2\\xa6s called \\xc2\\xa1\\xc2\\xa7Galaxy.\\xc2\\xa1\\xc2\\xa8 When his client fails him and his girlfriend decides to leave him, he finally finds strength from his father\\xc2\\xa1\\xc2\\xa6s words, who had determined to be a sailor but later found life on the sea less attractive as he had presumed. \\xc2\\xa1\\xc2\\xa7But I don\\xc2\\xa1\\xc2\\xa6t regret it,\\xc2\\xa1\\xc2\\xa8 his father told Kobayashi, \\xc2\\xa1\\xc2\\xa7at least I tried.\\xc2\\xa1\\xc2\\xa8 It is his father\\xc2\\xa1\\xc2\\xa6s confession that encourages him to resign his job and apply for astronautships despite the fact that he hurts his legs and needs to move around on a wheelchair. Kobayashi\\xc2\\xa1\\xc2\\xa6s effort finally fails, and he goes back to the travel agency. But his \\xc2\\xa1\\xc2\\xa7crazy\\xc2\\xa1\\xc2\\xa8 courage inspires his friends, and everyone loves him more. Just before the end of the series, Kobayashi is on the job as a guide of a space camp meant to let children learn more about astronauts. After the tour is over we see him leaning against a tree, unfolding a sheet of poster he tears from the bulletin board that says: \\xc2\\xa1\\xc2\\xa7Astronauts Wanted for 2004.\\xc2\\xa1\\xc2\\xa8 Kobayashi looks at the piece of paper and laughs and laughs, just like a kid looking at his ticket to Disneyland. Kobayashi may never get what he wants, but he dares his destiny and \\xc2\\xa1\\xc2\\xa7just does it.\\xc2\\xa1\\xc2\\xa8 This series is so heart-gripping not because the hero exhibits any heroic deeds, but his ordinariness and unstoppable urge to realize his dream which make us wonder and envy. Unlike Dilbert or other sarcastic writings, this show enlightens us and teaches us something. Homer and Kobayashi both have the dream, and they do what they can despite other people\\xc2\\xa1\\xc2\\xa6s opinions. I recommend other IMDB users to see the Japanese TV series. If you are a nine-to-fiver, you will feel more touched. I feel sorry that IMDB doesn\\xc2\\xa1\\xc2\\xa6t have its data, maybe you can ask somebody from Japan to help you.'\n",
            "round-trip:  [UNK] [UNK] is a highly [UNK] movie and [UNK] easy to see why the story is easy to [UNK] and many [UNK] points are [UNK] the actors and [UNK] do fairly good [UNK] especially [UNK] [UNK] and [UNK] [UNK] the hero finally gets what he wants and [UNK] a true story [UNK] i think the [UNK] [UNK] is not [UNK] to the [UNK] and [UNK] the original story [UNK] we [UNK] see any special [UNK] or cinematography the power of the movie [UNK] much on the [UNK] plot and [UNK] situation the young hero is [UNK] in that most audience will find themselves [UNK] with the characters we feel [UNK] [UNK] to [UNK] his [UNK] [UNK] and create his own future and his [UNK] [UNK] our [UNK] [UNK] [UNK] [UNK] me of a later [UNK] japanese production of [UNK] series [UNK] [UNK] which might [UNK] some of the [UNK] from this movie actually these two works shot from two different [UNK] [UNK] interesting [UNK] when [UNK] [UNK] [UNK] a story of a young man [UNK] out [UNK] to [UNK] his right over his own [UNK] [UNK] [UNK] [UNK] a more [UNK] [UNK] that could sometimes [UNK] an [UNK] [UNK] of modern society [UNK] the [UNK] actor [UNK] [UNK] [UNK] [UNK] [UNK] on three men as [UNK] as can be a [UNK] [UNK] who has a dream of [UNK] an [UNK] a [UNK] [UNK] [UNK] who is on the [UNK] of being [UNK] apart by his [UNK] [UNK] [UNK] from the [UNK] [UNK] of his father and older brother like what [UNK] feels in his family and a [UNK] [UNK] [UNK] who is about to getting [UNK] but [UNK] of this idea the [UNK] [UNK] [UNK] [UNK] its [UNK] of [UNK] on its [UNK] and [UNK] [UNK] to [UNK] them [UNK] their [UNK] by [UNK] them [UNK] to [UNK] for his lost [UNK] [UNK] [UNK] works in the [UNK] [UNK] because [UNK] called [UNK] when his [UNK] fails him and his [UNK] [UNK] to leave him he finally finds [UNK] from his [UNK] words who had [UNK] to be a [UNK] but later found life on the [UNK] less [UNK] as he had [UNK] [UNK] i [UNK] [UNK] [UNK] his father told [UNK] [UNK] least i [UNK] it is his [UNK] [UNK] that [UNK] him to [UNK] his job and [UNK] for [UNK] despite the fact that he [UNK] his [UNK] and needs to move around on a [UNK] [UNK] effort finally fails and he goes back to the [UNK] [UNK] but his [UNK] [UNK] [UNK] his friends and everyone [UNK] him more just before the end of the series [UNK] is on the job as a [UNK] of a space [UNK] meant to let children learn more about [UNK] after the [UNK] is over we see him [UNK] against a [UNK] [UNK] a [UNK] of [UNK] he [UNK] from the [UNK] [UNK] that says [UNK] wanted for [UNK] [UNK] looks at the piece of [UNK] and laughs and laughs just like a kid looking at his [UNK] to [UNK] [UNK] may never get what he wants but he [UNK] his [UNK] and [UNK] does [UNK] this series is so [UNK] not because the hero [UNK] any [UNK] [UNK] but his [UNK] and [UNK] [UNK] to realize his dream which make us wonder and [UNK] unlike [UNK] or other [UNK] [UNK] this show [UNK] us and [UNK] us something [UNK] and [UNK] both have the dream and they do what they can despite other [UNK] [UNK] i recommend other imdb [UNK] to see the japanese tv series if you are a [UNK] you will feel more [UNK] i feel sorry that imdb [UNK] have its [UNK] maybe you can ask [UNK] from [UNK] to help you                                                                                                                                                                                                                                                                                \n",
            "original:  b\"Most of the French films I've seen - and enjoyed - were more talk than action, but that's okay. I found them interesting, well-photographed and with intriguing actors. (However, I did at one point wonder if Gerald Depardieu was in every French film ever made! It seemed that way.)<br /><br />This movie has the same interesting visuals and had a good opening. But then it became talk, talk and more talk....which is fine for a drama but not for a murder mystery. After awhile, I almost fell asleep watching this.<br /><br />Actually, the film was more like a play with almost all the scenes played out in one room. Thus, if you love plays, you should like this...but I want a little more bang for a murder story.\"\n",
            "round-trip:  most of the french films ive seen and enjoyed were more talk than action but thats okay i found them interesting [UNK] and with [UNK] actors however i did at one point wonder if [UNK] [UNK] was in every french film ever made it seemed that [UNK] br this movie has the same interesting [UNK] and had a good opening but then it became talk talk and more [UNK] is fine for a drama but not for a murder mystery after [UNK] i almost [UNK] [UNK] watching [UNK] br actually the film was more like a play with almost all the scenes played out in one room [UNK] if you love plays you should like [UNK] i want a little more [UNK] for a murder story                                                                                                                                                                                                                                                                                                                                                                                                                                                                                                                                                                                                                                                                                                                                                                                                   \n"
          ],
          "name": "stdout"
        }
      ]
    },
    {
      "cell_type": "code",
      "metadata": {
        "id": "eeAVn-0Lm9wH"
      },
      "source": [
        "model = tf.keras.Sequential([\n",
        "    encoder,\n",
        "    tf.keras.layers.Embedding(\n",
        "        input_dim=len(encoder.get_vocabulary()),\n",
        "        output_dim=64,\n",
        "        # Use masking to handle the variable sequence lengths\n",
        "        mask_zero=True),\n",
        "    tf.keras.layers.LSTM(64),\n",
        "    tf.keras.layers.Dense(64, activation='relu'),\n",
        "    tf.keras.layers.Dense(1)\n",
        "])\n",
        "model.compile(loss=tf.keras.losses.BinaryCrossentropy(from_logits=True),\n",
        "              optimizer=tf.keras.optimizers.Adam(1e-4),\n",
        "              metrics=['accuracy'])"
      ],
      "execution_count": 12,
      "outputs": []
    },
    {
      "cell_type": "code",
      "metadata": {
        "colab": {
          "base_uri": "https://localhost:8080/"
        },
        "id": "d1RzlK-Xm__K",
        "outputId": "4930f179-d800-490d-f63f-bf486e1918b8"
      },
      "source": [
        "history =model.fit(train_dataset, epochs=5,\n",
        "                    validation_data=test_dataset,\n",
        "                    validation_steps=30)"
      ],
      "execution_count": 13,
      "outputs": [
        {
          "output_type": "stream",
          "text": [
            "Epoch 1/5\n",
            "391/391 [==============================] - 76s 166ms/step - loss: 0.6508 - accuracy: 0.5482 - val_loss: 0.5039 - val_accuracy: 0.7635\n",
            "Epoch 2/5\n",
            "391/391 [==============================] - 64s 163ms/step - loss: 0.4144 - accuracy: 0.8175 - val_loss: 0.3685 - val_accuracy: 0.8365\n",
            "Epoch 3/5\n",
            "391/391 [==============================] - 63s 160ms/step - loss: 0.3435 - accuracy: 0.8536 - val_loss: 0.3556 - val_accuracy: 0.8443\n",
            "Epoch 4/5\n",
            "391/391 [==============================] - 62s 157ms/step - loss: 0.3260 - accuracy: 0.8615 - val_loss: 0.3431 - val_accuracy: 0.8495\n",
            "Epoch 5/5\n",
            "391/391 [==============================] - 63s 159ms/step - loss: 0.3162 - accuracy: 0.8680 - val_loss: 0.3310 - val_accuracy: 0.8547\n"
          ],
          "name": "stdout"
        }
      ]
    },
    {
      "cell_type": "code",
      "metadata": {
        "colab": {
          "base_uri": "https://localhost:8080/"
        },
        "id": "vLd90Y9znCUq",
        "outputId": "7584ae65-08e3-4597-8074-eda01982fbb0"
      },
      "source": [
        "model.summary()"
      ],
      "execution_count": 14,
      "outputs": [
        {
          "output_type": "stream",
          "text": [
            "Model: \"sequential\"\n",
            "_________________________________________________________________\n",
            "Layer (type)                 Output Shape              Param #   \n",
            "=================================================================\n",
            "text_vectorization (TextVect (None, None)              0         \n",
            "_________________________________________________________________\n",
            "embedding (Embedding)        (None, None, 64)          64000     \n",
            "_________________________________________________________________\n",
            "lstm (LSTM)                  (None, 64)                33024     \n",
            "_________________________________________________________________\n",
            "dense (Dense)                (None, 64)                4160      \n",
            "_________________________________________________________________\n",
            "dense_1 (Dense)              (None, 1)                 65        \n",
            "=================================================================\n",
            "Total params: 101,249\n",
            "Trainable params: 101,249\n",
            "Non-trainable params: 0\n",
            "_________________________________________________________________\n"
          ],
          "name": "stdout"
        }
      ]
    },
    {
      "cell_type": "code",
      "metadata": {
        "colab": {
          "base_uri": "https://localhost:8080/"
        },
        "id": "t9ZmOK2VnC_n",
        "outputId": "cc1cfa0d-8d54-4a53-a10e-fdf26dc2e31f"
      },
      "source": [
        "test_loss, test_acc = model.evaluate(test_dataset)\n",
        "\n",
        "print('Test Loss:', test_loss)\n",
        "print('Test Accuracy:', test_acc)"
      ],
      "execution_count": 15,
      "outputs": [
        {
          "output_type": "stream",
          "text": [
            "391/391 [==============================] - 26s 68ms/step - loss: 0.3195 - accuracy: 0.8625\n",
            "Test Loss: 0.3195170760154724\n",
            "Test Accuracy: 0.8625199794769287\n"
          ],
          "name": "stdout"
        }
      ]
    },
    {
      "cell_type": "code",
      "metadata": {
        "id": "hxDUQnQDnEx1"
      },
      "source": [
        "import matplotlib.pyplot as plt\n",
        "\n",
        "\n",
        "def plot_graphs(history, metric):\n",
        "  plt.plot(history.history[metric])\n",
        "  plt.plot(history.history['val_'+metric], '')\n",
        "  plt.xlabel(\"Epochs\")\n",
        "  plt.ylabel(metric)\n",
        "  plt.legend([metric, 'val_'+metric])"
      ],
      "execution_count": 16,
      "outputs": []
    },
    {
      "cell_type": "code",
      "metadata": {
        "colab": {
          "base_uri": "https://localhost:8080/",
          "height": 518
        },
        "id": "9cI8dSKfnGkN",
        "outputId": "d78e17be-ea06-405f-f0aa-77563a8621c4"
      },
      "source": [
        "plt.figure(figsize=(16, 8))\n",
        "plt.subplot(1, 2, 1)\n",
        "plot_graphs(history, 'accuracy')\n",
        "plt.ylim(None, 1)\n",
        "plt.subplot(1, 2, 2)\n",
        "plot_graphs(history, 'loss')\n",
        "plt.ylim(0, None)"
      ],
      "execution_count": 17,
      "outputs": [
        {
          "output_type": "execute_result",
          "data": {
            "text/plain": [
              "(0.0, 0.6675026476383209)"
            ]
          },
          "metadata": {
            "tags": []
          },
          "execution_count": 17
        },
        {
          "output_type": "display_data",
          "data": {
            "image/png": "[encoded data removed]",
            "text/plain": [
              "<Figure size 1152x576 with 2 Axes>"
            ]
          },
          "metadata": {
            "tags": [],
            "needs_background": "light"
          }
        }
      ]
    },
    {
      "cell_type": "markdown",
      "metadata": {
        "id": "CvnUT2QNnKo8"
      },
      "source": [
        "#@title Try the model for prediction(enter the review below to see the sentiment of the review)\n"
      ]
    },
    {
      "cell_type": "code",
      "metadata": {
        "colab": {
          "base_uri": "https://localhost:8080/"
        },
        "id": "Vv8tzhOjnPdu",
        "outputId": "f027352c-3b6f-4d37-d24b-b3b3446705a6"
      },
      "source": [
        "review_text = \"The movie was  good. The animation and the graphics\" #@param {type:\"string\"}\n",
        "#sample_text_1 = ('its not a good movie compared to previous one''would go for another watch')\n",
        "predictions = model.predict(np.array([review_text]))\n",
        "if predictions[0][0] > 0:\n",
        "  print(\"The sentiment of the review is POSITIVE with polarity of : \",predictions[0][0])\n",
        "else:\n",
        "  print(\"The sentiment of the review is Negative with polarity of : \",predictions[0][0])\n",
        "\n",
        "#print(\"The sentiment of the review is : \",predictions[0][0])"
      ],
      "execution_count": 18,
      "outputs": [
        {
          "output_type": "stream",
          "text": [
            "The sentiment of the review is POSITIVE with polarity of :  0.5993074\n"
          ],
          "name": "stdout"
        }
      ]
    }
  ]
}