{
  "nbformat": 4,
  "nbformat_minor": 0,
  "metadata": {
    "colab": {
      "name": "Pattern_Python_3.ipynb",
      "provenance": []
    },
    "kernelspec": {
      "name": "python3",
      "display_name": "Python 3"
    },
    "language_info": {
      "name": "python"
    }
  },
  "cells": [
    {
      "cell_type": "code",
      "metadata": {
        "colab": {
          "base_uri": "https://localhost:8080/"
        },
        "id": "fxHMLkIn5Muw",
        "outputId": "d450e9c4-421f-4dbd-c93d-6d207065a133"
      },
      "source": [
        "n =5\n",
        "for i in range(n, 0, -1):    #( starting point, ending point, difference or jump or increment )\n",
        "  print(i)"
      ],
      "execution_count": null,
      "outputs": [
        {
          "output_type": "stream",
          "text": [
            "5\n",
            "4\n",
            "3\n",
            "2\n",
            "1\n"
          ],
          "name": "stdout"
        }
      ]
    },
    {
      "cell_type": "code",
      "metadata": {
        "colab": {
          "base_uri": "https://localhost:8080/",
          "height": 35
        },
        "id": "Hu5FMg0c5WD1",
        "outputId": "dbb0177a-928a-424b-90e2-e195751a0a47"
      },
      "source": [
        "    # rows = 5 i =5 b= 1\n",
        "    # rows = 4 i =4 b= 2\n",
        "    # rows = 3 i =3 b= 3\n",
        "    # rows = 2 i =2 b= 4\n",
        "    # rows = 1 i =1 b= 5\n",
        "\n",
        "#i=5 \n",
        "#range is from (1,6);  \n",
        "#j = 1,2,3,4,5; \n",
        "#So, 5 times loop run, \n",
        "# So, b const, for the first iteration of i (i=5), b =1,\n",
        "# 5 times b vostundi, 1 1 1 1 1 \n",
        "\n",
        "'''   for j in range(1, i + 1):\n",
        "        print(b, end=\" \")\n",
        "    print(\"\\r\")'''      \n",
        "'''(1,6)\n",
        "1,2,3,4,5\n",
        "\n",
        "(1,5)\n",
        "1,2,3,4\n",
        "\n",
        "(1,4)\n",
        "1,2,3\n",
        "\n",
        "(1,3)\n",
        "1,2\n",
        "\n",
        "(1,2)\n",
        "1'''"
      ],
      "execution_count": null,
      "outputs": [
        {
          "output_type": "execute_result",
          "data": {
            "application/vnd.google.colaboratory.intrinsic+json": {
              "type": "string"
            },
            "text/plain": [
              "'(1,6)\\n1,2,3,4,5\\n\\n(1,5)\\n1,2,3,4\\n\\n(1,4)\\n1,2,3\\n\\n(1,3)\\n1,2\\n\\n(1,2)\\n1'"
            ]
          },
          "metadata": {
            "tags": []
          },
          "execution_count": 5
        }
      ]
    },
    {
      "cell_type": "code",
      "metadata": {
        "id": "GQ-MXZO3BRw7",
        "colab": {
          "base_uri": "https://localhost:8080/"
        },
        "outputId": "30c5ade8-a744-4fa0-9f3a-a5a8f299629a"
      },
      "source": [
        "rows=6\n",
        "b=1\n",
        "for num in range(rows):\n",
        "  for i in range(num):\n",
        "    print(b, end= \" \")\n",
        "    b=b+1\n",
        "  print(\"\")\n"
      ],
      "execution_count": 6,
      "outputs": [
        {
          "output_type": "stream",
          "text": [
            "\n",
            "1 \n",
            "2 3 \n",
            "4 5 6 \n",
            "7 8 9 10 \n",
            "11 12 13 14 15 \n"
          ],
          "name": "stdout"
        }
      ]
    }
  ]
}