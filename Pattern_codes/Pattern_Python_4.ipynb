{
  "nbformat": 4,
  "nbformat_minor": 0,
  "metadata": {
    "colab": {
      "name": "Pattern_Python_4.ipynb",
      "provenance": []
    },
    "kernelspec": {
      "name": "python3",
      "display_name": "Python 3"
    },
    "language_info": {
      "name": "python"
    }
  },
  "cells": [
    {
      "cell_type": "code",
      "metadata": {
        "colab": {
          "base_uri": "https://localhost:8080/"
        },
        "id": "Y5FFzom5_KyM",
        "outputId": "5035df1c-1022-4b26-bd27-ee6c5426aaff"
      },
      "source": [
        "rows=6\n",
        "\n",
        "\n",
        "for num in range(rows):\n",
        "  for i in range(num):\n",
        "    print(i+1, end= \" \")\n",
        "  print(\"\")\n"
      ],
      "execution_count": 1,
      "outputs": [
        {
          "output_type": "stream",
          "text": [
            "\n",
            "1 \n",
            "1 2 \n",
            "1 2 3 \n",
            "1 2 3 4 \n",
            "1 2 3 4 5 \n"
          ],
          "name": "stdout"
        }
      ]
    },
    {
      "cell_type": "code",
      "metadata": {
        "colab": {
          "base_uri": "https://localhost:8080/"
        },
        "id": "IdiSaWJKKMAG",
        "outputId": "5a9481c7-698d-402f-becf-1e01295bbe5e"
      },
      "source": [
        "rows = 5\n",
        "for ab in range(1, rows+1): #(1,6) 1,2,3,4,5\n",
        "# row =1 ab = 1\n",
        "# row =2 ab = 1,2\n",
        "# row =3 ab = 1,2,3\n",
        "# row =4 ab = 1,2,3,4\n",
        "# row =5 ab = 1,2,3,4,5\n",
        "# 5 rows, 5 lines\n",
        "    for an in range(1, ab + 1):\n",
        "#  ab =1 (1,2) an = 1\n",
        "\n",
        "#  ab =1 (1,2) an = 1\n",
        "#  ab =2 (1,3) an = 1,2\n",
        "\n",
        "#  ab =1 (1,2) an = 1\n",
        "#  ab =2 (1,3) an = 1,2\n",
        "#  ab =3 (1,4) an = 1,2,3\n",
        "\n",
        "#  ab =1 (1,2) an = 1\n",
        "#  ab =2 (1,3) an = 1,2\n",
        "#  ab =3 (1,4) an = 1,2,3\n",
        "#  ab =4 (1,5) an = 1,2,3,4\n",
        "\n",
        "#  ab =1 (1,2) an = 1\n",
        "#  ab =2 (1,3) an = 1,2\n",
        "#  ab =3 (1,4) an = 1,2,3\n",
        "#  ab =4 (1,5) an = 1,2,3,4\n",
        "#  ab =5 (1,6) an = 1,2,3,4,5\n",
        "\n",
        "        print(an, end=\" \")\n",
        "    print(\" \")"
      ],
      "execution_count": 2,
      "outputs": [
        {
          "output_type": "stream",
          "text": [
            "1  \n",
            "1 2  \n",
            "1 2 3  \n",
            "1 2 3 4  \n",
            "1 2 3 4 5  \n"
          ],
          "name": "stdout"
        }
      ]
    }
  ]
}