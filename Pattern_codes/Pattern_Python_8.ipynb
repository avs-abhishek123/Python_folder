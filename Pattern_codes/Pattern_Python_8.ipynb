{
  "nbformat": 4,
  "nbformat_minor": 0,
  "metadata": {
    "colab": {
      "name": "Pattern_Python_8.ipynb",
      "provenance": []
    },
    "kernelspec": {
      "name": "python3",
      "display_name": "Python 3"
    },
    "language_info": {
      "name": "python"
    }
  },
  "cells": [
    {
      "cell_type": "code",
      "metadata": {
        "colab": {
          "base_uri": "https://localhost:8080/"
        },
        "id": "ShoHuBdDYQTH",
        "outputId": "f3795108-e798-4934-9063-6b61b30b3cf6"
      },
      "source": [
        "rows = 3\n",
        "a=1\n",
        "b=2\n",
        "\n",
        "for num in range(rows): # 0,1,2\n",
        "  for i in range(a,b+2): #range(1,2) = 1 \n",
        "    print(a, end= \" \")\n",
        "    print(\"sdfvsdgsdf\")\n",
        "    print(b)\n",
        "    a=a+1\n",
        "  print(\" \")\n",
        "  b+=2\n",
        "  "
      ],
      "execution_count": 1,
      "outputs": [
        {
          "output_type": "stream",
          "text": [
            "1 sdfvsdgsdf\n",
            "2\n",
            "2 sdfvsdgsdf\n",
            "2\n",
            "3 sdfvsdgsdf\n",
            "2\n",
            " \n",
            "4 sdfvsdgsdf\n",
            "4\n",
            "5 sdfvsdgsdf\n",
            "4\n",
            " \n",
            "6 sdfvsdgsdf\n",
            "6\n",
            "7 sdfvsdgsdf\n",
            "6\n",
            " \n"
          ],
          "name": "stdout"
        }
      ]
    },
    {
      "cell_type": "code",
      "metadata": {
        "colab": {
          "base_uri": "https://localhost:8080/"
        },
        "id": "G3GjRNArYW1r",
        "outputId": "71a59938-7f84-4979-94ff-840481d2730d"
      },
      "source": [
        "rows=3\n",
        "a =1\n",
        "b =2\n",
        "\n",
        "for num in range(rows):\n",
        "  for i in range(1,b):\n",
        "    print(a,end= \" \")\n",
        "    a+=1\n",
        "  print(\" \")\n",
        "  b+=2"
      ],
      "execution_count": 2,
      "outputs": [
        {
          "output_type": "stream",
          "text": [
            "1  \n",
            "2 3 4  \n",
            "5 6 7 8 9  \n"
          ],
          "name": "stdout"
        }
      ]
    }
  ]
}