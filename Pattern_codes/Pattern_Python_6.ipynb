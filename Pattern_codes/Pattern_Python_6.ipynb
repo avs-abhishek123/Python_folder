{
  "nbformat": 4,
  "nbformat_minor": 0,
  "metadata": {
    "colab": {
      "name": "Pattern_Python_6.ipynb",
      "provenance": []
    },
    "kernelspec": {
      "name": "python3",
      "display_name": "Python 3"
    },
    "language_info": {
      "name": "python"
    }
  },
  "cells": [
    {
      "cell_type": "code",
      "metadata": {
        "colab": {
          "base_uri": "https://localhost:8080/"
        },
        "id": "FTytB1vnOxK3",
        "outputId": "1cf70cf4-acf4-4ac0-c595-f6af65220de7"
      },
      "source": [
        "rows = 5\n",
        "#(1,6) = 1,2,3,4,5\n",
        "for num in range(1,rows+1,1):\n",
        "  for i in range(num,0,-1):\n",
        "    print(i, end= \" \")\n",
        "  print(\" \")"
      ],
      "execution_count": 1,
      "outputs": [
        {
          "output_type": "stream",
          "text": [
            "1  \n",
            "2 1  \n",
            "3 2 1  \n",
            "4 3 2 1  \n",
            "5 4 3 2 1  \n"
          ],
          "name": "stdout"
        }
      ]
    }
  ]
}