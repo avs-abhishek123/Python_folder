{
  "nbformat": 4,
  "nbformat_minor": 0,
  "metadata": {
    "colab": {
      "name": "Pattern_Python_5.ipynb",
      "provenance": []
    },
    "kernelspec": {
      "name": "python3",
      "display_name": "Python 3"
    },
    "language_info": {
      "name": "python"
    }
  },
  "cells": [
    {
      "cell_type": "code",
      "metadata": {
        "colab": {
          "base_uri": "https://localhost:8080/"
        },
        "id": "7Zl22fWWN2PT",
        "outputId": "51cdf239-13c4-4dae-f03d-cc56fbe1d120"
      },
      "source": [
        "rows = 5\n",
        "#5,4,3,2,1 5 rows or lines\n",
        "#5,4,3,2,1\n",
        "\n",
        "#range (5,0,-1)\n",
        "#row =0 num=0\n",
        "#row = 5 num = 5 \n",
        "# row =4 num = 4\n",
        "#3,3,\n",
        "#2,2,\n",
        "#1,1\n",
        "#o not there\n",
        "#num =5 i =0,1,2,3,4 (0,5)\n",
        "#num =4 i =0,1,2,3 (0,4)\n",
        "#num =3 i =0,1,2 (0,3)\n",
        "#num =2 i =0,1 (0,2)\n",
        "#num =1 i =0 (0,1)\n",
        "\n",
        "for num in range(rows,0,-1 ):\n",
        "  for i in range(num): #num = 5 (0,5)\n",
        "#    print(i, end =\" \")\n",
        "    print(num, end=\" \")\n",
        "  print(\" \")"
      ],
      "execution_count": 1,
      "outputs": [
        {
          "output_type": "stream",
          "text": [
            "5 5 5 5 5  \n",
            "4 4 4 4  \n",
            "3 3 3  \n",
            "2 2  \n",
            "1  \n"
          ],
          "name": "stdout"
        }
      ]
    },
    {
      "cell_type": "code",
      "metadata": {
        "id": "VBEuC9kiOXcp",
        "outputId": "21af1eb4-db35-489e-e955-e61417f3a894",
        "colab": {
          "base_uri": "https://localhost:8080/"
        }
      },
      "source": [
        "rows=5\n",
        "for num in range(rows,0,-1):\n",
        "  for i in range(num):\n",
        "    print(rows, end=\" \")\n",
        "  print(\" \")"
      ],
      "execution_count": 2,
      "outputs": [
        {
          "output_type": "stream",
          "text": [
            "5 5 5 5 5  \n",
            "5 5 5 5  \n",
            "5 5 5  \n",
            "5 5  \n",
            "5  \n"
          ],
          "name": "stdout"
        }
      ]
    },
    {
      "cell_type": "code",
      "metadata": {
        "id": "-W1BLmOTOZ3n",
        "outputId": "93262c23-28a2-402d-d778-020785a09024",
        "colab": {
          "base_uri": "https://localhost:8080/"
        }
      },
      "source": [
        "rows=5\n",
        "for num in range(rows+1):\n",
        "  for i in range(num):\n",
        "    print(rows, end=\" \")\n",
        "  print(\" \")"
      ],
      "execution_count": 3,
      "outputs": [
        {
          "output_type": "stream",
          "text": [
            " \n",
            "5  \n",
            "5 5  \n",
            "5 5 5  \n",
            "5 5 5 5  \n",
            "5 5 5 5 5  \n"
          ],
          "name": "stdout"
        }
      ]
    }
  ]
}