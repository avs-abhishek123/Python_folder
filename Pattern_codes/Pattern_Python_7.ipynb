{
  "nbformat": 4,
  "nbformat_minor": 0,
  "metadata": {
    "colab": {
      "name": "Pattern_Python_7.ipynb",
      "provenance": []
    },
    "kernelspec": {
      "name": "python3",
      "display_name": "Python 3"
    },
    "language_info": {
      "name": "python"
    }
  },
  "cells": [
    {
      "cell_type": "code",
      "metadata": {
        "colab": {
          "base_uri": "https://localhost:8080/"
        },
        "id": "2HIIwwA0WXx_",
        "outputId": "4d9c1d04-7b96-44dd-dad1-6df61094f0a7"
      },
      "source": [
        "rows = 5\n",
        "#(1,6) = 1,2,3,4,5\n",
        "for num in range(rows+1,1,-1):\n",
        "  for i in range(0,num):\n",
        "    print(i, end= \" \")\n",
        "  print(\" \")"
      ],
      "execution_count": 1,
      "outputs": [
        {
          "output_type": "stream",
          "text": [
            "0 1 2 3 4 5  \n",
            "0 1 2 3 4  \n",
            "0 1 2 3  \n",
            "0 1 2  \n",
            "0 1  \n"
          ],
          "name": "stdout"
        }
      ]
    }
  ]
}