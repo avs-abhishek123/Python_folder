{
  "nbformat": 4,
  "nbformat_minor": 0,
  "metadata": {
    "colab": {
      "name": "Pattern_Python_1.ipynb",
      "provenance": []
    },
    "kernelspec": {
      "name": "python3",
      "display_name": "Python 3"
    },
    "language_info": {
      "name": "python"
    }
  },
  "cells": [
    {
      "cell_type": "code",
      "metadata": {
        "colab": {
          "base_uri": "https://localhost:8080/"
        },
        "id": "pPtWem8wybyZ",
        "outputId": "82ed23a1-6002-4713-eac5-cd9f0f263cf2"
      },
      "source": [
        "'''N=int(input())\n",
        "for i in range(N):\n",
        "\n",
        "\n",
        "print()\n",
        "'''\n",
        "#Python range() Function\n",
        "\n",
        "#The range() function returns a sequence of numbers, starting from 0 by default, \n",
        "#and increments by 1 (by default), and stops before a specified number.\n",
        "\n",
        "rows = 5\n",
        "for num in range(rows): \n",
        "    # num=0, rows=0\n",
        "    # num=1, rows=1\n",
        "    # num=2, rows=2\n",
        "    # num=3, rows=3\n",
        "    # num=4, rows=4\n",
        "    #print(num,\"\\n\") \n",
        "    for i in range(num):  #0,1,2,3 \n",
        "      # num=0, i=0\n",
        "      # num=1, i=0,1\n",
        "      # num=2, i=0,1,2\n",
        "      # num=3, i=0,1,2,3\n",
        "\n",
        "        print(num, end=\" \") # print number  \n",
        "        \n",
        "#end=\" \" In Python 3.x, the end=' ' is used to place a space after the displayed string instead of a newline.\n",
        "# \"\\n\" is used for next line printing\n",
        "# line after each row to display pattern correctly\n",
        "\n",
        "    print(\" \")"
      ],
      "execution_count": 1,
      "outputs": [
        {
          "output_type": "stream",
          "text": [
            " \n",
            "1  \n",
            "2 2  \n",
            "3 3 3  \n",
            "4 4 4 4  \n"
          ],
          "name": "stdout"
        }
      ]
    }
  ]
}