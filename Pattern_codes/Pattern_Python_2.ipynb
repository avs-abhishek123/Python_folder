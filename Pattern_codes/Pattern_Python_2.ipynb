{
  "nbformat": 4,
  "nbformat_minor": 0,
  "metadata": {
    "colab": {
      "name": "Pattern_Python_2.ipynb",
      "provenance": []
    },
    "kernelspec": {
      "name": "python3",
      "display_name": "Python 3"
    },
    "language_info": {
      "name": "python"
    }
  },
  "cells": [
    {
      "cell_type": "code",
      "metadata": {
        "colab": {
          "base_uri": "https://localhost:8080/"
        },
        "id": "rKDGUaeazznp",
        "outputId": "3c7a414b-a817-4ec3-e59d-7781858d1aff"
      },
      "source": [
        "n=10\n",
        "for i in range(n): #0-9\n",
        "  print(i)\n",
        "  #i=i+1"
      ],
      "execution_count": 1,
      "outputs": [
        {
          "output_type": "stream",
          "text": [
            "0\n",
            "1\n",
            "2\n",
            "3\n",
            "4\n",
            "5\n",
            "6\n",
            "7\n",
            "8\n",
            "9\n"
          ],
          "name": "stdout"
        }
      ]
    },
    {
      "cell_type": "markdown",
      "metadata": {
        "id": "aqhCgWJpz_41"
      },
      "source": [
        "1\n",
        "\n",
        "2 2\n",
        "\n",
        "3 3 3\n",
        "\n",
        "4 4 4 4\n",
        "\n",
        "5 5 5 5 5"
      ]
    },
    {
      "cell_type": "code",
      "metadata": {
        "colab": {
          "base_uri": "https://localhost:8080/",
          "height": 126
        },
        "id": "MgczXPvDz8nd",
        "outputId": "f24848a0-2cef-4f97-b910-21561ac09ebd"
      },
      "source": [
        "rows = 5\n",
        "b = 0\n",
        "for i in range(rows, 0, -1):\n",
        "    # rows = 5 i =5 b= 1\n",
        "    # rows = 4 i =4 b= 2\n",
        "    # rows = 3 i =3 b= 3\n",
        "    # rows = 2 i =2 b= 4\n",
        "    # rows = 1 i =1 b= 5\n",
        "\n",
        "    b += 1 \n",
        "# b=b+1 can be written as b+=1 shortcut\n",
        "    #b=0+1 =1\n",
        "    #b=1+1 =2\n",
        "    #b=2+1 =3\n",
        "    #b=3+1 =4\n",
        "    #b=4+1 =5\n",
        "\n",
        "    # rows = 5 i =5 b= 1\n",
        "    # rows = 4 i =4 b= 2\n",
        "    # rows = 3 i =3 b= 3\n",
        "    # rows = 2 i =2 b= 4\n",
        "    # rows = 1 i =1 b= 5\n",
        "\n",
        "#i=5 \n",
        "#range is from (1,6);  \n",
        "#j = 1,2,3,4,5; \n",
        "#So, 5 times loop run, \n",
        "# So, b const, for the first iteration of i (i=5), b =1,\n",
        "# 5 times b vostundi, 1 1 1 1 1 \n",
        "\n",
        "    for j in range(1, i + 1):\n",
        "        print(b, end=\" \")\n",
        "    print(\"\\r\")      \n",
        "'''(1,6)\n",
        "1,2,3,4,5\n",
        "\n",
        "(1,5)\n",
        "1,2,3,4\n",
        "\n",
        "(1,4)\n",
        "1,2,3\n",
        "\n",
        "(1,3)\n",
        "1,2\n",
        "\n",
        "(1,2)\n",
        "1'''"
      ],
      "execution_count": 3,
      "outputs": [
        {
          "output_type": "stream",
          "text": [
            "1 1 1 1 1 \r\n",
            "2 2 2 2 \r\n",
            "3 3 3 \r\n",
            "4 4 \r\n",
            "5 \r\n"
          ],
          "name": "stdout"
        },
        {
          "output_type": "execute_result",
          "data": {
            "application/vnd.google.colaboratory.intrinsic+json": {
              "type": "string"
            },
            "text/plain": [
              "'(1,6)\\n1,2,3,4,5\\n\\n(1,5)\\n1,2,3,4\\n\\n(1,4)\\n1,2,3\\n\\n(1,3)\\n1,2\\n\\n(1,2)\\n1'"
            ]
          },
          "metadata": {
            "tags": []
          },
          "execution_count": 3
        }
      ]
    }
  ]
}