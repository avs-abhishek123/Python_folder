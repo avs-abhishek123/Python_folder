{
  "nbformat": 4,
  "nbformat_minor": 0,
  "metadata": {
    "colab": {
      "name": "VDSS09_FCNN_MNIST.ipynb",
      "provenance": []
    },
    "kernelspec": {
      "name": "python3",
      "display_name": "Python 3"
    },
    "language_info": {
      "name": "python"
    },
    "accelerator": "GPU"
  },
  "cells": [
    {
      "cell_type": "markdown",
      "metadata": {
        "id": "uhKxq2HpaGWz"
      },
      "source": [
        "ALLENA VENKATA SAI ABHISHEK\n",
        "\n",
        "122021601009\n"
      ]
    },
    {
      "cell_type": "markdown",
      "metadata": {
        "id": "oZ76jZ_jXVNp"
      },
      "source": [
        "###**Task 1: Implement a Fully Connected Neural Network and validate on the MNIST dataset** "
      ]
    },
    {
      "cell_type": "code",
      "metadata": {
        "id": "QTkY7GPYV4z1"
      },
      "source": [
        "# Importing essential libraries\n",
        "import numpy as np #for array operations\n",
        "import tensorflow as tf #to import tensorflow interfaces\n",
        "import matplotlib.pyplot as plt #for visualization\n",
        "import keras\n",
        "from keras.utils.np_utils import to_categorical\n",
        "from keras.layers import Dense\n",
        "from keras.models import Sequential"
      ],
      "execution_count": 1,
      "outputs": []
    },
    {
      "cell_type": "markdown",
      "metadata": {
        "id": "N0maWYMcXjRl"
      },
      "source": [
        "####**Loading the dataset**"
      ]
    },
    {
      "cell_type": "code",
      "metadata": {
        "colab": {
          "base_uri": "https://localhost:8080/",
          "height": 0
        },
        "id": "OEZjMW1LXh1t",
        "outputId": "26827de4-a4cd-4626-f70f-9c8981ecfc32"
      },
      "source": [
        "# Loading dataset and performing train-test split\n",
        "(x_train, y_train), (x_test, y_test) = tf.keras.datasets.mnist.load_data()"
      ],
      "execution_count": 2,
      "outputs": [
        {
          "output_type": "stream",
          "text": [
            "Downloading data from https://storage.googleapis.com/tensorflow/tf-keras-datasets/mnist.npz\n",
            "11493376/11490434 [==============================] - 0s 0us/step\n"
          ],
          "name": "stdout"
        }
      ]
    },
    {
      "cell_type": "code",
      "metadata": {
        "colab": {
          "base_uri": "https://localhost:8080/",
          "height": 0
        },
        "id": "zbBLSWoxXl87",
        "outputId": "ddcc82e6-4d9d-4464-f36c-41c630f2acc5"
      },
      "source": [
        "# Displaying the dimensions of the training and test set\n",
        "print(\"Training data shape: \", x_train.shape)\n",
        "print(\"Test data shape\", x_test.shape)"
      ],
      "execution_count": 3,
      "outputs": [
        {
          "output_type": "stream",
          "text": [
            "Training data shape:  (60000, 28, 28)\n",
            "Test data shape (10000, 28, 28)\n"
          ],
          "name": "stdout"
        }
      ]
    },
    {
      "cell_type": "markdown",
      "metadata": {
        "id": "ibnkNVsKXp52"
      },
      "source": [
        "As displayed, the training dataset has 60,000 images and test dataset has 10,000 images. Each image is of size 28x28 pixel."
      ]
    },
    {
      "cell_type": "markdown",
      "metadata": {
        "id": "0Go85nwUXrYs"
      },
      "source": [
        "####**Viewing a sample image from the dataset**"
      ]
    },
    {
      "cell_type": "code",
      "metadata": {
        "colab": {
          "base_uri": "https://localhost:8080/",
          "height": 301
        },
        "id": "ifDjIQS_Xqba",
        "outputId": "e6deb78b-e5b6-4454-e9a0-56d66d279b2f"
      },
      "source": [
        "image_index = 7777\n",
        "print(y_train[image_index])\n",
        "plt.imshow(x_train[image_index], cmap='Greys')"
      ],
      "execution_count": 4,
      "outputs": [
        {
          "output_type": "stream",
          "text": [
            "8\n"
          ],
          "name": "stdout"
        },
        {
          "output_type": "execute_result",
          "data": {
            "text/plain": [
              "<matplotlib.image.AxesImage at 0x7f1f9647b790>"
            ]
          },
          "metadata": {
            "tags": []
          },
          "execution_count": 4
        },
        {
          "output_type": "display_data",
          "data": {
            "image/png": "[encoded data removed]",
            "text/plain": [
              "<Figure size 432x288 with 1 Axes>"
            ]
          },
          "metadata": {
            "tags": [],
            "needs_background": "light"
          }
        }
      ]
    },
    {
      "cell_type": "markdown",
      "metadata": {
        "id": "AxJR3eRuXvhz"
      },
      "source": [
        "For fully connected neural networks, the input data must be a vector. Instead of several 28x28 images, we consider several vectors that are all of length 784 (28*28=784). So, the images need to be flattened."
      ]
    },
    {
      "cell_type": "markdown",
      "metadata": {
        "id": "dZubIijsXx9I"
      },
      "source": [
        "####**Preprocessing**"
      ]
    },
    {
      "cell_type": "code",
      "metadata": {
        "id": "57-SUgPwX0YP"
      },
      "source": [
        "# Flatten the images\n",
        "image_vector_size = 28*28\n",
        "x_train = x_train.reshape(x_train.shape[0], image_vector_size)\n",
        "x_test = x_test.reshape(x_test.shape[0], image_vector_size)"
      ],
      "execution_count": 5,
      "outputs": []
    },
    {
      "cell_type": "code",
      "metadata": {
        "colab": {
          "base_uri": "https://localhost:8080/",
          "height": 0
        },
        "id": "IFNRhR0yX3kT",
        "outputId": "5ed36d4f-6730-45ce-e630-0473898d4c16"
      },
      "source": [
        "# Convert to \"one-hot\" vectors using the to_categorical function\n",
        "num_classes = 10\n",
        "y_train = to_categorical(y_train, num_classes)\n",
        "y_test = to_categorical(y_test, num_classes)\n",
        "print(\"First 5 training lables as one-hot encoded vectors:\\n\", y_train[:5])"
      ],
      "execution_count": 6,
      "outputs": [
        {
          "output_type": "stream",
          "text": [
            "First 5 training lables as one-hot encoded vectors:\n",
            " [[0. 0. 0. 0. 0. 1. 0. 0. 0. 0.]\n",
            " [1. 0. 0. 0. 0. 0. 0. 0. 0. 0.]\n",
            " [0. 0. 0. 0. 1. 0. 0. 0. 0. 0.]\n",
            " [0. 1. 0. 0. 0. 0. 0. 0. 0. 0.]\n",
            " [0. 0. 0. 0. 0. 0. 0. 0. 0. 1.]]\n"
          ],
          "name": "stdout"
        }
      ]
    },
    {
      "cell_type": "markdown",
      "metadata": {
        "id": "TiQtjf44X8PI"
      },
      "source": [
        "###**Building the Fully Connected Network**"
      ]
    },
    {
      "cell_type": "code",
      "metadata": {
        "id": "0cu5rOlZX5dV"
      },
      "source": [
        "image_size = 784 # 28*28\n",
        "num_classes = 10 # ten unique digits"
      ],
      "execution_count": 7,
      "outputs": []
    },
    {
      "cell_type": "code",
      "metadata": {
        "colab": {
          "base_uri": "https://localhost:8080/",
          "height": 0
        },
        "id": "Vy4nVgDhX_V_",
        "outputId": "8a3839ab-7fb0-4412-a1e7-e4240fee82fe"
      },
      "source": [
        "model = Sequential()\n",
        "\n",
        "# The input layer requires the special input_shape parameter which should match the shape of our training data.\n",
        "model.add(Dense(units=32, activation='sigmoid', input_shape=(image_size,)))\n",
        "model.add(Dense(units=num_classes, activation='softmax'))\n",
        "model.summary()"
      ],
      "execution_count": 8,
      "outputs": [
        {
          "output_type": "stream",
          "text": [
            "Model: \"sequential\"\n",
            "_________________________________________________________________\n",
            "Layer (type)                 Output Shape              Param #   \n",
            "=================================================================\n",
            "dense (Dense)                (None, 32)                25120     \n",
            "_________________________________________________________________\n",
            "dense_1 (Dense)              (None, 10)                330       \n",
            "=================================================================\n",
            "Total params: 25,450\n",
            "Trainable params: 25,450\n",
            "Non-trainable params: 0\n",
            "_________________________________________________________________\n"
          ],
          "name": "stdout"
        }
      ]
    },
    {
      "cell_type": "markdown",
      "metadata": {
        "id": "QBF2gWImYC-4"
      },
      "source": [
        " ### **Task 2: Training of model**\n",
        "\n",
        " Taken train test split as 70:30"
      ]
    },
    {
      "cell_type": "code",
      "metadata": {
        "colab": {
          "base_uri": "https://localhost:8080/",
          "height": 0
        },
        "id": "8LCduHqbYDty",
        "outputId": "ec0bd2aa-019a-4191-a0b0-9afecae47c81"
      },
      "source": [
        "model.compile(optimizer=\"sgd\", loss='categorical_crossentropy', metrics=['accuracy'])\n",
        "history = model.fit(x_train, y_train, batch_size=128, epochs=5, validation_split=.3)"
      ],
      "execution_count": 9,
      "outputs": [
        {
          "output_type": "stream",
          "text": [
            "Epoch 1/5\n",
            "329/329 [==============================] - 15s 4ms/step - loss: 1.8522 - accuracy: 0.4336 - val_loss: 1.0867 - val_accuracy: 0.7814\n",
            "Epoch 2/5\n",
            "329/329 [==============================] - 1s 3ms/step - loss: 1.0134 - accuracy: 0.7964 - val_loss: 0.8360 - val_accuracy: 0.8282\n",
            "Epoch 3/5\n",
            "329/329 [==============================] - 1s 3ms/step - loss: 0.7880 - accuracy: 0.8425 - val_loss: 0.6777 - val_accuracy: 0.8602\n",
            "Epoch 4/5\n",
            "329/329 [==============================] - 1s 3ms/step - loss: 0.6582 - accuracy: 0.8649 - val_loss: 0.6047 - val_accuracy: 0.8683\n",
            "Epoch 5/5\n",
            "329/329 [==============================] - 1s 3ms/step - loss: 0.5882 - accuracy: 0.8730 - val_loss: 0.5420 - val_accuracy: 0.8759\n"
          ],
          "name": "stdout"
        }
      ]
    },
    {
      "cell_type": "markdown",
      "metadata": {
        "id": "9-ot6F51YHQ1"
      },
      "source": [
        "####**Visualization**"
      ]
    },
    {
      "cell_type": "code",
      "metadata": {
        "colab": {
          "base_uri": "https://localhost:8080/",
          "height": 573
        },
        "id": "U5Ce0gB1YH9A",
        "outputId": "02c92585-e612-4919-e168-35464d54a34c"
      },
      "source": [
        "loss, accuracy  = model.evaluate(x_test, y_test, verbose=False)\n",
        "history.history\n",
        "plt.plot(history.history['accuracy'])\n",
        "plt.plot(history.history['val_accuracy'])\n",
        "plt.title('model accuracy')\n",
        "plt.ylabel('accuracy')\n",
        "plt.xlabel('epoch')\n",
        "plt.legend(['train', 'test'], loc='upper left')\n",
        "plt.show()\n",
        "\n",
        "plt.plot(history.history['loss'])\n",
        "plt.plot(history.history['val_loss'])\n",
        "plt.title('model loss')\n",
        "plt.ylabel('loss')\n",
        "plt.xlabel('epoch')\n",
        "plt.legend(['train', 'test'], loc='upper left')\n",
        "plt.show()"
      ],
      "execution_count": 10,
      "outputs": [
        {
          "output_type": "display_data",
          "data": {
            "image/png": "[encoded data removed]",
            "text/plain": [
              "<Figure size 432x288 with 1 Axes>"
            ]
          },
          "metadata": {
            "tags": [],
            "needs_background": "light"
          }
        },
        {
          "output_type": "display_data",
          "data": {
            "image/png": "[encoded data removed]",
            "text/plain": [
              "<Figure size 432x288 with 1 Axes>"
            ]
          },
          "metadata": {
            "tags": [],
            "needs_background": "light"
          }
        }
      ]
    },
    {
      "cell_type": "markdown",
      "metadata": {
        "id": "WiiqOHFBYLKK"
      },
      "source": [
        "####**Task 3: Evaluation of model**"
      ]
    },
    {
      "cell_type": "code",
      "metadata": {
        "colab": {
          "base_uri": "https://localhost:8080/",
          "height": 0
        },
        "id": "cd-N5MPgYNjd",
        "outputId": "2d2da90f-fc20-46af-92e0-6d280959439c"
      },
      "source": [
        "score = model.evaluate(x_test,y_test)"
      ],
      "execution_count": 11,
      "outputs": [
        {
          "output_type": "stream",
          "text": [
            "313/313 [==============================] - 1s 2ms/step - loss: 0.5366 - accuracy: 0.8846\n"
          ],
          "name": "stdout"
        }
      ]
    },
    {
      "cell_type": "code",
      "metadata": {
        "colab": {
          "base_uri": "https://localhost:8080/",
          "height": 0
        },
        "id": "yFTmHjFeYOjF",
        "outputId": "3647bf89-a10e-4548-b31a-e002f0e9dd2a"
      },
      "source": [
        "print('Test loss:', score[0]) \n",
        "print('Test accuracy:', score[1])"
      ],
      "execution_count": 12,
      "outputs": [
        {
          "output_type": "stream",
          "text": [
            "Test loss: 0.5366166234016418\n",
            "Test accuracy: 0.8845999836921692\n"
          ],
          "name": "stdout"
        }
      ]
    }
  ]
}