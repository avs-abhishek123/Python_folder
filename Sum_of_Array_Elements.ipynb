{
  "nbformat": 4,
  "nbformat_minor": 0,
  "metadata": {
    "colab": {
      "name": "Sum_of_Array_Elements.ipynb",
      "provenance": []
    },
    "kernelspec": {
      "name": "python3",
      "display_name": "Python 3"
    },
    "language_info": {
      "name": "python"
    }
  },
  "cells": [
    {
      "cell_type": "code",
      "metadata": {
        "colab": {
          "base_uri": "https://localhost:8080/"
        },
        "id": "fyT2inkdpOBU",
        "outputId": "8ed72efa-0b8d-437e-e8b0-526ea7fe1cba"
      },
      "source": [
        "arr=[1,2,3,5,6]\n",
        "n=len(arr)\n",
        "sum=0\n",
        "for i in range(n):\n",
        "    sum+=arr[i]\n",
        "print (sum)\n",
        "\n",
        "\n",
        "\n"
      ],
      "execution_count": 2,
      "outputs": [
        {
          "output_type": "stream",
          "text": [
            "17\n"
          ],
          "name": "stdout"
        }
      ]
    }
  ]
}