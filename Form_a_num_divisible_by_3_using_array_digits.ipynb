{
  "nbformat": 4,
  "nbformat_minor": 0,
  "metadata": {
    "colab": {
      "name": "Form_a_num_divisible_by_3_using_array_digits.ipynb",
      "provenance": []
    },
    "kernelspec": {
      "name": "python3",
      "display_name": "Python 3"
    },
    "language_info": {
      "name": "python"
    }
  },
  "cells": [
    {
      "cell_type": "code",
      "metadata": {
        "colab": {
          "base_uri": "https://localhost:8080/"
        },
        "id": "sEZThPaLtx8Q",
        "outputId": "dfef0ccd-5efa-4591-836d-e71fd12b234c"
      },
      "source": [
        "sum=0\n",
        "temp=0\n",
        "N = 3\n",
        "arr = [40, 50, 90]\n",
        "for i in range(N):\n",
        "    temp= arr[i]%10\n",
        "    sum+=temp\n",
        "if sum%3==0:\n",
        "    print(1)\n",
        "else:\n",
        "    print(0)"
      ],
      "execution_count": 4,
      "outputs": [
        {
          "output_type": "stream",
          "text": [
            "1\n"
          ],
          "name": "stdout"
        }
      ]
    },
    {
      "cell_type": "code",
      "metadata": {
        "colab": {
          "base_uri": "https://localhost:8080/"
        },
        "id": "6vHP_-SFzUiu",
        "outputId": "93d34fdd-35ea-44f6-b671-a3a767be139f"
      },
      "source": [
        "N = 3\n",
        "sum = 0\n",
        "arr=[12,15,9]\n",
        "for i in arr:\n",
        "    sum += i\n",
        "if sum % 3 == 0:\n",
        "    print(1)\n",
        "else:\n",
        "  print(0)\n"
      ],
      "execution_count": 9,
      "outputs": [
        {
          "output_type": "stream",
          "text": [
            "1\n"
          ],
          "name": "stdout"
        }
      ]
    },
    {
      "cell_type": "code",
      "metadata": {
        "id": "4EcPHZIYzX4G"
      },
      "source": [
        ""
      ],
      "execution_count": null,
      "outputs": []
    }
  ]
}