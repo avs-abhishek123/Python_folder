{
  "nbformat": 4,
  "nbformat_minor": 0,
  "metadata": {
    "colab": {
      "name": "find-the-equilibrium-index-of-an-array.ipynb",
      "provenance": []
    },
    "kernelspec": {
      "name": "python3",
      "display_name": "Python 3"
    },
    "language_info": {
      "name": "python"
    }
  },
  "cells": [
    {
      "cell_type": "code",
      "metadata": {
        "colab": {
          "base_uri": "https://localhost:8080/"
        },
        "id": "48rIMOJ4oLw3",
        "outputId": "2fdfc7d9-4ef7-4fa9-b0fe-edb54c9cf3f9"
      },
      "source": [
        "d=1\n",
        "n=4\n",
        "a=[1,2,0,3]\n",
        "sum1=0\n",
        "sum2=0\n",
        "for i in a:\n",
        "    sum1+=a[i]\n",
        "    d+=1\n",
        "    print(sum1)\n"
      ],
      "execution_count": null,
      "outputs": [
        {
          "output_type": "stream",
          "text": [
            "2\n",
            "2\n",
            "3\n",
            "6\n"
          ],
          "name": "stdout"
        }
      ]
    },
    {
      "cell_type": "code",
      "metadata": {
        "colab": {
          "base_uri": "https://localhost:8080/"
        },
        "id": "XdbuwsZUFbL8",
        "outputId": "4197883c-b5f9-4788-c442-9057c5933b13"
      },
      "source": [
        "def equilibrium_index(arr):\n",
        "  leftsum = 0\n",
        "  rightsum = 0\n",
        "  n = len(arr)\n",
        "\n",
        "  for i in range(n):\n",
        "    leftsum = 0\n",
        "    rightsum = 0\n",
        "    for j in range(i):\n",
        "      leftsum += arr[j]\n",
        "\n",
        "    for j in range(i + 1, n):\n",
        "      rightsum += arr[j]\n",
        "\n",
        "    if leftsum == rightsum:\n",
        "      return i\n",
        "\n",
        "  return -1\n",
        "\n",
        "arr = [ 1,2,3,4,1,2,3]\n",
        "print(\"Equilibrium Index : \", end =\"\")\n",
        "print (equilibrium_index(arr))\n"
      ],
      "execution_count": null,
      "outputs": [
        {
          "output_type": "stream",
          "text": [
            "Equilibrium Index : 3\n"
          ],
          "name": "stdout"
        }
      ]
    },
    {
      "cell_type": "code",
      "metadata": {
        "colab": {
          "base_uri": "https://localhost:8080/"
        },
        "id": "nLedLe9sGwNC",
        "outputId": "f6345c58-5957-4bc1-d9d6-e1adbc5321eb"
      },
      "source": [
        "arr = [ 1,2,3,4,1,2,3]\n",
        "leftsum = 0\n",
        "rightsum = 0\n",
        "n = len(arr)\n",
        "\n",
        "for i in range(n):\n",
        "  leftsum = 0\n",
        "  rightsum = 0\n",
        "  for j in range(i):\n",
        "    leftsum+=arr[j]\n",
        "  for j in range(i+1,n):\n",
        "    rightsum+=arr[j]\n",
        "  if leftsum == rightsum:\n",
        "    print(i)\n"
      ],
      "execution_count": null,
      "outputs": [
        {
          "output_type": "stream",
          "text": [
            "3\n"
          ],
          "name": "stdout"
        }
      ]
    },
    {
      "cell_type": "code",
      "metadata": {
        "colab": {
          "base_uri": "https://localhost:8080/"
        },
        "id": "RDlTEmAeM0II",
        "outputId": "4b16e4b3-b3ae-4006-a00c-f92ed27b8935"
      },
      "source": [
        "def equilibrium_index(arr):\n",
        "  total_sum = sum(arr)\n",
        "  leftsum = 0\n",
        "  for i, num in enumerate(arr):\n",
        "    total_sum -= num\n",
        "\n",
        "    if leftsum == total_sum:\n",
        "      return i\n",
        "    leftsum += num\n",
        "\n",
        "  return -1\n",
        "\n",
        "arr = [1,2,3,4,5,1,2,3,4]\n",
        "print(\"Equilibrium Index :\", end = \"\")\n",
        "print (equilibrium_index(arr))"
      ],
      "execution_count": null,
      "outputs": [
        {
          "output_type": "stream",
          "text": [
            "Equilibrium Index :4\n"
          ],
          "name": "stdout"
        }
      ]
    },
    {
      "cell_type": "code",
      "metadata": {
        "colab": {
          "base_uri": "https://localhost:8080/"
        },
        "id": "UvkjHXUPOIt5",
        "outputId": "275287bd-b998-4a6b-b214-7c723a58a03a"
      },
      "source": [
        "arr = [1,2,3,4,5,1,2,3,4]\n",
        "total_sum = sum(arr)\n",
        "leftsum = 0\n",
        "print(total_sum)"
      ],
      "execution_count": null,
      "outputs": [
        {
          "output_type": "stream",
          "text": [
            "25\n"
          ],
          "name": "stdout"
        }
      ]
    },
    {
      "cell_type": "markdown",
      "metadata": {
        "id": "lz4NxdyH8PNv"
      },
      "source": [
        "https://www.programiz.com/python-programming/methods/built-in/enumerate"
      ]
    },
    {
      "cell_type": "markdown",
      "metadata": {
        "id": "6k-u8olt8PZF"
      },
      "source": [
        "#ENUMERATE()\n",
        "\n",
        "##enumerate(iterable, start=0)\n",
        "\n",
        "enumerate() Parameters\n",
        "enumerate() method takes two parameters:\n",
        "\n",
        "* iterable - a sequence, an iterator, or objects that supports iteration\n",
        "* start (optional) - enumerate() starts counting from this number. If start is omitted, 0 is taken as start.\n",
        "\n",
        "#Return Value from enumerate()\n",
        "\n",
        "enumerate() method adds counter to an iterable and returns it. The returned object is a enumerate object.\n",
        "\n",
        "You can convert enumerate objects to list and tuple using list() and tuple() method respectively."
      ]
    },
    {
      "cell_type": "code",
      "metadata": {
        "colab": {
          "base_uri": "https://localhost:8080/"
        },
        "id": "kOCtuRPmuTxW",
        "outputId": "6f5f22a6-7fb7-430d-f957-512db925404a"
      },
      "source": [
        "grocery = ['bread', 'milk', 'butter']\n",
        "enumerateGrocery = enumerate(grocery)\n",
        "\n",
        "print(type(enumerateGrocery))\n",
        "\n",
        "# converting to list\n",
        "print(list(enumerateGrocery))\n",
        "\n",
        "# changing the default counter\n",
        "enumerateGrocery = enumerate(grocery, 10)\n",
        "print(list(enumerateGrocery))"
      ],
      "execution_count": 1,
      "outputs": [
        {
          "output_type": "stream",
          "text": [
            "<class 'enumerate'>\n",
            "[(0, 'bread'), (1, 'milk'), (2, 'butter')]\n",
            "[(10, 'bread'), (11, 'milk'), (12, 'butter')]\n"
          ],
          "name": "stdout"
        }
      ]
    },
    {
      "cell_type": "code",
      "metadata": {
        "colab": {
          "base_uri": "https://localhost:8080/"
        },
        "id": "3J_1hKts9euq",
        "outputId": "72e2ff05-4d2d-4d2b-e385-c022d6fc8210"
      },
      "source": [
        "grocery = ['bread', 'milk', 'butter']\n",
        "\n",
        "for item in enumerate(grocery):\n",
        "  print(item)\n",
        "\n",
        "print('\\n')\n",
        "for count, item in enumerate(grocery):\n",
        "  print(count, item)\n",
        "\n",
        "print('\\n')\n",
        "# changing default start value\n",
        "for count, item in enumerate(grocery, 100):\n",
        "  print(count, item)"
      ],
      "execution_count": 2,
      "outputs": [
        {
          "output_type": "stream",
          "text": [
            "(0, 'bread')\n",
            "(1, 'milk')\n",
            "(2, 'butter')\n",
            "\n",
            "\n",
            "0 bread\n",
            "1 milk\n",
            "2 butter\n",
            "\n",
            "\n",
            "100 bread\n",
            "101 milk\n",
            "102 butter\n"
          ],
          "name": "stdout"
        }
      ]
    }
  ]
}