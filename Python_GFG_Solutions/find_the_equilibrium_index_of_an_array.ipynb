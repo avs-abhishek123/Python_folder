{
  "nbformat": 4,
  "nbformat_minor": 0,
  "metadata": {
    "colab": {
      "name": "find-the-equilibrium-index-of-an-array.ipynb",
      "provenance": []
    },
    "kernelspec": {
      "name": "python3",
      "display_name": "Python 3"
    },
    "language_info": {
      "name": "python"
    }
  },
  "cells": [
    {
      "cell_type": "code",
      "metadata": {
        "colab": {
          "base_uri": "https://localhost:8080/"
        },
        "id": "48rIMOJ4oLw3",
        "outputId": "2fdfc7d9-4ef7-4fa9-b0fe-edb54c9cf3f9"
      },
      "source": [
        "d=1\n",
        "n=4\n",
        "a=[1,2,0,3]\n",
        "sum1=0\n",
        "sum2=0\n",
        "for i in a:\n",
        "    sum1+=a[i]\n",
        "    d+=1\n",
        "    print(sum1)\n"
      ],
      "execution_count": null,
      "outputs": [
        {
          "output_type": "stream",
          "text": [
            "2\n",
            "2\n",
            "3\n",
            "6\n"
          ],
          "name": "stdout"
        }
      ]
    },
    {
      "cell_type": "code",
      "metadata": {
        "colab": {
          "base_uri": "https://localhost:8080/"
        },
        "id": "XdbuwsZUFbL8",
        "outputId": "4197883c-b5f9-4788-c442-9057c5933b13"
      },
      "source": [
        "def equilibrium_index(arr):\n",
        "  leftsum = 0\n",
        "  rightsum = 0\n",
        "  n = len(arr)\n",
        "\n",
        "  for i in range(n):\n",
        "    leftsum = 0\n",
        "    rightsum = 0\n",
        "    for j in range(i):\n",
        "      leftsum += arr[j]\n",
        "\n",
        "    for j in range(i + 1, n):\n",
        "      rightsum += arr[j]\n",
        "\n",
        "    if leftsum == rightsum:\n",
        "      return i\n",
        "\n",
        "  return -1\n",
        "\n",
        "arr = [ 1,2,3,4,1,2,3]\n",
        "print(\"Equilibrium Index : \", end =\"\")\n",
        "print (equilibrium_index(arr))\n"
      ],
      "execution_count": 9,
      "outputs": [
        {
          "output_type": "stream",
          "text": [
            "Equilibrium Index : 3\n"
          ],
          "name": "stdout"
        }
      ]
    },
    {
      "cell_type": "code",
      "metadata": {
        "colab": {
          "base_uri": "https://localhost:8080/"
        },
        "id": "nLedLe9sGwNC",
        "outputId": "f6345c58-5957-4bc1-d9d6-e1adbc5321eb"
      },
      "source": [
        "arr = [ 1,2,3,4,1,2,3]\n",
        "leftsum = 0\n",
        "rightsum = 0\n",
        "n = len(arr)\n",
        "\n",
        "for i in range(n):\n",
        "  leftsum = 0\n",
        "  rightsum = 0\n",
        "  for j in range(i):\n",
        "    leftsum+=arr[j]\n",
        "  for j in range(i+1,n):\n",
        "    rightsum+=arr[j]\n",
        "  if leftsum == rightsum:\n",
        "    print(i)\n"
      ],
      "execution_count": 22,
      "outputs": [
        {
          "output_type": "stream",
          "text": [
            "3\n"
          ],
          "name": "stdout"
        }
      ]
    },
    {
      "cell_type": "code",
      "metadata": {
        "colab": {
          "base_uri": "https://localhost:8080/"
        },
        "id": "RDlTEmAeM0II",
        "outputId": "4b16e4b3-b3ae-4006-a00c-f92ed27b8935"
      },
      "source": [
        "def equilibrium_index(arr):\n",
        "  total_sum = sum(arr)\n",
        "  leftsum = 0\n",
        "  for i, num in enumerate(arr):\n",
        "    total_sum -= num\n",
        "\n",
        "    if leftsum == total_sum:\n",
        "      return i\n",
        "    leftsum += num\n",
        "\n",
        "  return -1\n",
        "\n",
        "arr = [1,2,3,4,5,1,2,3,4]\n",
        "print(\"Equilibrium Index :\", end = \"\")\n",
        "print (equilibrium_index(arr))"
      ],
      "execution_count": 26,
      "outputs": [
        {
          "output_type": "stream",
          "text": [
            "Equilibrium Index :4\n"
          ],
          "name": "stdout"
        }
      ]
    },
    {
      "cell_type": "code",
      "metadata": {
        "colab": {
          "base_uri": "https://localhost:8080/"
        },
        "id": "UvkjHXUPOIt5",
        "outputId": "275287bd-b998-4a6b-b214-7c723a58a03a"
      },
      "source": [
        "arr = [1,2,3,4,5,1,2,3,4]\n",
        "total_sum = sum(arr)\n",
        "leftsum = 0\n",
        "print(total_sum)"
      ],
      "execution_count": 28,
      "outputs": [
        {
          "output_type": "stream",
          "text": [
            "25\n"
          ],
          "name": "stdout"
        }
      ]
    }
  ]
}