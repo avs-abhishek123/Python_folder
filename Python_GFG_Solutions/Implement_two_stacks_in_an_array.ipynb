{
  "nbformat": 4,
  "nbformat_minor": 0,
  "metadata": {
    "colab": {
      "name": "Implement_two_stacks_in_an_array.ipynb",
      "provenance": [],
      "collapsed_sections": []
    },
    "kernelspec": {
      "name": "python3",
      "display_name": "Python 3"
    },
    "language_info": {
      "name": "python"
    }
  },
  "cells": [
    {
      "cell_type": "code",
      "metadata": {
        "id": "ufmHRVw8dWEy"
      },
      "source": [
        "\n",
        "def push1(a,x):\n",
        "    #code here\n",
        "    global top1\n",
        "    top1+=1\n",
        "    a[top1] = x\n",
        "    \n",
        "#Function to push an integer into the stack2.\n",
        "def push2(a,x):\n",
        "    #code here\n",
        "    global top2\n",
        "    top2-=1\n",
        "    a[top2] = x\n",
        "#Function to remove an element from top of the stack1.    \n",
        "def pop1(a):\n",
        "    #code here\n",
        "    global top1\n",
        "    if top1 is -1:\n",
        "        return -1\n",
        "    else:\n",
        "        top1-=1\n",
        "        return a[top1+1]\n",
        "#Function to remove an element from top of the stack2.    \n",
        "def pop2(a):\n",
        "    #code here\n",
        "    global top2\n",
        "    if top2 is 101:\n",
        "        return -1\n",
        "    else:\n",
        "        top2+=1\n",
        "        return a[top2-1]"
      ],
      "execution_count": 1,
      "outputs": []
    },
    {
      "cell_type": "code",
      "metadata": {
        "colab": {
          "base_uri": "https://localhost:8080/",
          "height": 237
        },
        "id": "BKc_xCyedc7n",
        "outputId": "a34763e5-652e-45f1-cc91-b3ea56c8e67a"
      },
      "source": [
        "import atexit\n",
        "import io\n",
        "import sys\n",
        "\n",
        "\n",
        "_INPUT_LINES = sys.stdin.read().splitlines()\n",
        "input = iter(_INPUT_LINES).__next__\n",
        "_OUTPUT_BUFFER = io.StringIO()\n",
        "sys.stdout = _OUTPUT_BUFFER\n",
        "\n",
        "@atexit.register\n",
        "\n",
        "def write():\n",
        "    sys.__stdout__.write(_OUTPUT_BUFFER.getvalue())\n",
        "\n",
        "top2=101\n",
        "top1=-1\n",
        "\n",
        "if __name__ == '__main__':\n",
        "    test_cases = int(input())\n",
        "    for cases in range(test_cases) :\n",
        "        n = int(input())\n",
        "        arr = list(map(int,input().strip().split()))\n",
        "        a = [-1 for i in range(101)] # array to be used for the 2 stacks.\n",
        "        i=0 # curr index\n",
        "        while i<len(arr):\n",
        "            if arr[i] == 1:\n",
        "                if arr[i+1] == 1:\n",
        "                    push1(a,arr[i+2])\n",
        "                    i+=1\n",
        "                else:\n",
        "                    print(pop1(a),end=\" \")\n",
        "                i+=1\n",
        "            else:\n",
        "                if arr[i+1] == 1:\n",
        "                    push2(a,arr[i+2])\n",
        "                    i+=1\n",
        "                else:\n",
        "                   print(pop2(a),end=\" \")\n",
        "                i+=1\n",
        "            i+=1\n",
        "        top2=101\n",
        "        top1=-1\n",
        "        print(' ')\n"
      ],
      "execution_count": 2,
      "outputs": [
        {
          "output_type": "error",
          "ename": "StopIteration",
          "evalue": "ignored",
          "traceback": [
            "\u001b[0;31m---------------------------------------------------------------------------\u001b[0m",
            "\u001b[0;31mStopIteration\u001b[0m                             Traceback (most recent call last)",
            "\u001b[0;32m<ipython-input-2-18acc05e41ba>\u001b[0m in \u001b[0;36m<module>\u001b[0;34m()\u001b[0m\n\u001b[1;32m     18\u001b[0m \u001b[0;34m\u001b[0m\u001b[0m\n\u001b[1;32m     19\u001b[0m \u001b[0;32mif\u001b[0m \u001b[0m__name__\u001b[0m \u001b[0;34m==\u001b[0m \u001b[0;34m'__main__'\u001b[0m\u001b[0;34m:\u001b[0m\u001b[0;34m\u001b[0m\u001b[0;34m\u001b[0m\u001b[0m\n\u001b[0;32m---> 20\u001b[0;31m     \u001b[0mtest_cases\u001b[0m \u001b[0;34m=\u001b[0m \u001b[0mint\u001b[0m\u001b[0;34m(\u001b[0m\u001b[0minput\u001b[0m\u001b[0;34m(\u001b[0m\u001b[0;34m)\u001b[0m\u001b[0;34m)\u001b[0m\u001b[0;34m\u001b[0m\u001b[0;34m\u001b[0m\u001b[0m\n\u001b[0m\u001b[1;32m     21\u001b[0m     \u001b[0;32mfor\u001b[0m \u001b[0mcases\u001b[0m \u001b[0;32min\u001b[0m \u001b[0mrange\u001b[0m\u001b[0;34m(\u001b[0m\u001b[0mtest_cases\u001b[0m\u001b[0;34m)\u001b[0m \u001b[0;34m:\u001b[0m\u001b[0;34m\u001b[0m\u001b[0;34m\u001b[0m\u001b[0m\n\u001b[1;32m     22\u001b[0m         \u001b[0mn\u001b[0m \u001b[0;34m=\u001b[0m \u001b[0mint\u001b[0m\u001b[0;34m(\u001b[0m\u001b[0minput\u001b[0m\u001b[0;34m(\u001b[0m\u001b[0;34m)\u001b[0m\u001b[0;34m)\u001b[0m\u001b[0;34m\u001b[0m\u001b[0;34m\u001b[0m\u001b[0m\n",
            "\u001b[0;31mStopIteration\u001b[0m: "
          ]
        }
      ]
    }
  ]
}