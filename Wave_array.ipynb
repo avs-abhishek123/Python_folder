{
  "nbformat": 4,
  "nbformat_minor": 0,
  "metadata": {
    "colab": {
      "name": "Wave array.ipynb",
      "provenance": [],
      "collapsed_sections": []
    },
    "kernelspec": {
      "name": "python3",
      "display_name": "Python 3"
    },
    "language_info": {
      "name": "python"
    }
  },
  "cells": [
    {
      "cell_type": "code",
      "metadata": {
        "colab": {
          "base_uri": "https://localhost:8080/"
        },
        "id": "7Zlvu1NjG0MY",
        "outputId": "346e0842-c9c6-42de-8d52-f88244a0b436"
      },
      "source": [
        "arr=[9,2,3,4,5,6,7]\n",
        "N=len(arr)\n",
        "for i in range(0,N-1,2):\n",
        "  arr[i],arr[i+1]=arr[i+1],arr[i]\n",
        "print(arr)\n"
      ],
      "execution_count": 3,
      "outputs": [
        {
          "output_type": "stream",
          "text": [
            "[2, 9, 4, 3, 6, 5, 7]\n"
          ],
          "name": "stdout"
        }
      ]
    }
  ]
}