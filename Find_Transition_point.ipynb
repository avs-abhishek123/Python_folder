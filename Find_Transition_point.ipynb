{
  "nbformat": 4,
  "nbformat_minor": 0,
  "metadata": {
    "colab": {
      "name": "Find_Transition_point.ipynb",
      "provenance": []
    },
    "kernelspec": {
      "name": "python3",
      "display_name": "Python 3"
    },
    "language_info": {
      "name": "python"
    }
  },
  "cells": [
    {
      "cell_type": "code",
      "metadata": {
        "colab": {
          "base_uri": "https://localhost:8080/"
        },
        "id": "TnbTcFuVAvco",
        "outputId": "dd49e0be-50ac-4917-cbf7-589648ee1406"
      },
      "source": [
        "arr=[0,0,0,1,0,1]\n",
        "n=len(arr)\n",
        "if 1 in arr:\n",
        "    for i in range(n):\n",
        "        if arr[i]==1:\n",
        "            print(i)\n",
        "            break\n",
        "else:\n",
        "    print(-1)"
      ],
      "execution_count": 6,
      "outputs": [
        {
          "output_type": "stream",
          "text": [
            "3\n"
          ],
          "name": "stdout"
        }
      ]
    }
  ]
}