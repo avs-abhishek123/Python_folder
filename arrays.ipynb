{
  "nbformat": 4,
  "nbformat_minor": 0,
  "metadata": {
    "colab": {
      "name": "arrays.ipynb",
      "provenance": [],
      "collapsed_sections": []
    },
    "kernelspec": {
      "name": "python3",
      "display_name": "Python 3"
    },
    "language_info": {
      "name": "python"
    }
  },
  "cells": [
    {
      "cell_type": "markdown",
      "metadata": {
        "id": "pqU4oLolJE9z"
      },
      "source": [
        ""
      ]
    },
    {
      "cell_type": "markdown",
      "metadata": {
        "id": "PWxfYBjjJBzu"
      },
      "source": [
        "Reverse the array position in place\n",
        "\n",
        "Square root of a no.\n",
        "\n",
        "GCD\n",
        "\n",
        "String reverse\n",
        "\n",
        "Fibonacci series\n",
        "\n",
        "Amstrong No.\n",
        "\n",
        "Print prime numbers till n\n"
      ]
    },
    {
      "cell_type": "code",
      "metadata": {
        "colab": {
          "base_uri": "https://localhost:8080/"
        },
        "id": "SZbMOWDjFtky",
        "outputId": "d94ef4c1-c1aa-448d-c043-8cac1e3f055f"
      },
      "source": [
        "a=[2,3,4,5,6,7]\n",
        "print(a[::-1])\n"
      ],
      "execution_count": 9,
      "outputs": [
        {
          "output_type": "stream",
          "text": [
            "[7, 6, 5, 4, 3, 2]\n",
            "[2, 3, 4, 5, 6, 7]\n",
            "7 6 5 4 3 "
          ],
          "name": "stdout"
        }
      ]
    },
    {
      "cell_type": "code",
      "metadata": {
        "colab": {
          "base_uri": "https://localhost:8080/"
        },
        "id": "nb30ovxUjFPv",
        "outputId": "a91e4592-92e3-4380-bfb1-8d4c1e614403"
      },
      "source": [
        "import math\n",
        "n=100\n",
        "print(math.sqrt(n))"
      ],
      "execution_count": 11,
      "outputs": [
        {
          "output_type": "stream",
          "text": [
            "10.0\n"
          ],
          "name": "stdout"
        }
      ]
    },
    {
      "cell_type": "code",
      "metadata": {
        "colab": {
          "base_uri": "https://localhost:8080/"
        },
        "id": "HvfrTEtYmoVZ",
        "outputId": "7eead676-99e0-47ee-9f7b-7cc502edc103"
      },
      "source": [
        "#Print prime numbers till n\n",
        "start=1\n",
        "end=11\n",
        "for i in range(start,end+1):\n",
        "  if i>1:\n",
        "    for j in range(2,i):\n",
        "      if (i%j)==0:\n",
        "        break\n",
        "    else:\n",
        "       print(i, end=\" \")\n"
      ],
      "execution_count": 47,
      "outputs": [
        {
          "output_type": "stream",
          "text": [
            "2 3 5 7 11 "
          ],
          "name": "stdout"
        }
      ]
    },
    {
      "cell_type": "code",
      "metadata": {
        "colab": {
          "base_uri": "https://localhost:8080/"
        },
        "id": "EAsgDuigpwBQ",
        "outputId": "f5aa71c0-a0ad-483b-fd19-de1dc5cd9644"
      },
      "source": [
        "a=[1,2,3,4,5]\n",
        "p=2\n",
        "new= a[p::-1]\n",
        "if p<len(a):\n",
        "  for i in range(p+1,len(a)):\n",
        "    new.append(a[i])\n",
        "print(new)\n",
        "\n"
      ],
      "execution_count": 40,
      "outputs": [
        {
          "output_type": "stream",
          "text": [
            "[3, 2, 1, 4, 5]\n"
          ],
          "name": "stdout"
        }
      ]
    },
    {
      "cell_type": "code",
      "metadata": {
        "colab": {
          "base_uri": "https://localhost:8080/"
        },
        "id": "i38bk_I2qMf1",
        "outputId": "02d06134-8496-43a8-d629-834d3ddfe294"
      },
      "source": [
        "a=[1,2,3,4,5]\n",
        "p=3\n",
        "print(a[p-1::-1])\n",
        "#for i in range(len(a)):"
      ],
      "execution_count": 32,
      "outputs": [
        {
          "output_type": "stream",
          "text": [
            "[3, 2, 1]\n"
          ],
          "name": "stdout"
        }
      ]
    },
    {
      "cell_type": "code",
      "metadata": {
        "colab": {
          "base_uri": "https://localhost:8080/"
        },
        "id": "VcktAd5MxEy1",
        "outputId": "eea50c7c-63f1-45d0-f96d-2905c150e655"
      },
      "source": [
        "stri=\"abhishek\"\n",
        "print(stri[::-1])\n"
      ],
      "execution_count": 49,
      "outputs": [
        {
          "output_type": "stream",
          "text": [
            "kehsihba\n"
          ],
          "name": "stdout"
        }
      ]
    },
    {
      "cell_type": "markdown",
      "metadata": {
        "id": "jrULgi3n3I2Z"
      },
      "source": [
        "FIBONAACI"
      ]
    },
    {
      "cell_type": "code",
      "metadata": {
        "colab": {
          "base_uri": "https://localhost:8080/"
        },
        "id": "Xk5uD3emxJvc",
        "outputId": "803cd641-f661-40a5-ed81-8747975f5ec2"
      },
      "source": [
        "#1,1,2,3,5,8,13\n",
        "\n",
        "sum=1\n",
        "a=0\n",
        "b=1\n",
        "c=0\n",
        "n=10\n",
        "print(a,b, end= \" \")\n",
        "for i in range(1,n-1): \n",
        "  c =a+b\n",
        "  a=b\n",
        "  b=c\n",
        "  print(c, end=\" \") \n",
        "  "
      ],
      "execution_count": 73,
      "outputs": [
        {
          "output_type": "stream",
          "text": [
            "0 1 1 2 3 5 8 13 21 34 "
          ],
          "name": "stdout"
        }
      ]
    },
    {
      "cell_type": "code",
      "metadata": {
        "id": "53iFZVh88K1i"
      },
      "source": [
        "def fibonacci():\n",
        "  "
      ],
      "execution_count": null,
      "outputs": []
    },
    {
      "cell_type": "markdown",
      "metadata": {
        "id": "vHs2p0Qz4k-m"
      },
      "source": [
        "Amstrong\n",
        "\n",
        "#153=1x1x1+3x3x3+5x5x5"
      ]
    },
    {
      "cell_type": "code",
      "metadata": {
        "colab": {
          "base_uri": "https://localhost:8080/"
        },
        "id": "iYxtrXeU4r28",
        "outputId": "464d0ee2-3acc-41b2-fcdc-ecb8e8d1a324"
      },
      "source": [
        "n=153\n",
        "sum=0\n",
        "d=0\n",
        "temp=n\n",
        "while n!=0:\n",
        "  d=n%10\n",
        "  sum =sum +(d*d*d)\n",
        "  n=n//10\n",
        "if sum==temp:\n",
        "  print(\"amstrong\")\n",
        "else:\n",
        "  print(\"Not amstrong\")"
      ],
      "execution_count": 80,
      "outputs": [
        {
          "output_type": "stream",
          "text": [
            "amstrong\n"
          ],
          "name": "stdout"
        }
      ]
    },
    {
      "cell_type": "code",
      "metadata": {
        "id": "wvjaws1fENYa"
      },
      "source": [
        ""
      ],
      "execution_count": null,
      "outputs": []
    },
    {
      "cell_type": "code",
      "metadata": {
        "colab": {
          "base_uri": "https://localhost:8080/"
        },
        "id": "VvM9P587ENhS",
        "outputId": "44164a04-80d3-4348-d71a-1131a7b37b5c"
      },
      "source": [
        "def Fibonacci(n):\n",
        "   \n",
        "    # Check if input is 0 then it will\n",
        "    # print incorrect input\n",
        "    if n < 0:\n",
        "        print(\"Incorrect input\")\n",
        " \n",
        "    # Check if n is 0\n",
        "    # then it will return 0\n",
        "    elif n == 0:\n",
        "        return 0\n",
        " \n",
        "    # Check if n is 1,2\n",
        "    # it will return 1\n",
        "    elif n == 1 or n == 2:\n",
        "        return 1\n",
        " \n",
        "    else:\n",
        "        return Fibonacci(n-1) + Fibonacci(n-2)\n",
        " \n",
        "# Driver Program\n",
        "print(Fibonacci(9))"
      ],
      "execution_count": 81,
      "outputs": [
        {
          "output_type": "stream",
          "text": [
            "34\n"
          ],
          "name": "stdout"
        }
      ]
    },
    {
      "cell_type": "markdown",
      "metadata": {
        "id": "kEsj7RGNEo0l"
      },
      "source": [
        "GCD"
      ]
    },
    {
      "cell_type": "code",
      "metadata": {
        "colab": {
          "base_uri": "https://localhost:8080/"
        },
        "id": "oW40EcmhBkdk",
        "outputId": "55d6f8be-a0d2-4f11-b633-a376027a7791"
      },
      "source": [
        "a=int(input())\n",
        "b=int(input())\n",
        "gcd=1\n",
        "if a>b:\n",
        "  for i in range(1,b+1):\n",
        "    if (b%i==0 and a%i==0):\n",
        "      gcd*=i\n",
        "  print(gcd)\n",
        "if b>a:\n",
        "    for i in range(1,a+1):\n",
        "    if (b%i==0 and a%i==0):\n",
        "      gcd*=i\n",
        "  print(gcd)"
      ],
      "execution_count": 89,
      "outputs": [
        {
          "output_type": "stream",
          "text": [
            "5\n"
          ],
          "name": "stdout"
        }
      ]
    }
  ]
}